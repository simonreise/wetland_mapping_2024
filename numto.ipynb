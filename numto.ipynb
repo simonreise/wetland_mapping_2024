{
 "cells": [
  {
   "cell_type": "markdown",
   "id": "878802b4-b4e8-46da-bd2c-768b6962ad9b",
   "metadata": {},
   "source": [
    "# Python code for *Application of Machine Learning Techniques to Map Wetland Types in the Numto Nature Park (Western Siberia)*\n",
    "\n",
    "This Jupyter Notebook contains code that was used to process the data, train the model and map the modeling results while preparing *\"Application of Machine Learning Techniques to Map Wetland Types in the Numto Nature Park (Western Siberia)\"*."
   ]
  },
  {
   "cell_type": "code",
   "execution_count": 1,
   "id": "6b5778f2-fa06-4ec1-9653-e7fe12cc16df",
   "metadata": {},
   "outputs": [],
   "source": [
    "import os\n",
    "import sys\n",
    "from glob import glob"
   ]
  },
  {
   "cell_type": "code",
   "execution_count": 2,
   "id": "558ceece-2c05-4c1f-a024-46c76689557f",
   "metadata": {},
   "outputs": [],
   "source": [
    "import remote_sensing_processor as rsp"
   ]
  },
  {
   "cell_type": "markdown",
   "id": "2da6f807-f0a5-4633-b702-384362ac8082",
   "metadata": {},
   "source": [
    "### Landsat preprocessing\n",
    "\n",
    "It includes DOS1 atmospheric correction, pansharpening, min-max normalization, cloud masking."
   ]
  },
  {
   "cell_type": "code",
   "execution_count": 3,
   "id": "bffb42ed-3055-48f4-9a00-03fc3c4fe775",
   "metadata": {},
   "outputs": [
    {
     "data": {
      "text/plain": [
       "['E:\\\\Work\\\\numto\\\\data\\\\autumn\\\\LC08_L1TP_159015_20200916_20200920_02_T1.tar',\n",
       " 'E:\\\\Work\\\\numto\\\\data\\\\autumn\\\\LC08_L1TP_159016_20200916_20200920_02_T1.tar',\n",
       " 'E:\\\\Work\\\\numto\\\\data\\\\autumn\\\\LC08_L1TP_159016_20201002_20201007_02_T1.tar',\n",
       " 'E:\\\\Work\\\\numto\\\\data\\\\autumn\\\\LC08_L1TP_160015_20191007_20200825_02_T1.tar',\n",
       " 'E:\\\\Work\\\\numto\\\\data\\\\autumn\\\\LC08_L1TP_160015_20201009_20201016_02_T1.tar',\n",
       " 'E:\\\\Work\\\\numto\\\\data\\\\autumn\\\\LC08_L1TP_161015_20160919_20200906_02_T1.tar',\n",
       " 'E:\\\\Work\\\\numto\\\\data\\\\autumn\\\\LC08_L1TP_161015_20180925_20200830_02_T1.tar',\n",
       " 'E:\\\\Work\\\\numto\\\\data\\\\autumn\\\\LC08_L1TP_161016_20180925_20200830_02_T1.tar',\n",
       " 'E:\\\\Work\\\\numto\\\\data\\\\spring\\\\LC08_L1TP_159015_20190509_20200829_02_T1.tar',\n",
       " 'E:\\\\Work\\\\numto\\\\data\\\\spring\\\\LC08_L1TP_159016_20190509_20200829_02_T1.tar',\n",
       " 'E:\\\\Work\\\\numto\\\\data\\\\spring\\\\LC08_L1TP_161015_20150512_20200909_02_T1.tar',\n",
       " 'E:\\\\Work\\\\numto\\\\data\\\\spring\\\\LC08_L1TP_161015_20190507_20200828_02_T1.tar',\n",
       " 'E:\\\\Work\\\\numto\\\\data\\\\summer\\\\LC08_L1TP_160015_20180716_20200831_02_T1.tar',\n",
       " 'E:\\\\Work\\\\numto\\\\data\\\\summer\\\\LC08_L1TP_160015_20190703_20200827_02_T1.tar',\n",
       " 'E:\\\\Work\\\\numto\\\\data\\\\summer\\\\LC08_L1TP_160015_20200806_20200916_02_T1.tar',\n",
       " 'E:\\\\Work\\\\numto\\\\data\\\\summer\\\\LC08_L1TP_160016_20180716_20200831_02_T1.tar',\n",
       " 'E:\\\\Work\\\\numto\\\\data\\\\summer\\\\LC08_L1TP_160016_20190703_20200827_02_T1.tar',\n",
       " 'E:\\\\Work\\\\numto\\\\data\\\\summer\\\\LC08_L1TP_160016_20200806_20200916_02_T1.tar',\n",
       " 'E:\\\\Work\\\\numto\\\\data\\\\winter\\\\LC08_L1TP_159016_20190218_20200829_02_T1.tar',\n",
       " 'E:\\\\Work\\\\numto\\\\data\\\\winter\\\\LC08_L1TP_160015_20180121_20200902_02_T1.tar',\n",
       " 'E:\\\\Work\\\\numto\\\\data\\\\winter\\\\LC08_L1TP_160016_20200212_20200823_02_T1.tar',\n",
       " 'E:\\\\Work\\\\numto\\\\data\\\\winter\\\\LC08_L1TP_161015_20190131_20200829_02_T1.tar',\n",
       " 'E:\\\\Work\\\\numto\\\\data\\\\winter\\\\LC08_L1TP_161016_20190131_20200829_02_T1.tar']"
      ]
     },
     "execution_count": 3,
     "metadata": {},
     "output_type": "execute_result"
    }
   ],
   "source": [
    "landsats = glob(r\"E:\\Work\\numto\\data\\*\\*.tar\")\n",
    "landsats"
   ]
  },
  {
   "cell_type": "code",
   "execution_count": 4,
   "id": "5ce8f264-e50b-4bd5-80f1-3a768fb584e9",
   "metadata": {},
   "outputs": [
    {
     "name": "stdout",
     "output_type": "stream",
     "text": [
      "Preprocessing of E:\\Work\\numto\\data\\autumn\\LC08_L1TP_159015_20200916_20200920_02_T1.tar completed\n",
      "Preprocessing of E:\\Work\\numto\\data\\autumn\\LC08_L1TP_159016_20200916_20200920_02_T1.tar completed\n",
      "Preprocessing of E:\\Work\\numto\\data\\autumn\\LC08_L1TP_159016_20201002_20201007_02_T1.tar completed\n",
      "Preprocessing of E:\\Work\\numto\\data\\autumn\\LC08_L1TP_160015_20191007_20200825_02_T1.tar completed\n",
      "Preprocessing of E:\\Work\\numto\\data\\autumn\\LC08_L1TP_160015_20201009_20201016_02_T1.tar completed\n",
      "Preprocessing of E:\\Work\\numto\\data\\autumn\\LC08_L1TP_161015_20160919_20200906_02_T1.tar completed\n",
      "Preprocessing of E:\\Work\\numto\\data\\autumn\\LC08_L1TP_161015_20180925_20200830_02_T1.tar completed\n",
      "Preprocessing of E:\\Work\\numto\\data\\autumn\\LC08_L1TP_161016_20180925_20200830_02_T1.tar completed\n",
      "Preprocessing of E:\\Work\\numto\\data\\spring\\LC08_L1TP_159015_20190509_20200829_02_T1.tar completed\n",
      "Preprocessing of E:\\Work\\numto\\data\\spring\\LC08_L1TP_159016_20190509_20200829_02_T1.tar completed\n",
      "Preprocessing of E:\\Work\\numto\\data\\spring\\LC08_L1TP_161015_20150512_20200909_02_T1.tar completed\n",
      "Preprocessing of E:\\Work\\numto\\data\\spring\\LC08_L1TP_161015_20190507_20200828_02_T1.tar completed\n",
      "Preprocessing of E:\\Work\\numto\\data\\summer\\LC08_L1TP_160015_20180716_20200831_02_T1.tar completed\n",
      "Preprocessing of E:\\Work\\numto\\data\\summer\\LC08_L1TP_160015_20190703_20200827_02_T1.tar completed\n",
      "Preprocessing of E:\\Work\\numto\\data\\summer\\LC08_L1TP_160015_20200806_20200916_02_T1.tar completed\n",
      "Preprocessing of E:\\Work\\numto\\data\\summer\\LC08_L1TP_160016_20180716_20200831_02_T1.tar completed\n",
      "Preprocessing of E:\\Work\\numto\\data\\summer\\LC08_L1TP_160016_20190703_20200827_02_T1.tar completed\n",
      "Preprocessing of E:\\Work\\numto\\data\\summer\\LC08_L1TP_160016_20200806_20200916_02_T1.tar completed\n",
      "Preprocessing of E:\\Work\\numto\\data\\winter\\LC08_L1TP_159016_20190218_20200829_02_T1.tar completed\n",
      "Preprocessing of E:\\Work\\numto\\data\\winter\\LC08_L1TP_160015_20180121_20200902_02_T1.tar completed\n",
      "Preprocessing of E:\\Work\\numto\\data\\winter\\LC08_L1TP_160016_20200212_20200823_02_T1.tar completed\n",
      "Preprocessing of E:\\Work\\numto\\data\\winter\\LC08_L1TP_161015_20190131_20200829_02_T1.tar completed\n",
      "Preprocessing of E:\\Work\\numto\\data\\winter\\LC08_L1TP_161016_20190131_20200829_02_T1.tar completed\n"
     ]
    }
   ],
   "source": [
    "out_landsats = rsp.landsat(landsats, normalize_t = True)"
   ]
  },
  {
   "cell_type": "markdown",
   "id": "711fc4ff-62c8-42aa-97f8-ac33b09c74ca",
   "metadata": {},
   "source": [
    "### Generating mosaics\n",
    "\n",
    "In this stage we generate Landsat mosaics for each of four seasons and DEM mosaic. Landsat images are merged in order from images with less nodata values (usually have better quality due to lesser cloud cover) to more nodata. We also fill nodata and perform histogram matching."
   ]
  },
  {
   "cell_type": "code",
   "execution_count": 3,
   "id": "5f007dec-bd55-43da-93c7-ec7313a02eb9",
   "metadata": {},
   "outputs": [
    {
     "data": {
      "text/plain": [
       "['E:\\\\\\\\Work\\\\\\\\numto\\\\\\\\data\\\\\\\\winter\\\\LC08_L1TP_159016_20190218_20200829_02_T1\\\\',\n",
       " 'E:\\\\\\\\Work\\\\\\\\numto\\\\\\\\data\\\\\\\\winter\\\\LC08_L1TP_160015_20180121_20200902_02_T1\\\\',\n",
       " 'E:\\\\\\\\Work\\\\\\\\numto\\\\\\\\data\\\\\\\\winter\\\\LC08_L1TP_160016_20200212_20200823_02_T1\\\\',\n",
       " 'E:\\\\\\\\Work\\\\\\\\numto\\\\\\\\data\\\\\\\\winter\\\\LC08_L1TP_161015_20190131_20200829_02_T1\\\\',\n",
       " 'E:\\\\\\\\Work\\\\\\\\numto\\\\\\\\data\\\\\\\\winter\\\\LC08_L1TP_161016_20190131_20200829_02_T1\\\\']"
      ]
     },
     "execution_count": 3,
     "metadata": {},
     "output_type": "execute_result"
    }
   ],
   "source": [
    "winter_landsat = glob(r\"E:\\\\Work\\\\numto\\\\data\\\\winter\\\\*LC*\\\\\")\n",
    "winter_landsat"
   ]
  },
  {
   "cell_type": "code",
   "execution_count": 4,
   "id": "6c6cc508-5426-450d-a5cd-475681747f21",
   "metadata": {},
   "outputs": [
    {
     "data": {
      "text/plain": [
       "['E:\\\\\\\\Work\\\\\\\\numto\\\\\\\\data\\\\\\\\winter\\\\LC08_L1TP_161015_20190131_20200829_02_T1\\\\',\n",
       " 'E:\\\\\\\\Work\\\\\\\\numto\\\\\\\\data\\\\\\\\winter\\\\LC08_L1TP_160016_20200212_20200823_02_T1\\\\',\n",
       " 'E:\\\\\\\\Work\\\\\\\\numto\\\\\\\\data\\\\\\\\winter\\\\LC08_L1TP_160015_20180121_20200902_02_T1\\\\',\n",
       " 'E:\\\\\\\\Work\\\\\\\\numto\\\\\\\\data\\\\\\\\winter\\\\LC08_L1TP_159016_20190218_20200829_02_T1\\\\',\n",
       " 'E:\\\\\\\\Work\\\\\\\\numto\\\\\\\\data\\\\\\\\winter\\\\LC08_L1TP_161016_20190131_20200829_02_T1\\\\']"
      ]
     },
     "execution_count": 4,
     "metadata": {},
     "output_type": "execute_result"
    }
   ],
   "source": [
    "winter_landsat = [winter_landsat[i] for i in [3, 2, 1, 0, 4]]\n",
    "winter_landsat"
   ]
  },
  {
   "cell_type": "markdown",
   "id": "b16949f5-2aa5-404f-ad75-2557d0d27415",
   "metadata": {},
   "source": [
    "`_all` mosaics also include data for adjacent areas."
   ]
  },
  {
   "cell_type": "code",
   "execution_count": 5,
   "id": "ec47c48a-7b12-44f9-a2c3-00cb55268859",
   "metadata": {},
   "outputs": [
    {
     "name": "stdout",
     "output_type": "stream",
     "text": [
      "Processing band B1 is completed\n",
      "Processing band B2 is completed\n",
      "Processing band B3 is completed\n",
      "Processing band B4 is completed\n",
      "Processing band B5 is completed\n",
      "Processing band B6 is completed\n",
      "Processing band B7 is completed\n",
      "Processing band B9 is completed\n",
      "Processing band B10 is completed\n",
      "Processing band B11 is completed\n"
     ]
    }
   ],
   "source": [
    "winter_landsat_all = rsp.mosaic(winter_landsat, r\"E:\\\\Work\\\\numto\\\\data\\\\winter\\\\all\", fill_nodata = True, fill_distance = 100, clip = r\"E:\\Work\\numto\\border_all.gpkg\", match_hist = True)"
   ]
  },
  {
   "cell_type": "markdown",
   "id": "5e34f152-2cd6-4754-afb2-0bebe2ac4d47",
   "metadata": {},
   "source": [
    "`_train` mosaics include only data for the park area."
   ]
  },
  {
   "cell_type": "code",
   "execution_count": 6,
   "id": "a11d3140-0bb5-4c11-8e56-fdbecc2105d5",
   "metadata": {},
   "outputs": [
    {
     "name": "stdout",
     "output_type": "stream",
     "text": [
      "Processing band B1 is completed\n",
      "Processing band B2 is completed\n",
      "Processing band B3 is completed\n",
      "Processing band B4 is completed\n",
      "Processing band B5 is completed\n",
      "Processing band B6 is completed\n",
      "Processing band B7 is completed\n",
      "Processing band B9 is completed\n",
      "Processing band B10 is completed\n",
      "Processing band B11 is completed\n"
     ]
    }
   ],
   "source": [
    "winter_landsat_train = rsp.mosaic(winter_landsat, r\"E:\\\\Work\\\\numto\\\\data\\\\winter\\\\train\", fill_nodata = True, fill_distance = 100, clip = r\"E:\\Work\\numto\\border.gpkg\", match_hist = True)"
   ]
  },
  {
   "cell_type": "markdown",
   "id": "f8fd0338-e933-4fcd-b098-c57c0c22ca37",
   "metadata": {},
   "source": [
    "To force all the mosaics to have the same resolution and size we set `winter` mosaics as reference rasters."
   ]
  },
  {
   "cell_type": "code",
   "execution_count": 7,
   "id": "aa201d8f-e1d4-4667-826c-6400e7ce637c",
   "metadata": {},
   "outputs": [],
   "source": [
    "ref_all = r\"E:\\Work\\numto\\data\\winter\\all\\B1.tif\"\n",
    "ref_train = r\"E:\\Work\\numto\\data\\winter\\train\\B1.tif\""
   ]
  },
  {
   "cell_type": "code",
   "execution_count": 8,
   "id": "8ed57d67-1ebc-4f81-9c90-79a7a8fd6f75",
   "metadata": {},
   "outputs": [
    {
     "data": {
      "text/plain": [
       "['E:\\\\\\\\Work\\\\\\\\numto\\\\\\\\data\\\\\\\\spring\\\\LC08_L1TP_159015_20190509_20200829_02_T1\\\\',\n",
       " 'E:\\\\\\\\Work\\\\\\\\numto\\\\\\\\data\\\\\\\\spring\\\\LC08_L1TP_159016_20190509_20200829_02_T1\\\\',\n",
       " 'E:\\\\\\\\Work\\\\\\\\numto\\\\\\\\data\\\\\\\\spring\\\\LC08_L1TP_161015_20150512_20200909_02_T1\\\\',\n",
       " 'E:\\\\\\\\Work\\\\\\\\numto\\\\\\\\data\\\\\\\\spring\\\\LC08_L1TP_161015_20190507_20200828_02_T1\\\\']"
      ]
     },
     "execution_count": 8,
     "metadata": {},
     "output_type": "execute_result"
    }
   ],
   "source": [
    "spring_landsat = glob(r\"E:\\\\Work\\\\numto\\\\data\\\\spring\\\\LC*\\\\\")\n",
    "spring_landsat"
   ]
  },
  {
   "cell_type": "code",
   "execution_count": 9,
   "id": "9aac8735-4a67-47ea-a317-0ba7321ac575",
   "metadata": {},
   "outputs": [
    {
     "name": "stdout",
     "output_type": "stream",
     "text": [
      "Processing band B1 is completed\n",
      "Processing band B2 is completed\n",
      "Processing band B3 is completed\n",
      "Processing band B4 is completed\n",
      "Processing band B5 is completed\n",
      "Processing band B6 is completed\n",
      "Processing band B7 is completed\n",
      "Processing band B9 is completed\n",
      "Processing band B10 is completed\n",
      "Processing band B11 is completed\n"
     ]
    }
   ],
   "source": [
    "spring_landsat_all = rsp.mosaic(spring_landsat, r\"E:\\\\Work\\\\numto\\\\data\\\\spring\\\\all\", fill_nodata = True, fill_distance = 100, clip = r\"E:\\Work\\numto\\border_all.gpkg\", nodata_order = True, reference_raster = ref_all, match_hist = True)"
   ]
  },
  {
   "cell_type": "code",
   "execution_count": 10,
   "id": "12120aba-aa88-4ebc-814e-a40a6108f860",
   "metadata": {},
   "outputs": [
    {
     "name": "stdout",
     "output_type": "stream",
     "text": [
      "Processing band B1 is completed\n",
      "Processing band B2 is completed\n",
      "Processing band B3 is completed\n",
      "Processing band B4 is completed\n",
      "Processing band B5 is completed\n",
      "Processing band B6 is completed\n",
      "Processing band B7 is completed\n",
      "Processing band B9 is completed\n",
      "Processing band B10 is completed\n",
      "Processing band B11 is completed\n"
     ]
    }
   ],
   "source": [
    "spring_landsat_train = rsp.mosaic(spring_landsat, r\"E:\\\\Work\\\\numto\\\\data\\\\spring\\\\train\", fill_nodata = True, fill_distance = 100, clip = r\"E:\\Work\\numto\\border.gpkg\", nodata_order = True, reference_raster = ref_train, match_hist = True)"
   ]
  },
  {
   "cell_type": "code",
   "execution_count": 12,
   "id": "3707a218-4082-4406-84c7-288a3475ac32",
   "metadata": {},
   "outputs": [
    {
     "data": {
      "text/plain": [
       "['E:\\\\\\\\Work\\\\\\\\numto\\\\\\\\data\\\\\\\\summer\\\\LC08_L1TP_160015_20180716_20200831_02_T1\\\\',\n",
       " 'E:\\\\\\\\Work\\\\\\\\numto\\\\\\\\data\\\\\\\\summer\\\\LC08_L1TP_160015_20190703_20200827_02_T1\\\\',\n",
       " 'E:\\\\\\\\Work\\\\\\\\numto\\\\\\\\data\\\\\\\\summer\\\\LC08_L1TP_160015_20200806_20200916_02_T1\\\\',\n",
       " 'E:\\\\\\\\Work\\\\\\\\numto\\\\\\\\data\\\\\\\\summer\\\\LC08_L1TP_160016_20180716_20200831_02_T1\\\\',\n",
       " 'E:\\\\\\\\Work\\\\\\\\numto\\\\\\\\data\\\\\\\\summer\\\\LC08_L1TP_160016_20190703_20200827_02_T1\\\\',\n",
       " 'E:\\\\\\\\Work\\\\\\\\numto\\\\\\\\data\\\\\\\\summer\\\\LC08_L1TP_160016_20200806_20200916_02_T1\\\\']"
      ]
     },
     "execution_count": 12,
     "metadata": {},
     "output_type": "execute_result"
    }
   ],
   "source": [
    "summer_landsat = glob(r\"E:\\\\Work\\\\numto\\\\data\\\\summer\\\\LC*\\\\\")\n",
    "summer_landsat"
   ]
  },
  {
   "cell_type": "code",
   "execution_count": 13,
   "id": "209c2bec-f364-47a7-ba34-af6455681304",
   "metadata": {},
   "outputs": [
    {
     "name": "stdout",
     "output_type": "stream",
     "text": [
      "Processing band B1 is completed\n",
      "Processing band B2 is completed\n",
      "Processing band B3 is completed\n",
      "Processing band B4 is completed\n",
      "Processing band B5 is completed\n",
      "Processing band B6 is completed\n",
      "Processing band B7 is completed\n",
      "Processing band B9 is completed\n",
      "Processing band B10 is completed\n",
      "Processing band B11 is completed\n"
     ]
    }
   ],
   "source": [
    "summer_landsat_all = rsp.mosaic(summer_landsat, r\"E:\\\\Work\\\\numto\\\\data\\\\summer\\\\all\", fill_nodata = True, fill_distance = 250, clip = r\"E:\\Work\\numto\\border_all.gpkg\", nodata_order = True, reference_raster = ref_all, match_hist = True)"
   ]
  },
  {
   "cell_type": "code",
   "execution_count": 15,
   "id": "388b9312-a52d-49a9-9d20-fe7928ebf286",
   "metadata": {},
   "outputs": [
    {
     "name": "stdout",
     "output_type": "stream",
     "text": [
      "Processing band B1 is completed\n",
      "Processing band B2 is completed\n",
      "Processing band B3 is completed\n",
      "Processing band B4 is completed\n",
      "Processing band B5 is completed\n",
      "Processing band B6 is completed\n",
      "Processing band B7 is completed\n",
      "Processing band B9 is completed\n",
      "Processing band B10 is completed\n",
      "Processing band B11 is completed\n"
     ]
    }
   ],
   "source": [
    "summer_landsat_train = rsp.mosaic(summer_landsat, r\"E:\\\\Work\\\\numto\\\\data\\\\summer\\\\train\", fill_nodata = True, fill_distance = 250, clip = r\"E:\\Work\\numto\\border.gpkg\", nodata_order = True, reference_raster = ref_train, match_hist = True)"
   ]
  },
  {
   "cell_type": "code",
   "execution_count": 16,
   "id": "a7d8eb17-fbfd-490a-84a3-aec340d31e61",
   "metadata": {},
   "outputs": [
    {
     "data": {
      "text/plain": [
       "['E:\\\\\\\\Work\\\\\\\\numto\\\\\\\\data\\\\\\\\autumn\\\\LC08_L1TP_159015_20200916_20200920_02_T1\\\\',\n",
       " 'E:\\\\\\\\Work\\\\\\\\numto\\\\\\\\data\\\\\\\\autumn\\\\LC08_L1TP_159016_20200916_20200920_02_T1\\\\',\n",
       " 'E:\\\\\\\\Work\\\\\\\\numto\\\\\\\\data\\\\\\\\autumn\\\\LC08_L1TP_159016_20201002_20201007_02_T1\\\\',\n",
       " 'E:\\\\\\\\Work\\\\\\\\numto\\\\\\\\data\\\\\\\\autumn\\\\LC08_L1TP_160015_20191007_20200825_02_T1\\\\',\n",
       " 'E:\\\\\\\\Work\\\\\\\\numto\\\\\\\\data\\\\\\\\autumn\\\\LC08_L1TP_160015_20201009_20201016_02_T1\\\\',\n",
       " 'E:\\\\\\\\Work\\\\\\\\numto\\\\\\\\data\\\\\\\\autumn\\\\LC08_L1TP_161015_20160919_20200906_02_T1\\\\',\n",
       " 'E:\\\\\\\\Work\\\\\\\\numto\\\\\\\\data\\\\\\\\autumn\\\\LC08_L1TP_161015_20180925_20200830_02_T1\\\\',\n",
       " 'E:\\\\\\\\Work\\\\\\\\numto\\\\\\\\data\\\\\\\\autumn\\\\LC08_L1TP_161016_20180925_20200830_02_T1\\\\']"
      ]
     },
     "execution_count": 16,
     "metadata": {},
     "output_type": "execute_result"
    }
   ],
   "source": [
    "autumn_landsat = glob(r\"E:\\\\Work\\\\numto\\\\data\\\\autumn\\\\LC*\\\\\")\n",
    "autumn_landsat"
   ]
  },
  {
   "cell_type": "code",
   "execution_count": 17,
   "id": "3bfb2e28-18a9-41b1-bd6c-396c6007be2d",
   "metadata": {},
   "outputs": [
    {
     "data": {
      "text/plain": [
       "['E:\\\\\\\\Work\\\\\\\\numto\\\\\\\\data\\\\\\\\autumn\\\\LC08_L1TP_161015_20180925_20200830_02_T1\\\\',\n",
       " 'E:\\\\\\\\Work\\\\\\\\numto\\\\\\\\data\\\\\\\\autumn\\\\LC08_L1TP_159015_20200916_20200920_02_T1\\\\',\n",
       " 'E:\\\\\\\\Work\\\\\\\\numto\\\\\\\\data\\\\\\\\autumn\\\\LC08_L1TP_161016_20180925_20200830_02_T1\\\\',\n",
       " 'E:\\\\\\\\Work\\\\\\\\numto\\\\\\\\data\\\\\\\\autumn\\\\LC08_L1TP_160015_20201009_20201016_02_T1\\\\',\n",
       " 'E:\\\\\\\\Work\\\\\\\\numto\\\\\\\\data\\\\\\\\autumn\\\\LC08_L1TP_160015_20191007_20200825_02_T1\\\\',\n",
       " 'E:\\\\\\\\Work\\\\\\\\numto\\\\\\\\data\\\\\\\\autumn\\\\LC08_L1TP_161015_20160919_20200906_02_T1\\\\',\n",
       " 'E:\\\\\\\\Work\\\\\\\\numto\\\\\\\\data\\\\\\\\autumn\\\\LC08_L1TP_159016_20201002_20201007_02_T1\\\\',\n",
       " 'E:\\\\\\\\Work\\\\\\\\numto\\\\\\\\data\\\\\\\\autumn\\\\LC08_L1TP_159016_20200916_20200920_02_T1\\\\']"
      ]
     },
     "execution_count": 17,
     "metadata": {},
     "output_type": "execute_result"
    }
   ],
   "source": [
    "autumn_landsat = [autumn_landsat[i] for i in [6, 0, 7, 4, 3, 5, 2, 1]]\n",
    "autumn_landsat"
   ]
  },
  {
   "cell_type": "code",
   "execution_count": 18,
   "id": "cb275909-e999-42e4-9f10-489c33fbb106",
   "metadata": {},
   "outputs": [
    {
     "name": "stdout",
     "output_type": "stream",
     "text": [
      "Processing band B1 is completed\n",
      "Processing band B2 is completed\n",
      "Processing band B3 is completed\n",
      "Processing band B4 is completed\n",
      "Processing band B5 is completed\n",
      "Processing band B6 is completed\n",
      "Processing band B7 is completed\n",
      "Processing band B9 is completed\n",
      "Processing band B10 is completed\n",
      "Processing band B11 is completed\n"
     ]
    }
   ],
   "source": [
    "autumn_landsat_all = rsp.mosaic(autumn_landsat, r\"E:\\\\Work\\\\numto\\\\data\\\\autumn\\\\all\", fill_nodata = True, fill_distance = 100, clip = r\"E:\\Work\\numto\\border_all.gpkg\", reference_raster = ref_all, match_hist = True)"
   ]
  },
  {
   "cell_type": "code",
   "execution_count": 19,
   "id": "aa46d412-46f2-432f-a4ca-8d5015d85130",
   "metadata": {},
   "outputs": [
    {
     "name": "stdout",
     "output_type": "stream",
     "text": [
      "Processing band B1 is completed\n",
      "Processing band B2 is completed\n",
      "Processing band B3 is completed\n",
      "Processing band B4 is completed\n",
      "Processing band B5 is completed\n",
      "Processing band B6 is completed\n",
      "Processing band B7 is completed\n",
      "Processing band B9 is completed\n",
      "Processing band B10 is completed\n",
      "Processing band B11 is completed\n"
     ]
    }
   ],
   "source": [
    "autumn_landsat_train = rsp.mosaic(autumn_landsat, r\"E:\\\\Work\\\\numto\\\\data\\\\autumn\\\\train\", fill_nodata = True, fill_distance = 100, clip = r\"E:\\Work\\numto\\border.gpkg\", reference_raster = ref_train, match_hist = True)"
   ]
  },
  {
   "cell_type": "code",
   "execution_count": 20,
   "id": "149f7fce-1840-43e9-83c6-dfc2efbb3648",
   "metadata": {},
   "outputs": [
    {
     "data": {
      "text/plain": [
       "['E:\\\\\\\\Work\\\\\\\\numto\\\\\\\\data\\\\\\\\dem\\\\N63E069_FABDEM_V1-0.tif',\n",
       " 'E:\\\\\\\\Work\\\\\\\\numto\\\\\\\\data\\\\\\\\dem\\\\N63E070_FABDEM_V1-0.tif',\n",
       " 'E:\\\\\\\\Work\\\\\\\\numto\\\\\\\\data\\\\\\\\dem\\\\N63E071_FABDEM_V1-0.tif',\n",
       " 'E:\\\\\\\\Work\\\\\\\\numto\\\\\\\\data\\\\\\\\dem\\\\N64E069_FABDEM_V1-0.tif',\n",
       " 'E:\\\\\\\\Work\\\\\\\\numto\\\\\\\\data\\\\\\\\dem\\\\N64E070_FABDEM_V1-0.tif']"
      ]
     },
     "execution_count": 20,
     "metadata": {},
     "output_type": "execute_result"
    }
   ],
   "source": [
    "dems = glob(r\"E:\\\\Work\\\\numto\\\\data\\\\dem\\\\*.tif\")\n",
    "dems"
   ]
  },
  {
   "cell_type": "code",
   "execution_count": 21,
   "id": "90f8e8ac-4930-4099-8e84-40569080599e",
   "metadata": {},
   "outputs": [
    {
     "name": "stdout",
     "output_type": "stream",
     "text": [
      "Processing completed\n"
     ]
    }
   ],
   "source": [
    "dems_all = rsp.mosaic(dems, r\"E:\\\\Work\\\\numto\\\\data\\\\dem\\\\all\", fill_nodata = True, fill_distance = 100, clip = r\"E:\\Work\\numto\\border_all.gpkg\", reference_raster = ref_all)"
   ]
  },
  {
   "cell_type": "code",
   "execution_count": 22,
   "id": "bf8edd3e-ad8a-4604-bd0e-b550237fdaad",
   "metadata": {},
   "outputs": [
    {
     "name": "stdout",
     "output_type": "stream",
     "text": [
      "Processing completed\n"
     ]
    }
   ],
   "source": [
    "dems_train = rsp.mosaic(dems, r\"E:\\\\Work\\\\numto\\\\data\\\\dem\\\\train\", fill_nodata = True, fill_distance = 100, clip = r\"E:\\Work\\numto\\border.gpkg\", reference_raster = ref_train)"
   ]
  },
  {
   "cell_type": "markdown",
   "id": "ba1ea1b2-ee5c-4860-9c2c-dd75a1ca1d9b",
   "metadata": {},
   "source": [
    "We also min-max normalize DEM in the range from 0 to 200."
   ]
  },
  {
   "cell_type": "code",
   "execution_count": 3,
   "id": "aeb20e10-340a-4606-b0c0-f2ac78bbbf55",
   "metadata": {},
   "outputs": [],
   "source": [
    "dems_parts = [r\"E:\\\\Work\\\\numto\\\\data\\\\dem\\\\train\", r\"E:\\\\Work\\\\numto\\\\data\\\\dem\\\\all\"]\n",
    "for dem in dems_parts:\n",
    "    dem_path = os.path.join(dem, \"N63E069_FABDEM_V1-0_mosaic.tif\")\n",
    "    dem_norm = os.path.join(dem, \"N63E069_FABDEM_V1-0_mosaic_norm.tif\")\n",
    "    dem_repl = os.path.join(dem, \"N63E069_FABDEM_V1-0_mosaic_nodata.tif\")\n",
    "    rsp.replace_nodata(dem_path, dem_repl, 0)\n",
    "    rsp.normalize(dem_repl, dem_norm, 0, 200)"
   ]
  },
  {
   "cell_type": "markdown",
   "id": "87e41bbe-e8d3-4e47-b807-bcd2581520e0",
   "metadata": {},
   "source": [
    "### Target variable rasterization\n",
    "\n",
    "Here we generate 3 raster images - vegetation map, cryological map and landscape type map.\n",
    "\n",
    "Further we will use only vegetation map because modeling quality was poor when we tried to use cryological and landscape type maps as a target variable."
   ]
  },
  {
   "cell_type": "code",
   "execution_count": 26,
   "id": "9ac2af77-935c-40c7-a6c2-6d7573fa3a70",
   "metadata": {},
   "outputs": [],
   "source": [
    "vectors = ['rast.gpkg', 'land.gpkg', 'cryo.gpkg']\n",
    "raster = r\"E:\\\\Work\\\\numto\\\\data\\\\dem\\\\train\\\\N63E069_FABDEM_V1-0_mosaic_norm.tif\"\n",
    "outs = [r\"E:\\\\Work\\\\numto\\\\data\\\\y_rast.tif\", r\"E:\\\\Work\\\\numto\\\\data\\\\y_land.tif\", r\"E:\\\\Work\\\\numto\\\\data\\\\y_cryo.tif\"]\n",
    "\n",
    "for i in range(len(vectors)):\n",
    "    vector = os.path.join(r\"E:\\Work\\numto\", vectors[i])\n",
    "    rsp.rasterize(vector, raster, \"dn\", outs[i])"
   ]
  },
  {
   "cell_type": "markdown",
   "id": "dd8fb642-aa38-4e38-b54e-1b734b406983",
   "metadata": {},
   "source": [
    "### Generate tiles and split the data\n",
    "\n",
    "As raster size is too big to fit in memory while training, we have to split data into small square 256x256 px. tiles. We also split the data into train, validation and test subdatasets. "
   ]
  },
  {
   "cell_type": "code",
   "execution_count": 3,
   "id": "1defcb1e-6a1e-4123-97d4-fbd2a89646ec",
   "metadata": {},
   "outputs": [
    {
     "data": {
      "text/plain": [
       "['E:\\\\\\\\Work\\\\\\\\numto\\\\\\\\data\\\\autumn\\\\train\\\\B1.tif',\n",
       " 'E:\\\\\\\\Work\\\\\\\\numto\\\\\\\\data\\\\autumn\\\\train\\\\B10.tif',\n",
       " 'E:\\\\\\\\Work\\\\\\\\numto\\\\\\\\data\\\\autumn\\\\train\\\\B11.tif',\n",
       " 'E:\\\\\\\\Work\\\\\\\\numto\\\\\\\\data\\\\autumn\\\\train\\\\B2.tif',\n",
       " 'E:\\\\\\\\Work\\\\\\\\numto\\\\\\\\data\\\\autumn\\\\train\\\\B3.tif',\n",
       " 'E:\\\\\\\\Work\\\\\\\\numto\\\\\\\\data\\\\autumn\\\\train\\\\B4.tif',\n",
       " 'E:\\\\\\\\Work\\\\\\\\numto\\\\\\\\data\\\\autumn\\\\train\\\\B5.tif',\n",
       " 'E:\\\\\\\\Work\\\\\\\\numto\\\\\\\\data\\\\autumn\\\\train\\\\B6.tif',\n",
       " 'E:\\\\\\\\Work\\\\\\\\numto\\\\\\\\data\\\\autumn\\\\train\\\\B7.tif',\n",
       " 'E:\\\\\\\\Work\\\\\\\\numto\\\\\\\\data\\\\autumn\\\\train\\\\B9.tif',\n",
       " 'E:\\\\\\\\Work\\\\\\\\numto\\\\\\\\data\\\\spring\\\\train\\\\B1.tif',\n",
       " 'E:\\\\\\\\Work\\\\\\\\numto\\\\\\\\data\\\\spring\\\\train\\\\B10.tif',\n",
       " 'E:\\\\\\\\Work\\\\\\\\numto\\\\\\\\data\\\\spring\\\\train\\\\B11.tif',\n",
       " 'E:\\\\\\\\Work\\\\\\\\numto\\\\\\\\data\\\\spring\\\\train\\\\B2.tif',\n",
       " 'E:\\\\\\\\Work\\\\\\\\numto\\\\\\\\data\\\\spring\\\\train\\\\B3.tif',\n",
       " 'E:\\\\\\\\Work\\\\\\\\numto\\\\\\\\data\\\\spring\\\\train\\\\B4.tif',\n",
       " 'E:\\\\\\\\Work\\\\\\\\numto\\\\\\\\data\\\\spring\\\\train\\\\B5.tif',\n",
       " 'E:\\\\\\\\Work\\\\\\\\numto\\\\\\\\data\\\\spring\\\\train\\\\B6.tif',\n",
       " 'E:\\\\\\\\Work\\\\\\\\numto\\\\\\\\data\\\\spring\\\\train\\\\B7.tif',\n",
       " 'E:\\\\\\\\Work\\\\\\\\numto\\\\\\\\data\\\\spring\\\\train\\\\B9.tif',\n",
       " 'E:\\\\\\\\Work\\\\\\\\numto\\\\\\\\data\\\\summer\\\\train\\\\B1.tif',\n",
       " 'E:\\\\\\\\Work\\\\\\\\numto\\\\\\\\data\\\\summer\\\\train\\\\B10.tif',\n",
       " 'E:\\\\\\\\Work\\\\\\\\numto\\\\\\\\data\\\\summer\\\\train\\\\B11.tif',\n",
       " 'E:\\\\\\\\Work\\\\\\\\numto\\\\\\\\data\\\\summer\\\\train\\\\B2.tif',\n",
       " 'E:\\\\\\\\Work\\\\\\\\numto\\\\\\\\data\\\\summer\\\\train\\\\B3.tif',\n",
       " 'E:\\\\\\\\Work\\\\\\\\numto\\\\\\\\data\\\\summer\\\\train\\\\B4.tif',\n",
       " 'E:\\\\\\\\Work\\\\\\\\numto\\\\\\\\data\\\\summer\\\\train\\\\B5.tif',\n",
       " 'E:\\\\\\\\Work\\\\\\\\numto\\\\\\\\data\\\\summer\\\\train\\\\B6.tif',\n",
       " 'E:\\\\\\\\Work\\\\\\\\numto\\\\\\\\data\\\\summer\\\\train\\\\B7.tif',\n",
       " 'E:\\\\\\\\Work\\\\\\\\numto\\\\\\\\data\\\\summer\\\\train\\\\B9.tif',\n",
       " 'E:\\\\\\\\Work\\\\\\\\numto\\\\\\\\data\\\\winter\\\\train\\\\B1.tif',\n",
       " 'E:\\\\\\\\Work\\\\\\\\numto\\\\\\\\data\\\\winter\\\\train\\\\B10.tif',\n",
       " 'E:\\\\\\\\Work\\\\\\\\numto\\\\\\\\data\\\\winter\\\\train\\\\B11.tif',\n",
       " 'E:\\\\\\\\Work\\\\\\\\numto\\\\\\\\data\\\\winter\\\\train\\\\B2.tif',\n",
       " 'E:\\\\\\\\Work\\\\\\\\numto\\\\\\\\data\\\\winter\\\\train\\\\B3.tif',\n",
       " 'E:\\\\\\\\Work\\\\\\\\numto\\\\\\\\data\\\\winter\\\\train\\\\B4.tif',\n",
       " 'E:\\\\\\\\Work\\\\\\\\numto\\\\\\\\data\\\\winter\\\\train\\\\B5.tif',\n",
       " 'E:\\\\\\\\Work\\\\\\\\numto\\\\\\\\data\\\\winter\\\\train\\\\B6.tif',\n",
       " 'E:\\\\\\\\Work\\\\\\\\numto\\\\\\\\data\\\\winter\\\\train\\\\B7.tif',\n",
       " 'E:\\\\\\\\Work\\\\\\\\numto\\\\\\\\data\\\\winter\\\\train\\\\B9.tif',\n",
       " 'E:\\\\\\\\Work\\\\\\\\numto\\\\\\\\data\\\\dem\\\\train\\\\N63E069_FABDEM_V1-0_mosaic_norm.tif']"
      ]
     },
     "execution_count": 3,
     "metadata": {},
     "output_type": "execute_result"
    }
   ],
   "source": [
    "train_x = glob(r\"E:\\\\Work\\\\numto\\\\data\\\\*\\\\train\\\\B*.tif\") + glob(r\"E:\\\\Work\\\\numto\\\\data\\\\*\\\\train\\\\*norm.tif\")\n",
    "train_x"
   ]
  },
  {
   "cell_type": "code",
   "execution_count": 4,
   "id": "c3261fc6-2a06-4db6-8a07-9a15351e6f52",
   "metadata": {},
   "outputs": [
    {
     "data": {
      "text/plain": [
       "['E:\\\\\\\\Work\\\\\\\\numto\\\\\\\\data\\\\\\\\y_rast.tif',\n",
       " 'E:\\\\\\\\Work\\\\\\\\numto\\\\\\\\data\\\\\\\\y_land.tif',\n",
       " 'E:\\\\\\\\Work\\\\\\\\numto\\\\\\\\data\\\\\\\\y_cryo.tif']"
      ]
     },
     "execution_count": 4,
     "metadata": {},
     "output_type": "execute_result"
    }
   ],
   "source": [
    "outs = [r\"E:\\\\Work\\\\numto\\\\data\\\\y_rast.tif\", r\"E:\\\\Work\\\\numto\\\\data\\\\y_land.tif\", r\"E:\\\\Work\\\\numto\\\\data\\\\y_cryo.tif\"]\n",
    "outs"
   ]
  },
  {
   "cell_type": "code",
   "execution_count": 5,
   "id": "50ece281-5cec-4739-8b02-f85b8fccdbab",
   "metadata": {
    "scrolled": true
   },
   "outputs": [],
   "source": [
    "rsp.segmentation.generate_tiles(train_x, outs, shuffle = True, split = [3, 1, 1], split_names = ['train', 'val', 'test'], x_output = r\"E:\\Work\\numto\\data\\x_train.zarr\", y_output = [r\"E:\\Work\\numto\\data\\y_rast.zarr\", r\"E:\\Work\\numto\\data\\y_land.zarr\", r\"E:\\Work\\numto\\data\\y_cryo.zarr\"], y_dtype = \"int16\");"
   ]
  },
  {
   "cell_type": "markdown",
   "id": "2423022d-0eeb-4a22-aa22-59673a93848f",
   "metadata": {},
   "source": [
    "Here we generate tiles for the data that includes adjacent areas."
   ]
  },
  {
   "cell_type": "code",
   "execution_count": 6,
   "id": "57f5792a-8a1a-4322-bdde-c46e4ca79230",
   "metadata": {},
   "outputs": [
    {
     "data": {
      "text/plain": [
       "['E:\\\\\\\\Work\\\\\\\\numto\\\\\\\\data\\\\autumn\\\\all\\\\B1.tif',\n",
       " 'E:\\\\\\\\Work\\\\\\\\numto\\\\\\\\data\\\\autumn\\\\all\\\\B10.tif',\n",
       " 'E:\\\\\\\\Work\\\\\\\\numto\\\\\\\\data\\\\autumn\\\\all\\\\B11.tif',\n",
       " 'E:\\\\\\\\Work\\\\\\\\numto\\\\\\\\data\\\\autumn\\\\all\\\\B2.tif',\n",
       " 'E:\\\\\\\\Work\\\\\\\\numto\\\\\\\\data\\\\autumn\\\\all\\\\B3.tif',\n",
       " 'E:\\\\\\\\Work\\\\\\\\numto\\\\\\\\data\\\\autumn\\\\all\\\\B4.tif',\n",
       " 'E:\\\\\\\\Work\\\\\\\\numto\\\\\\\\data\\\\autumn\\\\all\\\\B5.tif',\n",
       " 'E:\\\\\\\\Work\\\\\\\\numto\\\\\\\\data\\\\autumn\\\\all\\\\B6.tif',\n",
       " 'E:\\\\\\\\Work\\\\\\\\numto\\\\\\\\data\\\\autumn\\\\all\\\\B7.tif',\n",
       " 'E:\\\\\\\\Work\\\\\\\\numto\\\\\\\\data\\\\autumn\\\\all\\\\B9.tif',\n",
       " 'E:\\\\\\\\Work\\\\\\\\numto\\\\\\\\data\\\\spring\\\\all\\\\B1.tif',\n",
       " 'E:\\\\\\\\Work\\\\\\\\numto\\\\\\\\data\\\\spring\\\\all\\\\B10.tif',\n",
       " 'E:\\\\\\\\Work\\\\\\\\numto\\\\\\\\data\\\\spring\\\\all\\\\B11.tif',\n",
       " 'E:\\\\\\\\Work\\\\\\\\numto\\\\\\\\data\\\\spring\\\\all\\\\B2.tif',\n",
       " 'E:\\\\\\\\Work\\\\\\\\numto\\\\\\\\data\\\\spring\\\\all\\\\B3.tif',\n",
       " 'E:\\\\\\\\Work\\\\\\\\numto\\\\\\\\data\\\\spring\\\\all\\\\B4.tif',\n",
       " 'E:\\\\\\\\Work\\\\\\\\numto\\\\\\\\data\\\\spring\\\\all\\\\B5.tif',\n",
       " 'E:\\\\\\\\Work\\\\\\\\numto\\\\\\\\data\\\\spring\\\\all\\\\B6.tif',\n",
       " 'E:\\\\\\\\Work\\\\\\\\numto\\\\\\\\data\\\\spring\\\\all\\\\B7.tif',\n",
       " 'E:\\\\\\\\Work\\\\\\\\numto\\\\\\\\data\\\\spring\\\\all\\\\B9.tif',\n",
       " 'E:\\\\\\\\Work\\\\\\\\numto\\\\\\\\data\\\\summer\\\\all\\\\B1.tif',\n",
       " 'E:\\\\\\\\Work\\\\\\\\numto\\\\\\\\data\\\\summer\\\\all\\\\B10.tif',\n",
       " 'E:\\\\\\\\Work\\\\\\\\numto\\\\\\\\data\\\\summer\\\\all\\\\B11.tif',\n",
       " 'E:\\\\\\\\Work\\\\\\\\numto\\\\\\\\data\\\\summer\\\\all\\\\B2.tif',\n",
       " 'E:\\\\\\\\Work\\\\\\\\numto\\\\\\\\data\\\\summer\\\\all\\\\B3.tif',\n",
       " 'E:\\\\\\\\Work\\\\\\\\numto\\\\\\\\data\\\\summer\\\\all\\\\B4.tif',\n",
       " 'E:\\\\\\\\Work\\\\\\\\numto\\\\\\\\data\\\\summer\\\\all\\\\B5.tif',\n",
       " 'E:\\\\\\\\Work\\\\\\\\numto\\\\\\\\data\\\\summer\\\\all\\\\B6.tif',\n",
       " 'E:\\\\\\\\Work\\\\\\\\numto\\\\\\\\data\\\\summer\\\\all\\\\B7.tif',\n",
       " 'E:\\\\\\\\Work\\\\\\\\numto\\\\\\\\data\\\\summer\\\\all\\\\B9.tif',\n",
       " 'E:\\\\\\\\Work\\\\\\\\numto\\\\\\\\data\\\\winter\\\\all\\\\B1.tif',\n",
       " 'E:\\\\\\\\Work\\\\\\\\numto\\\\\\\\data\\\\winter\\\\all\\\\B10.tif',\n",
       " 'E:\\\\\\\\Work\\\\\\\\numto\\\\\\\\data\\\\winter\\\\all\\\\B11.tif',\n",
       " 'E:\\\\\\\\Work\\\\\\\\numto\\\\\\\\data\\\\winter\\\\all\\\\B2.tif',\n",
       " 'E:\\\\\\\\Work\\\\\\\\numto\\\\\\\\data\\\\winter\\\\all\\\\B3.tif',\n",
       " 'E:\\\\\\\\Work\\\\\\\\numto\\\\\\\\data\\\\winter\\\\all\\\\B4.tif',\n",
       " 'E:\\\\\\\\Work\\\\\\\\numto\\\\\\\\data\\\\winter\\\\all\\\\B5.tif',\n",
       " 'E:\\\\\\\\Work\\\\\\\\numto\\\\\\\\data\\\\winter\\\\all\\\\B6.tif',\n",
       " 'E:\\\\\\\\Work\\\\\\\\numto\\\\\\\\data\\\\winter\\\\all\\\\B7.tif',\n",
       " 'E:\\\\\\\\Work\\\\\\\\numto\\\\\\\\data\\\\winter\\\\all\\\\B9.tif',\n",
       " 'E:\\\\\\\\Work\\\\\\\\numto\\\\\\\\data\\\\dem\\\\all\\\\N63E069_FABDEM_V1-0_mosaic_norm.tif']"
      ]
     },
     "execution_count": 6,
     "metadata": {},
     "output_type": "execute_result"
    }
   ],
   "source": [
    "all_x = glob(r\"E:\\\\Work\\\\numto\\\\data\\\\*\\\\all\\\\B*.tif\")+ glob(r\"E:\\\\Work\\\\numto\\\\data\\\\*\\\\all\\\\*norm.tif\")\n",
    "all_x"
   ]
  },
  {
   "cell_type": "code",
   "execution_count": 7,
   "id": "f30c0fb2-2a29-4155-8c5e-7e489f964ce3",
   "metadata": {
    "scrolled": true
   },
   "outputs": [],
   "source": [
    "rsp.segmentation.generate_tiles(all_x, None, x_output = r\"E:\\Work\\numto\\data\\x_all.zarr\");"
   ]
  },
  {
   "cell_type": "markdown",
   "id": "1630218f-c581-4ca3-9303-6eee94ecc2cd",
   "metadata": {},
   "source": [
    "# Training the models\n",
    "\n",
    "Here we train and test different machine learning models.\n",
    "\n",
    "We train deep learning models for 100 epochs and apply augmentations to the train data.\n",
    "\n",
    "Training of all the models was usually made in the same cell by just replacing the model name parameter.\n",
    "\n",
    "Here we train UperNet with ConvNeXTV2 backbone."
   ]
  },
  {
   "cell_type": "code",
   "execution_count": 3,
   "id": "b42ee168-18b1-438a-a1d9-209fb199269e",
   "metadata": {},
   "outputs": [
    {
     "name": "stderr",
     "output_type": "stream",
     "text": [
      "GPU available: True (cuda), used: True\n",
      "TPU available: False, using: 0 TPU cores\n",
      "IPU available: False, using: 0 IPUs\n",
      "HPU available: False, using: 0 HPUs\n",
      "C:\\ProgramData\\Anaconda3\\envs\\geo\\lib\\site-packages\\lightning\\pytorch\\callbacks\\model_checkpoint.py:639: Checkpoint directory E:\\Work\\numto\\data exists and is not empty.\n",
      "LOCAL_RANK: 0 - CUDA_VISIBLE_DEVICES: [0]\n",
      "\n",
      "  | Name    | Type                           | Params\n",
      "-----------------------------------------------------------\n",
      "0 | model   | UperNetForSemanticSegmentation | 60.2 M\n",
      "1 | loss_fn | CrossEntropyLoss               | 0     \n",
      "-----------------------------------------------------------\n",
      "60.2 M    Trainable params\n",
      "0         Non-trainable params\n",
      "60.2 M    Total params\n",
      "240.952   Total estimated model params size (MB)\n"
     ]
    },
    {
     "data": {
      "application/vnd.jupyter.widget-view+json": {
       "model_id": "",
       "version_major": 2,
       "version_minor": 0
      },
      "text/plain": [
       "Sanity Checking: |                                                                               | 0/? [00:00<…"
      ]
     },
     "metadata": {},
     "output_type": "display_data"
    },
    {
     "name": "stderr",
     "output_type": "stream",
     "text": [
      "C:\\ProgramData\\Anaconda3\\envs\\geo\\lib\\site-packages\\lightning\\pytorch\\trainer\\connectors\\data_connector.py:441: The 'val_dataloader' does not have many workers which may be a bottleneck. Consider increasing the value of the `num_workers` argument` to `num_workers=15` in the `DataLoader` to improve performance.\n",
      "C:\\ProgramData\\Anaconda3\\envs\\geo\\lib\\site-packages\\lightning\\pytorch\\trainer\\connectors\\data_connector.py:441: The 'train_dataloader' does not have many workers which may be a bottleneck. Consider increasing the value of the `num_workers` argument` to `num_workers=15` in the `DataLoader` to improve performance.\n",
      "C:\\ProgramData\\Anaconda3\\envs\\geo\\lib\\site-packages\\lightning\\pytorch\\loops\\fit_loop.py:293: The number of training batches (47) is smaller than the logging interval Trainer(log_every_n_steps=50). Set a lower value for log_every_n_steps if you want to see logs for the training epoch.\n"
     ]
    },
    {
     "data": {
      "application/vnd.jupyter.widget-view+json": {
       "model_id": "9ecf0f82fe6340ecb6e6a5e0d506c9fd",
       "version_major": 2,
       "version_minor": 0
      },
      "text/plain": [
       "Training: |                                                                                      | 0/? [00:00<…"
      ]
     },
     "metadata": {},
     "output_type": "display_data"
    },
    {
     "data": {
      "application/vnd.jupyter.widget-view+json": {
       "model_id": "",
       "version_major": 2,
       "version_minor": 0
      },
      "text/plain": [
       "Validation: |                                                                                    | 0/? [00:00<…"
      ]
     },
     "metadata": {},
     "output_type": "display_data"
    },
    {
     "data": {
      "application/vnd.jupyter.widget-view+json": {
       "model_id": "",
       "version_major": 2,
       "version_minor": 0
      },
      "text/plain": [
       "Validation: |                                                                                    | 0/? [00:00<…"
      ]
     },
     "metadata": {},
     "output_type": "display_data"
    },
    {
     "data": {
      "application/vnd.jupyter.widget-view+json": {
       "model_id": "",
       "version_major": 2,
       "version_minor": 0
      },
      "text/plain": [
       "Validation: |                                                                                    | 0/? [00:00<…"
      ]
     },
     "metadata": {},
     "output_type": "display_data"
    },
    {
     "data": {
      "application/vnd.jupyter.widget-view+json": {
       "model_id": "",
       "version_major": 2,
       "version_minor": 0
      },
      "text/plain": [
       "Validation: |                                                                                    | 0/? [00:00<…"
      ]
     },
     "metadata": {},
     "output_type": "display_data"
    },
    {
     "data": {
      "application/vnd.jupyter.widget-view+json": {
       "model_id": "",
       "version_major": 2,
       "version_minor": 0
      },
      "text/plain": [
       "Validation: |                                                                                    | 0/? [00:00<…"
      ]
     },
     "metadata": {},
     "output_type": "display_data"
    },
    {
     "data": {
      "application/vnd.jupyter.widget-view+json": {
       "model_id": "",
       "version_major": 2,
       "version_minor": 0
      },
      "text/plain": [
       "Validation: |                                                                                    | 0/? [00:00<…"
      ]
     },
     "metadata": {},
     "output_type": "display_data"
    },
    {
     "data": {
      "application/vnd.jupyter.widget-view+json": {
       "model_id": "",
       "version_major": 2,
       "version_minor": 0
      },
      "text/plain": [
       "Validation: |                                                                                    | 0/? [00:00<…"
      ]
     },
     "metadata": {},
     "output_type": "display_data"
    },
    {
     "data": {
      "application/vnd.jupyter.widget-view+json": {
       "model_id": "",
       "version_major": 2,
       "version_minor": 0
      },
      "text/plain": [
       "Validation: |                                                                                    | 0/? [00:00<…"
      ]
     },
     "metadata": {},
     "output_type": "display_data"
    },
    {
     "data": {
      "application/vnd.jupyter.widget-view+json": {
       "model_id": "",
       "version_major": 2,
       "version_minor": 0
      },
      "text/plain": [
       "Validation: |                                                                                    | 0/? [00:00<…"
      ]
     },
     "metadata": {},
     "output_type": "display_data"
    },
    {
     "data": {
      "application/vnd.jupyter.widget-view+json": {
       "model_id": "",
       "version_major": 2,
       "version_minor": 0
      },
      "text/plain": [
       "Validation: |                                                                                    | 0/? [00:00<…"
      ]
     },
     "metadata": {},
     "output_type": "display_data"
    },
    {
     "data": {
      "application/vnd.jupyter.widget-view+json": {
       "model_id": "",
       "version_major": 2,
       "version_minor": 0
      },
      "text/plain": [
       "Validation: |                                                                                    | 0/? [00:00<…"
      ]
     },
     "metadata": {},
     "output_type": "display_data"
    },
    {
     "data": {
      "application/vnd.jupyter.widget-view+json": {
       "model_id": "",
       "version_major": 2,
       "version_minor": 0
      },
      "text/plain": [
       "Validation: |                                                                                    | 0/? [00:00<…"
      ]
     },
     "metadata": {},
     "output_type": "display_data"
    },
    {
     "data": {
      "application/vnd.jupyter.widget-view+json": {
       "model_id": "",
       "version_major": 2,
       "version_minor": 0
      },
      "text/plain": [
       "Validation: |                                                                                    | 0/? [00:00<…"
      ]
     },
     "metadata": {},
     "output_type": "display_data"
    },
    {
     "data": {
      "application/vnd.jupyter.widget-view+json": {
       "model_id": "",
       "version_major": 2,
       "version_minor": 0
      },
      "text/plain": [
       "Validation: |                                                                                    | 0/? [00:00<…"
      ]
     },
     "metadata": {},
     "output_type": "display_data"
    },
    {
     "data": {
      "application/vnd.jupyter.widget-view+json": {
       "model_id": "",
       "version_major": 2,
       "version_minor": 0
      },
      "text/plain": [
       "Validation: |                                                                                    | 0/? [00:00<…"
      ]
     },
     "metadata": {},
     "output_type": "display_data"
    },
    {
     "data": {
      "application/vnd.jupyter.widget-view+json": {
       "model_id": "",
       "version_major": 2,
       "version_minor": 0
      },
      "text/plain": [
       "Validation: |                                                                                    | 0/? [00:00<…"
      ]
     },
     "metadata": {},
     "output_type": "display_data"
    },
    {
     "data": {
      "application/vnd.jupyter.widget-view+json": {
       "model_id": "",
       "version_major": 2,
       "version_minor": 0
      },
      "text/plain": [
       "Validation: |                                                                                    | 0/? [00:00<…"
      ]
     },
     "metadata": {},
     "output_type": "display_data"
    },
    {
     "data": {
      "application/vnd.jupyter.widget-view+json": {
       "model_id": "",
       "version_major": 2,
       "version_minor": 0
      },
      "text/plain": [
       "Validation: |                                                                                    | 0/? [00:00<…"
      ]
     },
     "metadata": {},
     "output_type": "display_data"
    },
    {
     "data": {
      "application/vnd.jupyter.widget-view+json": {
       "model_id": "",
       "version_major": 2,
       "version_minor": 0
      },
      "text/plain": [
       "Validation: |                                                                                    | 0/? [00:00<…"
      ]
     },
     "metadata": {},
     "output_type": "display_data"
    },
    {
     "data": {
      "application/vnd.jupyter.widget-view+json": {
       "model_id": "",
       "version_major": 2,
       "version_minor": 0
      },
      "text/plain": [
       "Validation: |                                                                                    | 0/? [00:00<…"
      ]
     },
     "metadata": {},
     "output_type": "display_data"
    },
    {
     "data": {
      "application/vnd.jupyter.widget-view+json": {
       "model_id": "",
       "version_major": 2,
       "version_minor": 0
      },
      "text/plain": [
       "Validation: |                                                                                    | 0/? [00:00<…"
      ]
     },
     "metadata": {},
     "output_type": "display_data"
    },
    {
     "data": {
      "application/vnd.jupyter.widget-view+json": {
       "model_id": "",
       "version_major": 2,
       "version_minor": 0
      },
      "text/plain": [
       "Validation: |                                                                                    | 0/? [00:00<…"
      ]
     },
     "metadata": {},
     "output_type": "display_data"
    },
    {
     "data": {
      "application/vnd.jupyter.widget-view+json": {
       "model_id": "",
       "version_major": 2,
       "version_minor": 0
      },
      "text/plain": [
       "Validation: |                                                                                    | 0/? [00:00<…"
      ]
     },
     "metadata": {},
     "output_type": "display_data"
    },
    {
     "data": {
      "application/vnd.jupyter.widget-view+json": {
       "model_id": "",
       "version_major": 2,
       "version_minor": 0
      },
      "text/plain": [
       "Validation: |                                                                                    | 0/? [00:00<…"
      ]
     },
     "metadata": {},
     "output_type": "display_data"
    },
    {
     "data": {
      "application/vnd.jupyter.widget-view+json": {
       "model_id": "",
       "version_major": 2,
       "version_minor": 0
      },
      "text/plain": [
       "Validation: |                                                                                    | 0/? [00:00<…"
      ]
     },
     "metadata": {},
     "output_type": "display_data"
    },
    {
     "data": {
      "application/vnd.jupyter.widget-view+json": {
       "model_id": "",
       "version_major": 2,
       "version_minor": 0
      },
      "text/plain": [
       "Validation: |                                                                                    | 0/? [00:00<…"
      ]
     },
     "metadata": {},
     "output_type": "display_data"
    },
    {
     "data": {
      "application/vnd.jupyter.widget-view+json": {
       "model_id": "",
       "version_major": 2,
       "version_minor": 0
      },
      "text/plain": [
       "Validation: |                                                                                    | 0/? [00:00<…"
      ]
     },
     "metadata": {},
     "output_type": "display_data"
    },
    {
     "data": {
      "application/vnd.jupyter.widget-view+json": {
       "model_id": "",
       "version_major": 2,
       "version_minor": 0
      },
      "text/plain": [
       "Validation: |                                                                                    | 0/? [00:00<…"
      ]
     },
     "metadata": {},
     "output_type": "display_data"
    },
    {
     "data": {
      "application/vnd.jupyter.widget-view+json": {
       "model_id": "",
       "version_major": 2,
       "version_minor": 0
      },
      "text/plain": [
       "Validation: |                                                                                    | 0/? [00:00<…"
      ]
     },
     "metadata": {},
     "output_type": "display_data"
    },
    {
     "data": {
      "application/vnd.jupyter.widget-view+json": {
       "model_id": "",
       "version_major": 2,
       "version_minor": 0
      },
      "text/plain": [
       "Validation: |                                                                                    | 0/? [00:00<…"
      ]
     },
     "metadata": {},
     "output_type": "display_data"
    },
    {
     "data": {
      "application/vnd.jupyter.widget-view+json": {
       "model_id": "",
       "version_major": 2,
       "version_minor": 0
      },
      "text/plain": [
       "Validation: |                                                                                    | 0/? [00:00<…"
      ]
     },
     "metadata": {},
     "output_type": "display_data"
    },
    {
     "data": {
      "application/vnd.jupyter.widget-view+json": {
       "model_id": "",
       "version_major": 2,
       "version_minor": 0
      },
      "text/plain": [
       "Validation: |                                                                                    | 0/? [00:00<…"
      ]
     },
     "metadata": {},
     "output_type": "display_data"
    },
    {
     "data": {
      "application/vnd.jupyter.widget-view+json": {
       "model_id": "",
       "version_major": 2,
       "version_minor": 0
      },
      "text/plain": [
       "Validation: |                                                                                    | 0/? [00:00<…"
      ]
     },
     "metadata": {},
     "output_type": "display_data"
    },
    {
     "data": {
      "application/vnd.jupyter.widget-view+json": {
       "model_id": "",
       "version_major": 2,
       "version_minor": 0
      },
      "text/plain": [
       "Validation: |                                                                                    | 0/? [00:00<…"
      ]
     },
     "metadata": {},
     "output_type": "display_data"
    },
    {
     "data": {
      "application/vnd.jupyter.widget-view+json": {
       "model_id": "",
       "version_major": 2,
       "version_minor": 0
      },
      "text/plain": [
       "Validation: |                                                                                    | 0/? [00:00<…"
      ]
     },
     "metadata": {},
     "output_type": "display_data"
    },
    {
     "data": {
      "application/vnd.jupyter.widget-view+json": {
       "model_id": "",
       "version_major": 2,
       "version_minor": 0
      },
      "text/plain": [
       "Validation: |                                                                                    | 0/? [00:00<…"
      ]
     },
     "metadata": {},
     "output_type": "display_data"
    },
    {
     "data": {
      "application/vnd.jupyter.widget-view+json": {
       "model_id": "",
       "version_major": 2,
       "version_minor": 0
      },
      "text/plain": [
       "Validation: |                                                                                    | 0/? [00:00<…"
      ]
     },
     "metadata": {},
     "output_type": "display_data"
    },
    {
     "data": {
      "application/vnd.jupyter.widget-view+json": {
       "model_id": "",
       "version_major": 2,
       "version_minor": 0
      },
      "text/plain": [
       "Validation: |                                                                                    | 0/? [00:00<…"
      ]
     },
     "metadata": {},
     "output_type": "display_data"
    },
    {
     "data": {
      "application/vnd.jupyter.widget-view+json": {
       "model_id": "",
       "version_major": 2,
       "version_minor": 0
      },
      "text/plain": [
       "Validation: |                                                                                    | 0/? [00:00<…"
      ]
     },
     "metadata": {},
     "output_type": "display_data"
    },
    {
     "data": {
      "application/vnd.jupyter.widget-view+json": {
       "model_id": "",
       "version_major": 2,
       "version_minor": 0
      },
      "text/plain": [
       "Validation: |                                                                                    | 0/? [00:00<…"
      ]
     },
     "metadata": {},
     "output_type": "display_data"
    },
    {
     "data": {
      "application/vnd.jupyter.widget-view+json": {
       "model_id": "",
       "version_major": 2,
       "version_minor": 0
      },
      "text/plain": [
       "Validation: |                                                                                    | 0/? [00:00<…"
      ]
     },
     "metadata": {},
     "output_type": "display_data"
    },
    {
     "data": {
      "application/vnd.jupyter.widget-view+json": {
       "model_id": "",
       "version_major": 2,
       "version_minor": 0
      },
      "text/plain": [
       "Validation: |                                                                                    | 0/? [00:00<…"
      ]
     },
     "metadata": {},
     "output_type": "display_data"
    },
    {
     "data": {
      "application/vnd.jupyter.widget-view+json": {
       "model_id": "",
       "version_major": 2,
       "version_minor": 0
      },
      "text/plain": [
       "Validation: |                                                                                    | 0/? [00:00<…"
      ]
     },
     "metadata": {},
     "output_type": "display_data"
    },
    {
     "data": {
      "application/vnd.jupyter.widget-view+json": {
       "model_id": "",
       "version_major": 2,
       "version_minor": 0
      },
      "text/plain": [
       "Validation: |                                                                                    | 0/? [00:00<…"
      ]
     },
     "metadata": {},
     "output_type": "display_data"
    },
    {
     "data": {
      "application/vnd.jupyter.widget-view+json": {
       "model_id": "",
       "version_major": 2,
       "version_minor": 0
      },
      "text/plain": [
       "Validation: |                                                                                    | 0/? [00:00<…"
      ]
     },
     "metadata": {},
     "output_type": "display_data"
    },
    {
     "data": {
      "application/vnd.jupyter.widget-view+json": {
       "model_id": "",
       "version_major": 2,
       "version_minor": 0
      },
      "text/plain": [
       "Validation: |                                                                                    | 0/? [00:00<…"
      ]
     },
     "metadata": {},
     "output_type": "display_data"
    },
    {
     "data": {
      "application/vnd.jupyter.widget-view+json": {
       "model_id": "",
       "version_major": 2,
       "version_minor": 0
      },
      "text/plain": [
       "Validation: |                                                                                    | 0/? [00:00<…"
      ]
     },
     "metadata": {},
     "output_type": "display_data"
    },
    {
     "data": {
      "application/vnd.jupyter.widget-view+json": {
       "model_id": "",
       "version_major": 2,
       "version_minor": 0
      },
      "text/plain": [
       "Validation: |                                                                                    | 0/? [00:00<…"
      ]
     },
     "metadata": {},
     "output_type": "display_data"
    },
    {
     "data": {
      "application/vnd.jupyter.widget-view+json": {
       "model_id": "",
       "version_major": 2,
       "version_minor": 0
      },
      "text/plain": [
       "Validation: |                                                                                    | 0/? [00:00<…"
      ]
     },
     "metadata": {},
     "output_type": "display_data"
    },
    {
     "data": {
      "application/vnd.jupyter.widget-view+json": {
       "model_id": "",
       "version_major": 2,
       "version_minor": 0
      },
      "text/plain": [
       "Validation: |                                                                                    | 0/? [00:00<…"
      ]
     },
     "metadata": {},
     "output_type": "display_data"
    },
    {
     "data": {
      "application/vnd.jupyter.widget-view+json": {
       "model_id": "",
       "version_major": 2,
       "version_minor": 0
      },
      "text/plain": [
       "Validation: |                                                                                    | 0/? [00:00<…"
      ]
     },
     "metadata": {},
     "output_type": "display_data"
    },
    {
     "data": {
      "application/vnd.jupyter.widget-view+json": {
       "model_id": "",
       "version_major": 2,
       "version_minor": 0
      },
      "text/plain": [
       "Validation: |                                                                                    | 0/? [00:00<…"
      ]
     },
     "metadata": {},
     "output_type": "display_data"
    },
    {
     "data": {
      "application/vnd.jupyter.widget-view+json": {
       "model_id": "",
       "version_major": 2,
       "version_minor": 0
      },
      "text/plain": [
       "Validation: |                                                                                    | 0/? [00:00<…"
      ]
     },
     "metadata": {},
     "output_type": "display_data"
    },
    {
     "data": {
      "application/vnd.jupyter.widget-view+json": {
       "model_id": "",
       "version_major": 2,
       "version_minor": 0
      },
      "text/plain": [
       "Validation: |                                                                                    | 0/? [00:00<…"
      ]
     },
     "metadata": {},
     "output_type": "display_data"
    },
    {
     "data": {
      "application/vnd.jupyter.widget-view+json": {
       "model_id": "",
       "version_major": 2,
       "version_minor": 0
      },
      "text/plain": [
       "Validation: |                                                                                    | 0/? [00:00<…"
      ]
     },
     "metadata": {},
     "output_type": "display_data"
    },
    {
     "data": {
      "application/vnd.jupyter.widget-view+json": {
       "model_id": "",
       "version_major": 2,
       "version_minor": 0
      },
      "text/plain": [
       "Validation: |                                                                                    | 0/? [00:00<…"
      ]
     },
     "metadata": {},
     "output_type": "display_data"
    },
    {
     "data": {
      "application/vnd.jupyter.widget-view+json": {
       "model_id": "",
       "version_major": 2,
       "version_minor": 0
      },
      "text/plain": [
       "Validation: |                                                                                    | 0/? [00:00<…"
      ]
     },
     "metadata": {},
     "output_type": "display_data"
    },
    {
     "data": {
      "application/vnd.jupyter.widget-view+json": {
       "model_id": "",
       "version_major": 2,
       "version_minor": 0
      },
      "text/plain": [
       "Validation: |                                                                                    | 0/? [00:00<…"
      ]
     },
     "metadata": {},
     "output_type": "display_data"
    },
    {
     "data": {
      "application/vnd.jupyter.widget-view+json": {
       "model_id": "",
       "version_major": 2,
       "version_minor": 0
      },
      "text/plain": [
       "Validation: |                                                                                    | 0/? [00:00<…"
      ]
     },
     "metadata": {},
     "output_type": "display_data"
    },
    {
     "data": {
      "application/vnd.jupyter.widget-view+json": {
       "model_id": "",
       "version_major": 2,
       "version_minor": 0
      },
      "text/plain": [
       "Validation: |                                                                                    | 0/? [00:00<…"
      ]
     },
     "metadata": {},
     "output_type": "display_data"
    },
    {
     "data": {
      "application/vnd.jupyter.widget-view+json": {
       "model_id": "",
       "version_major": 2,
       "version_minor": 0
      },
      "text/plain": [
       "Validation: |                                                                                    | 0/? [00:00<…"
      ]
     },
     "metadata": {},
     "output_type": "display_data"
    },
    {
     "data": {
      "application/vnd.jupyter.widget-view+json": {
       "model_id": "",
       "version_major": 2,
       "version_minor": 0
      },
      "text/plain": [
       "Validation: |                                                                                    | 0/? [00:00<…"
      ]
     },
     "metadata": {},
     "output_type": "display_data"
    },
    {
     "data": {
      "application/vnd.jupyter.widget-view+json": {
       "model_id": "",
       "version_major": 2,
       "version_minor": 0
      },
      "text/plain": [
       "Validation: |                                                                                    | 0/? [00:00<…"
      ]
     },
     "metadata": {},
     "output_type": "display_data"
    },
    {
     "data": {
      "application/vnd.jupyter.widget-view+json": {
       "model_id": "",
       "version_major": 2,
       "version_minor": 0
      },
      "text/plain": [
       "Validation: |                                                                                    | 0/? [00:00<…"
      ]
     },
     "metadata": {},
     "output_type": "display_data"
    },
    {
     "data": {
      "application/vnd.jupyter.widget-view+json": {
       "model_id": "",
       "version_major": 2,
       "version_minor": 0
      },
      "text/plain": [
       "Validation: |                                                                                    | 0/? [00:00<…"
      ]
     },
     "metadata": {},
     "output_type": "display_data"
    },
    {
     "data": {
      "application/vnd.jupyter.widget-view+json": {
       "model_id": "",
       "version_major": 2,
       "version_minor": 0
      },
      "text/plain": [
       "Validation: |                                                                                    | 0/? [00:00<…"
      ]
     },
     "metadata": {},
     "output_type": "display_data"
    },
    {
     "data": {
      "application/vnd.jupyter.widget-view+json": {
       "model_id": "",
       "version_major": 2,
       "version_minor": 0
      },
      "text/plain": [
       "Validation: |                                                                                    | 0/? [00:00<…"
      ]
     },
     "metadata": {},
     "output_type": "display_data"
    },
    {
     "data": {
      "application/vnd.jupyter.widget-view+json": {
       "model_id": "",
       "version_major": 2,
       "version_minor": 0
      },
      "text/plain": [
       "Validation: |                                                                                    | 0/? [00:00<…"
      ]
     },
     "metadata": {},
     "output_type": "display_data"
    },
    {
     "data": {
      "application/vnd.jupyter.widget-view+json": {
       "model_id": "",
       "version_major": 2,
       "version_minor": 0
      },
      "text/plain": [
       "Validation: |                                                                                    | 0/? [00:00<…"
      ]
     },
     "metadata": {},
     "output_type": "display_data"
    },
    {
     "data": {
      "application/vnd.jupyter.widget-view+json": {
       "model_id": "",
       "version_major": 2,
       "version_minor": 0
      },
      "text/plain": [
       "Validation: |                                                                                    | 0/? [00:00<…"
      ]
     },
     "metadata": {},
     "output_type": "display_data"
    },
    {
     "data": {
      "application/vnd.jupyter.widget-view+json": {
       "model_id": "",
       "version_major": 2,
       "version_minor": 0
      },
      "text/plain": [
       "Validation: |                                                                                    | 0/? [00:00<…"
      ]
     },
     "metadata": {},
     "output_type": "display_data"
    },
    {
     "data": {
      "application/vnd.jupyter.widget-view+json": {
       "model_id": "",
       "version_major": 2,
       "version_minor": 0
      },
      "text/plain": [
       "Validation: |                                                                                    | 0/? [00:00<…"
      ]
     },
     "metadata": {},
     "output_type": "display_data"
    },
    {
     "data": {
      "application/vnd.jupyter.widget-view+json": {
       "model_id": "",
       "version_major": 2,
       "version_minor": 0
      },
      "text/plain": [
       "Validation: |                                                                                    | 0/? [00:00<…"
      ]
     },
     "metadata": {},
     "output_type": "display_data"
    },
    {
     "data": {
      "application/vnd.jupyter.widget-view+json": {
       "model_id": "",
       "version_major": 2,
       "version_minor": 0
      },
      "text/plain": [
       "Validation: |                                                                                    | 0/? [00:00<…"
      ]
     },
     "metadata": {},
     "output_type": "display_data"
    },
    {
     "data": {
      "application/vnd.jupyter.widget-view+json": {
       "model_id": "",
       "version_major": 2,
       "version_minor": 0
      },
      "text/plain": [
       "Validation: |                                                                                    | 0/? [00:00<…"
      ]
     },
     "metadata": {},
     "output_type": "display_data"
    },
    {
     "data": {
      "application/vnd.jupyter.widget-view+json": {
       "model_id": "",
       "version_major": 2,
       "version_minor": 0
      },
      "text/plain": [
       "Validation: |                                                                                    | 0/? [00:00<…"
      ]
     },
     "metadata": {},
     "output_type": "display_data"
    },
    {
     "data": {
      "application/vnd.jupyter.widget-view+json": {
       "model_id": "",
       "version_major": 2,
       "version_minor": 0
      },
      "text/plain": [
       "Validation: |                                                                                    | 0/? [00:00<…"
      ]
     },
     "metadata": {},
     "output_type": "display_data"
    },
    {
     "data": {
      "application/vnd.jupyter.widget-view+json": {
       "model_id": "",
       "version_major": 2,
       "version_minor": 0
      },
      "text/plain": [
       "Validation: |                                                                                    | 0/? [00:00<…"
      ]
     },
     "metadata": {},
     "output_type": "display_data"
    },
    {
     "data": {
      "application/vnd.jupyter.widget-view+json": {
       "model_id": "",
       "version_major": 2,
       "version_minor": 0
      },
      "text/plain": [
       "Validation: |                                                                                    | 0/? [00:00<…"
      ]
     },
     "metadata": {},
     "output_type": "display_data"
    },
    {
     "data": {
      "application/vnd.jupyter.widget-view+json": {
       "model_id": "",
       "version_major": 2,
       "version_minor": 0
      },
      "text/plain": [
       "Validation: |                                                                                    | 0/? [00:00<…"
      ]
     },
     "metadata": {},
     "output_type": "display_data"
    },
    {
     "data": {
      "application/vnd.jupyter.widget-view+json": {
       "model_id": "",
       "version_major": 2,
       "version_minor": 0
      },
      "text/plain": [
       "Validation: |                                                                                    | 0/? [00:00<…"
      ]
     },
     "metadata": {},
     "output_type": "display_data"
    },
    {
     "data": {
      "application/vnd.jupyter.widget-view+json": {
       "model_id": "",
       "version_major": 2,
       "version_minor": 0
      },
      "text/plain": [
       "Validation: |                                                                                    | 0/? [00:00<…"
      ]
     },
     "metadata": {},
     "output_type": "display_data"
    },
    {
     "data": {
      "application/vnd.jupyter.widget-view+json": {
       "model_id": "",
       "version_major": 2,
       "version_minor": 0
      },
      "text/plain": [
       "Validation: |                                                                                    | 0/? [00:00<…"
      ]
     },
     "metadata": {},
     "output_type": "display_data"
    },
    {
     "data": {
      "application/vnd.jupyter.widget-view+json": {
       "model_id": "",
       "version_major": 2,
       "version_minor": 0
      },
      "text/plain": [
       "Validation: |                                                                                    | 0/? [00:00<…"
      ]
     },
     "metadata": {},
     "output_type": "display_data"
    },
    {
     "data": {
      "application/vnd.jupyter.widget-view+json": {
       "model_id": "",
       "version_major": 2,
       "version_minor": 0
      },
      "text/plain": [
       "Validation: |                                                                                    | 0/? [00:00<…"
      ]
     },
     "metadata": {},
     "output_type": "display_data"
    },
    {
     "data": {
      "application/vnd.jupyter.widget-view+json": {
       "model_id": "",
       "version_major": 2,
       "version_minor": 0
      },
      "text/plain": [
       "Validation: |                                                                                    | 0/? [00:00<…"
      ]
     },
     "metadata": {},
     "output_type": "display_data"
    },
    {
     "data": {
      "application/vnd.jupyter.widget-view+json": {
       "model_id": "",
       "version_major": 2,
       "version_minor": 0
      },
      "text/plain": [
       "Validation: |                                                                                    | 0/? [00:00<…"
      ]
     },
     "metadata": {},
     "output_type": "display_data"
    },
    {
     "data": {
      "application/vnd.jupyter.widget-view+json": {
       "model_id": "",
       "version_major": 2,
       "version_minor": 0
      },
      "text/plain": [
       "Validation: |                                                                                    | 0/? [00:00<…"
      ]
     },
     "metadata": {},
     "output_type": "display_data"
    },
    {
     "data": {
      "application/vnd.jupyter.widget-view+json": {
       "model_id": "",
       "version_major": 2,
       "version_minor": 0
      },
      "text/plain": [
       "Validation: |                                                                                    | 0/? [00:00<…"
      ]
     },
     "metadata": {},
     "output_type": "display_data"
    },
    {
     "data": {
      "application/vnd.jupyter.widget-view+json": {
       "model_id": "",
       "version_major": 2,
       "version_minor": 0
      },
      "text/plain": [
       "Validation: |                                                                                    | 0/? [00:00<…"
      ]
     },
     "metadata": {},
     "output_type": "display_data"
    },
    {
     "data": {
      "application/vnd.jupyter.widget-view+json": {
       "model_id": "",
       "version_major": 2,
       "version_minor": 0
      },
      "text/plain": [
       "Validation: |                                                                                    | 0/? [00:00<…"
      ]
     },
     "metadata": {},
     "output_type": "display_data"
    },
    {
     "data": {
      "application/vnd.jupyter.widget-view+json": {
       "model_id": "",
       "version_major": 2,
       "version_minor": 0
      },
      "text/plain": [
       "Validation: |                                                                                    | 0/? [00:00<…"
      ]
     },
     "metadata": {},
     "output_type": "display_data"
    },
    {
     "data": {
      "application/vnd.jupyter.widget-view+json": {
       "model_id": "",
       "version_major": 2,
       "version_minor": 0
      },
      "text/plain": [
       "Validation: |                                                                                    | 0/? [00:00<…"
      ]
     },
     "metadata": {},
     "output_type": "display_data"
    },
    {
     "data": {
      "application/vnd.jupyter.widget-view+json": {
       "model_id": "",
       "version_major": 2,
       "version_minor": 0
      },
      "text/plain": [
       "Validation: |                                                                                    | 0/? [00:00<…"
      ]
     },
     "metadata": {},
     "output_type": "display_data"
    },
    {
     "data": {
      "application/vnd.jupyter.widget-view+json": {
       "model_id": "",
       "version_major": 2,
       "version_minor": 0
      },
      "text/plain": [
       "Validation: |                                                                                    | 0/? [00:00<…"
      ]
     },
     "metadata": {},
     "output_type": "display_data"
    },
    {
     "data": {
      "application/vnd.jupyter.widget-view+json": {
       "model_id": "",
       "version_major": 2,
       "version_minor": 0
      },
      "text/plain": [
       "Validation: |                                                                                    | 0/? [00:00<…"
      ]
     },
     "metadata": {},
     "output_type": "display_data"
    },
    {
     "data": {
      "application/vnd.jupyter.widget-view+json": {
       "model_id": "",
       "version_major": 2,
       "version_minor": 0
      },
      "text/plain": [
       "Validation: |                                                                                    | 0/? [00:00<…"
      ]
     },
     "metadata": {},
     "output_type": "display_data"
    },
    {
     "data": {
      "application/vnd.jupyter.widget-view+json": {
       "model_id": "",
       "version_major": 2,
       "version_minor": 0
      },
      "text/plain": [
       "Validation: |                                                                                    | 0/? [00:00<…"
      ]
     },
     "metadata": {},
     "output_type": "display_data"
    },
    {
     "data": {
      "application/vnd.jupyter.widget-view+json": {
       "model_id": "",
       "version_major": 2,
       "version_minor": 0
      },
      "text/plain": [
       "Validation: |                                                                                    | 0/? [00:00<…"
      ]
     },
     "metadata": {},
     "output_type": "display_data"
    },
    {
     "data": {
      "application/vnd.jupyter.widget-view+json": {
       "model_id": "",
       "version_major": 2,
       "version_minor": 0
      },
      "text/plain": [
       "Validation: |                                                                                    | 0/? [00:00<…"
      ]
     },
     "metadata": {},
     "output_type": "display_data"
    },
    {
     "name": "stderr",
     "output_type": "stream",
     "text": [
      "`Trainer.fit` stopped: `max_epochs=100` reached.\n"
     ]
    }
   ],
   "source": [
    "model = rsp.segmentation.train([[r\"E:\\Work\\numto\\data\\x_train.zarr\", r\"E:\\Work\\numto\\data\\y_rast.zarr\", 'train']], [[r\"E:\\Work\\numto\\data\\x_train.zarr\", r\"E:\\Work\\numto\\data\\y_rast.zarr\", 'val']], r\"E:\\Work\\numto\\data\\upernet_convnext.ckpt\", \"UperNet\", backbone = 'ConvNeXTV2', epochs = 100, augment = True)"
   ]
  },
  {
   "cell_type": "markdown",
   "id": "6eed9068-bff6-4fd5-bd0d-1c53b8bcfc20",
   "metadata": {},
   "source": [
    "Here we test the model."
   ]
  },
  {
   "cell_type": "code",
   "execution_count": 4,
   "id": "fa3759c1-70b9-4adb-84a2-b4d942a8aea1",
   "metadata": {},
   "outputs": [
    {
     "name": "stderr",
     "output_type": "stream",
     "text": [
      "GPU available: True (cuda), used: True\n",
      "TPU available: False, using: 0 TPU cores\n",
      "IPU available: False, using: 0 IPUs\n",
      "HPU available: False, using: 0 HPUs\n",
      "LOCAL_RANK: 0 - CUDA_VISIBLE_DEVICES: [0]\n",
      "C:\\ProgramData\\Anaconda3\\envs\\geo\\lib\\site-packages\\lightning\\pytorch\\trainer\\connectors\\data_connector.py:441: The 'test_dataloader' does not have many workers which may be a bottleneck. Consider increasing the value of the `num_workers` argument` to `num_workers=15` in the `DataLoader` to improve performance.\n"
     ]
    },
    {
     "data": {
      "application/vnd.jupyter.widget-view+json": {
       "model_id": "e4cb8ce7354448d2ad8092ee2cb279e1",
       "version_major": 2,
       "version_minor": 0
      },
      "text/plain": [
       "Testing: |                                                                                       | 0/? [00:00<…"
      ]
     },
     "metadata": {},
     "output_type": "display_data"
    },
    {
     "data": {
      "text/html": [
       "<pre style=\"white-space:pre;overflow-x:auto;line-height:normal;font-family:Menlo,'DejaVu Sans Mono',consolas,'Courier New',monospace\">┏━━━━━━━━━━━━━━━━━━━━━━━━━━━┳━━━━━━━━━━━━━━━━━━━━━━━━━━━┓\n",
       "┃<span style=\"font-weight: bold\">        Test metric        </span>┃<span style=\"font-weight: bold\">       DataLoader 0        </span>┃\n",
       "┡━━━━━━━━━━━━━━━━━━━━━━━━━━━╇━━━━━━━━━━━━━━━━━━━━━━━━━━━┩\n",
       "│<span style=\"color: #008080; text-decoration-color: #008080\">      test_acc_epoch       </span>│<span style=\"color: #800080; text-decoration-color: #800080\">    0.6594940423965454     </span>│\n",
       "│<span style=\"color: #008080; text-decoration-color: #008080\">     test_auroc_epoch      </span>│<span style=\"color: #800080; text-decoration-color: #800080\">     0.814210832118988     </span>│\n",
       "│<span style=\"color: #008080; text-decoration-color: #008080\">      test_iou_epoch       </span>│<span style=\"color: #800080; text-decoration-color: #800080\">    0.39252403378486633    </span>│\n",
       "│<span style=\"color: #008080; text-decoration-color: #008080\">      test_loss_epoch      </span>│<span style=\"color: #800080; text-decoration-color: #800080\">     0.997637152671814     </span>│\n",
       "│<span style=\"color: #008080; text-decoration-color: #008080\">   test_precision_epoch    </span>│<span style=\"color: #800080; text-decoration-color: #800080\">    0.6594940423965454     </span>│\n",
       "│<span style=\"color: #008080; text-decoration-color: #008080\">     test_recall_epoch     </span>│<span style=\"color: #800080; text-decoration-color: #800080\">    0.6594940423965454     </span>│\n",
       "└───────────────────────────┴───────────────────────────┘\n",
       "</pre>\n"
      ],
      "text/plain": [
       "┏━━━━━━━━━━━━━━━━━━━━━━━━━━━┳━━━━━━━━━━━━━━━━━━━━━━━━━━━┓\n",
       "┃\u001b[1m \u001b[0m\u001b[1m       Test metric       \u001b[0m\u001b[1m \u001b[0m┃\u001b[1m \u001b[0m\u001b[1m      DataLoader 0       \u001b[0m\u001b[1m \u001b[0m┃\n",
       "┡━━━━━━━━━━━━━━━━━━━━━━━━━━━╇━━━━━━━━━━━━━━━━━━━━━━━━━━━┩\n",
       "│\u001b[36m \u001b[0m\u001b[36m     test_acc_epoch      \u001b[0m\u001b[36m \u001b[0m│\u001b[35m \u001b[0m\u001b[35m   0.6594940423965454    \u001b[0m\u001b[35m \u001b[0m│\n",
       "│\u001b[36m \u001b[0m\u001b[36m    test_auroc_epoch     \u001b[0m\u001b[36m \u001b[0m│\u001b[35m \u001b[0m\u001b[35m    0.814210832118988    \u001b[0m\u001b[35m \u001b[0m│\n",
       "│\u001b[36m \u001b[0m\u001b[36m     test_iou_epoch      \u001b[0m\u001b[36m \u001b[0m│\u001b[35m \u001b[0m\u001b[35m   0.39252403378486633   \u001b[0m\u001b[35m \u001b[0m│\n",
       "│\u001b[36m \u001b[0m\u001b[36m     test_loss_epoch     \u001b[0m\u001b[36m \u001b[0m│\u001b[35m \u001b[0m\u001b[35m    0.997637152671814    \u001b[0m\u001b[35m \u001b[0m│\n",
       "│\u001b[36m \u001b[0m\u001b[36m  test_precision_epoch   \u001b[0m\u001b[36m \u001b[0m│\u001b[35m \u001b[0m\u001b[35m   0.6594940423965454    \u001b[0m\u001b[35m \u001b[0m│\n",
       "│\u001b[36m \u001b[0m\u001b[36m    test_recall_epoch    \u001b[0m\u001b[36m \u001b[0m│\u001b[35m \u001b[0m\u001b[35m   0.6594940423965454    \u001b[0m\u001b[35m \u001b[0m│\n",
       "└───────────────────────────┴───────────────────────────┘\n"
      ]
     },
     "metadata": {},
     "output_type": "display_data"
    }
   ],
   "source": [
    "rsp.segmentation.test([[r\"E:\\Work\\numto\\data\\x_train.zarr\", r\"E:\\Work\\numto\\data\\y_land.zarr\", 'test']], r\"E:\\Work\\numto\\data\\segformer_land.ckpt\")"
   ]
  },
  {
   "cell_type": "code",
   "execution_count": 4,
   "id": "147429c3-10a7-4b13-a9cc-9a037cf1b1d3",
   "metadata": {},
   "outputs": [
    {
     "name": "stderr",
     "output_type": "stream",
     "text": [
      "GPU available: True (cuda), used: True\n",
      "TPU available: False, using: 0 TPU cores\n",
      "IPU available: False, using: 0 IPUs\n",
      "HPU available: False, using: 0 HPUs\n",
      "LOCAL_RANK: 0 - CUDA_VISIBLE_DEVICES: [0]\n",
      "C:\\ProgramData\\Anaconda3\\envs\\geo\\lib\\site-packages\\lightning\\pytorch\\trainer\\connectors\\data_connector.py:441: The 'predict_dataloader' does not have many workers which may be a bottleneck. Consider increasing the value of the `num_workers` argument` to `num_workers=15` in the `DataLoader` to improve performance.\n"
     ]
    },
    {
     "data": {
      "application/vnd.jupyter.widget-view+json": {
       "model_id": "65096ae8f0ef4d5e87a1cd85688c2d44",
       "version_major": 2,
       "version_minor": 0
      },
      "text/plain": [
       "Predicting: |                                                                                    | 0/? [00:00<…"
      ]
     },
     "metadata": {},
     "output_type": "display_data"
    }
   ],
   "source": [
    "rsp.segmentation.generate_map(r\"E:\\Work\\numto\\data\\x_all.zarr\", r\"E:\\Work\\numto\\data\\y_land.zarr\", r\"E:\\Work\\numto\\data\\dem\\all\\N63E069_FABDEM_V1-0_mosaic_norm.tif\", r\"E:\\Work\\numto\\data\\segformer_land.ckpt\", r\"E:\\Work\\numto\\data\\test.tif\")"
   ]
  },
  {
   "cell_type": "markdown",
   "id": "33e00b4a-d2f9-47f5-8fdd-87e1becc2adc",
   "metadata": {},
   "source": [
    "Here we train and test XGBoost and Random Forest models."
   ]
  },
  {
   "cell_type": "code",
   "execution_count": null,
   "id": "ff199451-4c34-40dc-b848-d8cc9dc6b030",
   "metadata": {},
   "outputs": [
    {
     "name": "stdout",
     "output_type": "stream",
     "text": [
      "[23:53:33] DEBUG: D:\\bld\\xgboost-split_1705650998634\\work\\src\\gbm\\gbtree.cc:130: Using tree method: 3\n",
      "[23:53:34] DEBUG: D:\\bld\\xgboost-split_1705650998634\\work\\src\\data\\simple_dmatrix.cc:177: Generating new Gradient Index.\n",
      "[23:53:44] ======== Monitor (0): HostSketchContainer ========\n",
      "[23:53:44] AllReduce: 0.259655s, 1 calls @ 259655us\n",
      "\n",
      "[23:53:44] MakeCuts: 0.379574s, 1 calls @ 379574us\n",
      "\n",
      "[23:53:44] PushRowPage: 8.79575s, 1 calls @ 8795753us\n",
      "\n",
      "[00:29:11] ======== Monitor (0): Learner ========\n",
      "[00:29:11] Configure: 0.062605s, 1 calls @ 62605us\n",
      "\n",
      "[00:29:11] EvalOneIter: 0.006406s, 100 calls @ 6406us\n",
      "\n",
      "[00:29:11] GetGradient: 70.3298s, 100 calls @ 70329804us\n",
      "\n",
      "[00:29:11] PredictRaw: 0.180921s, 100 calls @ 180921us\n",
      "\n",
      "[00:29:11] UpdateOneIter: 2136.47s, 100 calls @ 2136474167us\n",
      "\n",
      "[00:29:11] ======== Monitor (0): GBTree ========\n",
      "[00:29:11] BoostNewTrees: 2065.89s, 100 calls @ 2065886143us\n",
      "\n",
      "[00:29:11] CommitModel: 0.000948s, 100 calls @ 948us\n",
      "\n",
      "[00:29:11] ======== Monitor (0): HistUpdater ========\n",
      "[00:29:11] BuildHistogram: 317.911s, 4000 calls @ 317911406us\n",
      "\n",
      "[00:29:11] EvaluateSplits: 2.96009s, 4800 calls @ 2960092us\n",
      "\n",
      "[00:29:11] InitData: 592.475s, 800 calls @ 592474864us\n",
      "\n",
      "[00:29:11] InitRoot: 331.383s, 800 calls @ 331382562us\n",
      "\n",
      "[00:29:11] LeafPartition: 0.000264s, 800 calls @ 264us\n",
      "\n",
      "[00:29:11] UpdatePosition: 702.536s, 4800 calls @ 702535696us\n",
      "\n",
      "[00:29:11] UpdatePredictionCache: 68.9838s, 800 calls @ 68983824us\n",
      "\n",
      "[00:29:11] UpdateTree: 1947.39s, 800 calls @ 1947389934us\n",
      "\n",
      "[00:29:12] DEBUG: D:\\bld\\xgboost-split_1705650998634\\work\\src\\gbm\\gbtree.cc:130: Using tree method: 3\n"
     ]
    }
   ],
   "source": [
    "model = rsp.segmentation.train([[r\"E:\\Work\\numto\\data\\x_train.zarr\", r\"E:\\Work\\numto\\data\\y_rast.zarr\", 'train']], [[r\"E:\\Work\\numto\\data\\x_train.zarr\", r\"E:\\Work\\numto\\data\\y_rast.zarr\", 'val']], r\"E:\\Work\\numto\\data\\xgb.joblib\", \"XGBoost\")"
   ]
  },
  {
   "cell_type": "code",
   "execution_count": 3,
   "id": "e4abce7b-f66f-48e6-87ad-278a044289a9",
   "metadata": {},
   "outputs": [
    {
     "name": "stdout",
     "output_type": "stream",
     "text": [
      "[09:45:21] DEBUG: D:\\bld\\xgboost-split_1705650998634\\work\\src\\gbm\\gbtree.cc:130: Using tree method: 3\n",
      "[09:45:23] DEBUG: D:\\bld\\xgboost-split_1705650998634\\work\\src\\data\\simple_dmatrix.cc:177: Generating new Gradient Index.\n",
      "[09:45:33] ======== Monitor (0): HostSketchContainer ========\n",
      "[09:45:33] AllReduce: 0.2618s, 1 calls @ 261800us\n",
      "\n",
      "[09:45:33] MakeCuts: 0.348395s, 1 calls @ 348395us\n",
      "\n",
      "[09:45:33] PushRowPage: 8.51437s, 1 calls @ 8514371us\n",
      "\n",
      "[10:24:06] ======== Monitor (0): Learner ========\n",
      "[10:24:06] Configure: 0.037608s, 1 calls @ 37608us\n",
      "\n",
      "[10:24:06] EvalOneIter: 0.002157s, 1 calls @ 2157us\n",
      "\n",
      "[10:24:06] GetGradient: 1.16796s, 1 calls @ 1167956us\n",
      "\n",
      "[10:24:06] PredictRaw: 0.149039s, 1 calls @ 149039us\n",
      "\n",
      "[10:24:06] UpdateOneIter: 2324.85s, 1 calls @ 2324850944us\n",
      "\n",
      "[10:24:06] ======== Monitor (0): GBTree ========\n",
      "[10:24:06] BoostNewTrees: 2323.46s, 1 calls @ 2323457033us\n",
      "\n",
      "[10:24:06] CommitModel: 0.03808s, 1 calls @ 38080us\n",
      "\n",
      "[10:24:06] ======== Monitor (0): HistUpdater ========\n",
      "[10:24:06] BuildHistogram: 327.492s, 4000 calls @ 327492244us\n",
      "\n",
      "[10:24:06] EvaluateSplits: 1.794s, 4800 calls @ 1793997us\n",
      "\n",
      "[10:24:06] InitData: 593.937s, 800 calls @ 593936871us\n",
      "\n",
      "[10:24:06] InitRoot: 391.536s, 800 calls @ 391535743us\n",
      "\n",
      "[10:24:06] LeafPartition: 0.000275s, 800 calls @ 275us\n",
      "\n",
      "[10:24:06] UpdatePosition: 700.471s, 4800 calls @ 700471100us\n",
      "\n",
      "[10:24:06] UpdateTree: 2015.58s, 800 calls @ 2015582181us\n",
      "\n",
      "[10:24:08] DEBUG: D:\\bld\\xgboost-split_1705650998634\\work\\src\\gbm\\gbtree.cc:130: Using tree method: 3\n",
      "Accuracy:  tensor(0.7011)\n",
      "Precision:  tensor(0.6650)\n",
      "Recall:  tensor(0.5133)\n",
      "ROC_AUC:  tensor(0.7825)\n",
      "IOU:  tensor(0.4818)\n",
      "Accuracy:  tensor(0.6843)\n",
      "Precision:  tensor(0.6226)\n",
      "Recall:  tensor(0.4645)\n",
      "ROC_AUC:  tensor(0.7792)\n",
      "IOU:  tensor(0.4179)\n"
     ]
    }
   ],
   "source": [
    "model = rsp.segmentation.train([[r\"E:\\Work\\numto\\data\\x_train.zarr\", r\"E:\\Work\\numto\\data\\y_rast.zarr\", 'train']], [[r\"E:\\Work\\numto\\data\\x_train.zarr\", r\"E:\\Work\\numto\\data\\y_rast.zarr\", 'val']], r\"E:\\Work\\numto\\data\\xgbrf.joblib\", \"XGB Random Forest\")"
   ]
  },
  {
   "cell_type": "code",
   "execution_count": 4,
   "id": "6a592d5f-dfa9-4170-886b-dbd3fe0c083d",
   "metadata": {},
   "outputs": [
    {
     "name": "stderr",
     "output_type": "stream",
     "text": [
      "[Parallel(n_jobs=-1)]: Using backend ThreadingBackend with 16 concurrent workers.\n",
      "[Parallel(n_jobs=-1)]: Done  18 tasks      | elapsed:  6.0min\n",
      "[Parallel(n_jobs=-1)]: Done 100 out of 100 | elapsed: 16.7min finished\n",
      "[Parallel(n_jobs=16)]: Using backend ThreadingBackend with 16 concurrent workers.\n",
      "[Parallel(n_jobs=16)]: Done  18 tasks      | elapsed:  4.2min\n",
      "[Parallel(n_jobs=16)]: Done 100 out of 100 | elapsed: 10.5min finished\n"
     ]
    },
    {
     "name": "stdout",
     "output_type": "stream",
     "text": [
      "Accuracy:  0.5628949999809265\n",
      "Precision:  0.24872583150863647\n",
      "Recall:  0.324130654335022\n",
      "ROC_AUC:  0.6768924593925476\n",
      "IOU:  0.2526510953903198\n"
     ]
    },
    {
     "name": "stderr",
     "output_type": "stream",
     "text": [
      "[Parallel(n_jobs=16)]: Using backend ThreadingBackend with 16 concurrent workers.\n",
      "[Parallel(n_jobs=16)]: Done  18 tasks      | elapsed:    4.1s\n",
      "[Parallel(n_jobs=16)]: Done 100 out of 100 | elapsed:   16.5s finished\n"
     ]
    },
    {
     "name": "stdout",
     "output_type": "stream",
     "text": [
      "Accuracy:  0.5547116994857788\n",
      "Precision:  0.2462596595287323\n",
      "Recall:  0.32639601826667786\n",
      "ROC_AUC:  0.6613279581069946\n",
      "IOU:  0.25141921639442444\n"
     ]
    }
   ],
   "source": [
    "model = rsp.segmentation.train([[r\"E:\\Work\\numto\\data\\x_train.zarr\", r\"E:\\Work\\numto\\data\\y_rast.zarr\", 'train']], [[r\"E:\\Work\\numto\\data\\x_train.zarr\", r\"E:\\Work\\numto\\data\\y_rast.zarr\", 'val']], r\"E:\\Work\\numto\\data\\rf.joblib\", \"Random Forest\")"
   ]
  },
  {
   "cell_type": "code",
   "execution_count": 3,
   "id": "f59a36b4-1f23-4d4a-9c06-b99f64d8f548",
   "metadata": {},
   "outputs": [
    {
     "name": "stderr",
     "output_type": "stream",
     "text": [
      "[Parallel(n_jobs=-1)]: Using backend LokyBackend with 16 concurrent workers.\n"
     ]
    },
    {
     "name": "stdout",
     "output_type": "stream",
     "text": [
      "Accuracy:  0.683301568031311\n",
      "Precision:  0.5076267123222351\n",
      "Recall:  0.43976494669914246\n",
      "ROC_AUC:  0.7729940414428711\n",
      "IOU:  0.3952024281024933\n",
      "Accuracy:  0.6800670027732849\n",
      "Precision:  0.4995916485786438\n",
      "Recall:  0.4516178071498871\n",
      "ROC_AUC:  0.7774143218994141\n",
      "IOU:  0.4025213122367859\n"
     ]
    }
   ],
   "source": [
    "model = rsp.segmentation.train([[r\"E:\\Work\\numto\\data\\x_train.zarr\", r\"E:\\Work\\numto\\data\\y_rast.zarr\", 'train']], [[r\"E:\\Work\\numto\\data\\x_train.zarr\", r\"E:\\Work\\numto\\data\\y_rast.zarr\", 'val']], r\"E:\\Work\\numto\\data\\lr.joblib\", \"Logistic Regression\")"
   ]
  },
  {
   "cell_type": "code",
   "execution_count": null,
   "id": "a2959138-d34e-469f-9c69-2ffb94d2737a",
   "metadata": {},
   "outputs": [
    {
     "name": "stdout",
     "output_type": "stream",
     "text": [
      "[LibSVM]"
     ]
    }
   ],
   "source": [
    "model = rsp.segmentation.train([[r\"E:\\Work\\numto\\data\\x_train.zarr\", r\"E:\\Work\\numto\\data\\y_rast.zarr\", 'train']], [[r\"E:\\Work\\numto\\data\\x_train.zarr\", r\"E:\\Work\\numto\\data\\y_rast.zarr\", 'val']], r\"E:\\Work\\numto\\data\\svm.joblib\", \"SVM\", backbone = 'linear', cache_size = 10000, shrinking = False)"
   ]
  },
  {
   "cell_type": "code",
   "execution_count": 6,
   "id": "12561851-beab-486f-9ebc-7699a422bdbf",
   "metadata": {},
   "outputs": [
    {
     "name": "stdout",
     "output_type": "stream",
     "text": [
      "[17:13:40] DEBUG: D:\\bld\\xgboost-split_1705650998634\\work\\src\\gbm\\gbtree.cc:130: Using tree method: 3\n",
      "Accuracy:  0.757277250289917\n",
      "Precision:  0.6682190895080566\n",
      "Recall:  0.5682948231697083\n",
      "ROC_AUC:  0.829160213470459\n",
      "IOU:  0.5336071252822876\n"
     ]
    }
   ],
   "source": [
    "model = rsp.segmentation.test([[r\"E:\\Work\\numto\\data\\x_train.zarr\", r\"E:\\Work\\numto\\data\\y_rast.zarr\", 'test']], r\"E:\\Work\\numto\\data\\xgb.joblib\")"
   ]
  },
  {
   "cell_type": "markdown",
   "id": "9edd4a32-6de0-434f-9e28-21f9531bbef8",
   "metadata": {},
   "source": [
    "Here we test several deep learning models."
   ]
  },
  {
   "cell_type": "code",
   "execution_count": 7,
   "id": "92178cac-ed89-4194-beb0-4a16adf4ba7d",
   "metadata": {},
   "outputs": [
    {
     "name": "stderr",
     "output_type": "stream",
     "text": [
      "GPU available: True (cuda), used: True\n",
      "TPU available: False, using: 0 TPU cores\n",
      "IPU available: False, using: 0 IPUs\n",
      "HPU available: False, using: 0 HPUs\n",
      "LOCAL_RANK: 0 - CUDA_VISIBLE_DEVICES: [0]\n",
      "C:\\ProgramData\\Anaconda3\\envs\\geo\\lib\\site-packages\\lightning\\pytorch\\trainer\\connectors\\data_connector.py:441: The 'test_dataloader' does not have many workers which may be a bottleneck. Consider increasing the value of the `num_workers` argument` to `num_workers=15` in the `DataLoader` to improve performance.\n"
     ]
    },
    {
     "data": {
      "application/vnd.jupyter.widget-view+json": {
       "model_id": "cc8a18d31f0f44d7a9605fe2d3cda8bd",
       "version_major": 2,
       "version_minor": 0
      },
      "text/plain": [
       "Testing: |                                                                                       | 0/? [00:00<…"
      ]
     },
     "metadata": {},
     "output_type": "display_data"
    },
    {
     "data": {
      "text/html": [
       "<pre style=\"white-space:pre;overflow-x:auto;line-height:normal;font-family:Menlo,'DejaVu Sans Mono',consolas,'Courier New',monospace\">┏━━━━━━━━━━━━━━━━━━━━━━━━━━━┳━━━━━━━━━━━━━━━━━━━━━━━━━━━┓\n",
       "┃<span style=\"font-weight: bold\">        Test metric        </span>┃<span style=\"font-weight: bold\">       DataLoader 0        </span>┃\n",
       "┡━━━━━━━━━━━━━━━━━━━━━━━━━━━╇━━━━━━━━━━━━━━━━━━━━━━━━━━━┩\n",
       "│<span style=\"color: #008080; text-decoration-color: #008080\">      test_acc_epoch       </span>│<span style=\"color: #800080; text-decoration-color: #800080\">    0.8012570142745972     </span>│\n",
       "│<span style=\"color: #008080; text-decoration-color: #008080\">     test_auroc_epoch      </span>│<span style=\"color: #800080; text-decoration-color: #800080\">    0.7229748964309692     </span>│\n",
       "│<span style=\"color: #008080; text-decoration-color: #008080\">      test_iou_epoch       </span>│<span style=\"color: #800080; text-decoration-color: #800080\">    0.6294564008712769     </span>│\n",
       "│<span style=\"color: #008080; text-decoration-color: #008080\">      test_loss_epoch      </span>│<span style=\"color: #800080; text-decoration-color: #800080\">    0.5189545154571533     </span>│\n",
       "│<span style=\"color: #008080; text-decoration-color: #008080\">   test_precision_epoch    </span>│<span style=\"color: #800080; text-decoration-color: #800080\">    0.7845098972320557     </span>│\n",
       "│<span style=\"color: #008080; text-decoration-color: #008080\">     test_recall_epoch     </span>│<span style=\"color: #800080; text-decoration-color: #800080\">    0.7460229396820068     </span>│\n",
       "└───────────────────────────┴───────────────────────────┘\n",
       "</pre>\n"
      ],
      "text/plain": [
       "┏━━━━━━━━━━━━━━━━━━━━━━━━━━━┳━━━━━━━━━━━━━━━━━━━━━━━━━━━┓\n",
       "┃\u001b[1m \u001b[0m\u001b[1m       Test metric       \u001b[0m\u001b[1m \u001b[0m┃\u001b[1m \u001b[0m\u001b[1m      DataLoader 0       \u001b[0m\u001b[1m \u001b[0m┃\n",
       "┡━━━━━━━━━━━━━━━━━━━━━━━━━━━╇━━━━━━━━━━━━━━━━━━━━━━━━━━━┩\n",
       "│\u001b[36m \u001b[0m\u001b[36m     test_acc_epoch      \u001b[0m\u001b[36m \u001b[0m│\u001b[35m \u001b[0m\u001b[35m   0.8012570142745972    \u001b[0m\u001b[35m \u001b[0m│\n",
       "│\u001b[36m \u001b[0m\u001b[36m    test_auroc_epoch     \u001b[0m\u001b[36m \u001b[0m│\u001b[35m \u001b[0m\u001b[35m   0.7229748964309692    \u001b[0m\u001b[35m \u001b[0m│\n",
       "│\u001b[36m \u001b[0m\u001b[36m     test_iou_epoch      \u001b[0m\u001b[36m \u001b[0m│\u001b[35m \u001b[0m\u001b[35m   0.6294564008712769    \u001b[0m\u001b[35m \u001b[0m│\n",
       "│\u001b[36m \u001b[0m\u001b[36m     test_loss_epoch     \u001b[0m\u001b[36m \u001b[0m│\u001b[35m \u001b[0m\u001b[35m   0.5189545154571533    \u001b[0m\u001b[35m \u001b[0m│\n",
       "│\u001b[36m \u001b[0m\u001b[36m  test_precision_epoch   \u001b[0m\u001b[36m \u001b[0m│\u001b[35m \u001b[0m\u001b[35m   0.7845098972320557    \u001b[0m\u001b[35m \u001b[0m│\n",
       "│\u001b[36m \u001b[0m\u001b[36m    test_recall_epoch    \u001b[0m\u001b[36m \u001b[0m│\u001b[35m \u001b[0m\u001b[35m   0.7460229396820068    \u001b[0m\u001b[35m \u001b[0m│\n",
       "└───────────────────────────┴───────────────────────────┘\n"
      ]
     },
     "metadata": {},
     "output_type": "display_data"
    }
   ],
   "source": [
    "model = rsp.segmentation.test([[r\"E:\\Work\\numto\\data\\x_train.zarr\", r\"E:\\Work\\numto\\data\\y_rast.zarr\", 'train']], r\"E:\\Work\\numto\\data\\deeplab_rast.ckpt\")"
   ]
  },
  {
   "cell_type": "code",
   "execution_count": 8,
   "id": "d7823a08-5da6-4703-bb13-d28833071b1f",
   "metadata": {},
   "outputs": [
    {
     "name": "stderr",
     "output_type": "stream",
     "text": [
      "GPU available: True (cuda), used: True\n",
      "TPU available: False, using: 0 TPU cores\n",
      "IPU available: False, using: 0 IPUs\n",
      "HPU available: False, using: 0 HPUs\n",
      "LOCAL_RANK: 0 - CUDA_VISIBLE_DEVICES: [0]\n",
      "C:\\ProgramData\\Anaconda3\\envs\\geo\\lib\\site-packages\\lightning\\pytorch\\trainer\\connectors\\data_connector.py:441: The 'test_dataloader' does not have many workers which may be a bottleneck. Consider increasing the value of the `num_workers` argument` to `num_workers=15` in the `DataLoader` to improve performance.\n"
     ]
    },
    {
     "data": {
      "application/vnd.jupyter.widget-view+json": {
       "model_id": "70955a4270bb488a997c79bb189f4a9b",
       "version_major": 2,
       "version_minor": 0
      },
      "text/plain": [
       "Testing: |                                                                                       | 0/? [00:00<…"
      ]
     },
     "metadata": {},
     "output_type": "display_data"
    },
    {
     "data": {
      "text/html": [
       "<pre style=\"white-space:pre;overflow-x:auto;line-height:normal;font-family:Menlo,'DejaVu Sans Mono',consolas,'Courier New',monospace\">┏━━━━━━━━━━━━━━━━━━━━━━━━━━━┳━━━━━━━━━━━━━━━━━━━━━━━━━━━┓\n",
       "┃<span style=\"font-weight: bold\">        Test metric        </span>┃<span style=\"font-weight: bold\">       DataLoader 0        </span>┃\n",
       "┡━━━━━━━━━━━━━━━━━━━━━━━━━━━╇━━━━━━━━━━━━━━━━━━━━━━━━━━━┩\n",
       "│<span style=\"color: #008080; text-decoration-color: #008080\">      test_acc_epoch       </span>│<span style=\"color: #800080; text-decoration-color: #800080\">    0.7267215251922607     </span>│\n",
       "│<span style=\"color: #008080; text-decoration-color: #008080\">     test_auroc_epoch      </span>│<span style=\"color: #800080; text-decoration-color: #800080\">    0.7052181363105774     </span>│\n",
       "│<span style=\"color: #008080; text-decoration-color: #008080\">      test_iou_epoch       </span>│<span style=\"color: #800080; text-decoration-color: #800080\">     0.530013918876648     </span>│\n",
       "│<span style=\"color: #008080; text-decoration-color: #008080\">      test_loss_epoch      </span>│<span style=\"color: #800080; text-decoration-color: #800080\">    0.7270022034645081     </span>│\n",
       "│<span style=\"color: #008080; text-decoration-color: #008080\">   test_precision_epoch    </span>│<span style=\"color: #800080; text-decoration-color: #800080\">    0.6905238628387451     </span>│\n",
       "│<span style=\"color: #008080; text-decoration-color: #008080\">     test_recall_epoch     </span>│<span style=\"color: #800080; text-decoration-color: #800080\">     0.675085186958313     </span>│\n",
       "└───────────────────────────┴───────────────────────────┘\n",
       "</pre>\n"
      ],
      "text/plain": [
       "┏━━━━━━━━━━━━━━━━━━━━━━━━━━━┳━━━━━━━━━━━━━━━━━━━━━━━━━━━┓\n",
       "┃\u001b[1m \u001b[0m\u001b[1m       Test metric       \u001b[0m\u001b[1m \u001b[0m┃\u001b[1m \u001b[0m\u001b[1m      DataLoader 0       \u001b[0m\u001b[1m \u001b[0m┃\n",
       "┡━━━━━━━━━━━━━━━━━━━━━━━━━━━╇━━━━━━━━━━━━━━━━━━━━━━━━━━━┩\n",
       "│\u001b[36m \u001b[0m\u001b[36m     test_acc_epoch      \u001b[0m\u001b[36m \u001b[0m│\u001b[35m \u001b[0m\u001b[35m   0.7267215251922607    \u001b[0m\u001b[35m \u001b[0m│\n",
       "│\u001b[36m \u001b[0m\u001b[36m    test_auroc_epoch     \u001b[0m\u001b[36m \u001b[0m│\u001b[35m \u001b[0m\u001b[35m   0.7052181363105774    \u001b[0m\u001b[35m \u001b[0m│\n",
       "│\u001b[36m \u001b[0m\u001b[36m     test_iou_epoch      \u001b[0m\u001b[36m \u001b[0m│\u001b[35m \u001b[0m\u001b[35m    0.530013918876648    \u001b[0m\u001b[35m \u001b[0m│\n",
       "│\u001b[36m \u001b[0m\u001b[36m     test_loss_epoch     \u001b[0m\u001b[36m \u001b[0m│\u001b[35m \u001b[0m\u001b[35m   0.7270022034645081    \u001b[0m\u001b[35m \u001b[0m│\n",
       "│\u001b[36m \u001b[0m\u001b[36m  test_precision_epoch   \u001b[0m\u001b[36m \u001b[0m│\u001b[35m \u001b[0m\u001b[35m   0.6905238628387451    \u001b[0m\u001b[35m \u001b[0m│\n",
       "│\u001b[36m \u001b[0m\u001b[36m    test_recall_epoch    \u001b[0m\u001b[36m \u001b[0m│\u001b[35m \u001b[0m\u001b[35m    0.675085186958313    \u001b[0m\u001b[35m \u001b[0m│\n",
       "└───────────────────────────┴───────────────────────────┘\n"
      ]
     },
     "metadata": {},
     "output_type": "display_data"
    }
   ],
   "source": [
    "model = rsp.segmentation.test([[r\"E:\\Work\\numto\\data\\x_train.zarr\", r\"E:\\Work\\numto\\data\\y_rast.zarr\", 'val']], r\"E:\\Work\\numto\\data\\deeplab_rast.ckpt\")"
   ]
  },
  {
   "cell_type": "code",
   "execution_count": 9,
   "id": "344744c6-361d-4750-9e24-3fa9ea661181",
   "metadata": {},
   "outputs": [
    {
     "name": "stderr",
     "output_type": "stream",
     "text": [
      "GPU available: True (cuda), used: True\n",
      "TPU available: False, using: 0 TPU cores\n",
      "IPU available: False, using: 0 IPUs\n",
      "HPU available: False, using: 0 HPUs\n",
      "LOCAL_RANK: 0 - CUDA_VISIBLE_DEVICES: [0]\n",
      "C:\\ProgramData\\Anaconda3\\envs\\geo\\lib\\site-packages\\lightning\\pytorch\\trainer\\connectors\\data_connector.py:441: The 'test_dataloader' does not have many workers which may be a bottleneck. Consider increasing the value of the `num_workers` argument` to `num_workers=15` in the `DataLoader` to improve performance.\n"
     ]
    },
    {
     "data": {
      "application/vnd.jupyter.widget-view+json": {
       "model_id": "04157645617a4233952918804bb9bb52",
       "version_major": 2,
       "version_minor": 0
      },
      "text/plain": [
       "Testing: |                                                                                       | 0/? [00:00<…"
      ]
     },
     "metadata": {},
     "output_type": "display_data"
    },
    {
     "data": {
      "text/html": [
       "<pre style=\"white-space:pre;overflow-x:auto;line-height:normal;font-family:Menlo,'DejaVu Sans Mono',consolas,'Courier New',monospace\">┏━━━━━━━━━━━━━━━━━━━━━━━━━━━┳━━━━━━━━━━━━━━━━━━━━━━━━━━━┓\n",
       "┃<span style=\"font-weight: bold\">        Test metric        </span>┃<span style=\"font-weight: bold\">       DataLoader 0        </span>┃\n",
       "┡━━━━━━━━━━━━━━━━━━━━━━━━━━━╇━━━━━━━━━━━━━━━━━━━━━━━━━━━┩\n",
       "│<span style=\"color: #008080; text-decoration-color: #008080\">      test_acc_epoch       </span>│<span style=\"color: #800080; text-decoration-color: #800080\">    0.7364474534988403     </span>│\n",
       "│<span style=\"color: #008080; text-decoration-color: #008080\">     test_auroc_epoch      </span>│<span style=\"color: #800080; text-decoration-color: #800080\">    0.7155787348747253     </span>│\n",
       "│<span style=\"color: #008080; text-decoration-color: #008080\">      test_iou_epoch       </span>│<span style=\"color: #800080; text-decoration-color: #800080\">    0.5503903031349182     </span>│\n",
       "│<span style=\"color: #008080; text-decoration-color: #008080\">      test_loss_epoch      </span>│<span style=\"color: #800080; text-decoration-color: #800080\">    0.6999563574790955     </span>│\n",
       "│<span style=\"color: #008080; text-decoration-color: #008080\">   test_precision_epoch    </span>│<span style=\"color: #800080; text-decoration-color: #800080\">    0.7340818643569946     </span>│\n",
       "│<span style=\"color: #008080; text-decoration-color: #008080\">     test_recall_epoch     </span>│<span style=\"color: #800080; text-decoration-color: #800080\">    0.6751614809036255     </span>│\n",
       "└───────────────────────────┴───────────────────────────┘\n",
       "</pre>\n"
      ],
      "text/plain": [
       "┏━━━━━━━━━━━━━━━━━━━━━━━━━━━┳━━━━━━━━━━━━━━━━━━━━━━━━━━━┓\n",
       "┃\u001b[1m \u001b[0m\u001b[1m       Test metric       \u001b[0m\u001b[1m \u001b[0m┃\u001b[1m \u001b[0m\u001b[1m      DataLoader 0       \u001b[0m\u001b[1m \u001b[0m┃\n",
       "┡━━━━━━━━━━━━━━━━━━━━━━━━━━━╇━━━━━━━━━━━━━━━━━━━━━━━━━━━┩\n",
       "│\u001b[36m \u001b[0m\u001b[36m     test_acc_epoch      \u001b[0m\u001b[36m \u001b[0m│\u001b[35m \u001b[0m\u001b[35m   0.7364474534988403    \u001b[0m\u001b[35m \u001b[0m│\n",
       "│\u001b[36m \u001b[0m\u001b[36m    test_auroc_epoch     \u001b[0m\u001b[36m \u001b[0m│\u001b[35m \u001b[0m\u001b[35m   0.7155787348747253    \u001b[0m\u001b[35m \u001b[0m│\n",
       "│\u001b[36m \u001b[0m\u001b[36m     test_iou_epoch      \u001b[0m\u001b[36m \u001b[0m│\u001b[35m \u001b[0m\u001b[35m   0.5503903031349182    \u001b[0m\u001b[35m \u001b[0m│\n",
       "│\u001b[36m \u001b[0m\u001b[36m     test_loss_epoch     \u001b[0m\u001b[36m \u001b[0m│\u001b[35m \u001b[0m\u001b[35m   0.6999563574790955    \u001b[0m\u001b[35m \u001b[0m│\n",
       "│\u001b[36m \u001b[0m\u001b[36m  test_precision_epoch   \u001b[0m\u001b[36m \u001b[0m│\u001b[35m \u001b[0m\u001b[35m   0.7340818643569946    \u001b[0m\u001b[35m \u001b[0m│\n",
       "│\u001b[36m \u001b[0m\u001b[36m    test_recall_epoch    \u001b[0m\u001b[36m \u001b[0m│\u001b[35m \u001b[0m\u001b[35m   0.6751614809036255    \u001b[0m\u001b[35m \u001b[0m│\n",
       "└───────────────────────────┴───────────────────────────┘\n"
      ]
     },
     "metadata": {},
     "output_type": "display_data"
    }
   ],
   "source": [
    "model = rsp.segmentation.test([[r\"E:\\Work\\numto\\data\\x_train.zarr\", r\"E:\\Work\\numto\\data\\y_rast.zarr\", 'test']], r\"E:\\Work\\numto\\data\\deeplab_rast.ckpt\")"
   ]
  },
  {
   "cell_type": "code",
   "execution_count": 10,
   "id": "1c555619-d87b-44a3-a828-2940e64b883a",
   "metadata": {},
   "outputs": [
    {
     "name": "stderr",
     "output_type": "stream",
     "text": [
      "GPU available: True (cuda), used: True\n",
      "TPU available: False, using: 0 TPU cores\n",
      "IPU available: False, using: 0 IPUs\n",
      "HPU available: False, using: 0 HPUs\n",
      "LOCAL_RANK: 0 - CUDA_VISIBLE_DEVICES: [0]\n",
      "C:\\ProgramData\\Anaconda3\\envs\\geo\\lib\\site-packages\\lightning\\pytorch\\trainer\\connectors\\data_connector.py:441: The 'test_dataloader' does not have many workers which may be a bottleneck. Consider increasing the value of the `num_workers` argument` to `num_workers=15` in the `DataLoader` to improve performance.\n"
     ]
    },
    {
     "data": {
      "application/vnd.jupyter.widget-view+json": {
       "model_id": "72a6fbf2344b468988132c7408cbf1a5",
       "version_major": 2,
       "version_minor": 0
      },
      "text/plain": [
       "Testing: |                                                                                       | 0/? [00:00<…"
      ]
     },
     "metadata": {},
     "output_type": "display_data"
    },
    {
     "data": {
      "text/html": [
       "<pre style=\"white-space:pre;overflow-x:auto;line-height:normal;font-family:Menlo,'DejaVu Sans Mono',consolas,'Courier New',monospace\">┏━━━━━━━━━━━━━━━━━━━━━━━━━━━┳━━━━━━━━━━━━━━━━━━━━━━━━━━━┓\n",
       "┃<span style=\"font-weight: bold\">        Test metric        </span>┃<span style=\"font-weight: bold\">       DataLoader 0        </span>┃\n",
       "┡━━━━━━━━━━━━━━━━━━━━━━━━━━━╇━━━━━━━━━━━━━━━━━━━━━━━━━━━┩\n",
       "│<span style=\"color: #008080; text-decoration-color: #008080\">      test_acc_epoch       </span>│<span style=\"color: #800080; text-decoration-color: #800080\">    0.8014697432518005     </span>│\n",
       "│<span style=\"color: #008080; text-decoration-color: #008080\">     test_auroc_epoch      </span>│<span style=\"color: #800080; text-decoration-color: #800080\">    0.7229520678520203     </span>│\n",
       "│<span style=\"color: #008080; text-decoration-color: #008080\">      test_iou_epoch       </span>│<span style=\"color: #800080; text-decoration-color: #800080\">    0.6215691566467285     </span>│\n",
       "│<span style=\"color: #008080; text-decoration-color: #008080\">      test_loss_epoch      </span>│<span style=\"color: #800080; text-decoration-color: #800080\">     0.519058346748352     </span>│\n",
       "│<span style=\"color: #008080; text-decoration-color: #008080\">   test_precision_epoch    </span>│<span style=\"color: #800080; text-decoration-color: #800080\">    0.7645153403282166     </span>│\n",
       "│<span style=\"color: #008080; text-decoration-color: #008080\">     test_recall_epoch     </span>│<span style=\"color: #800080; text-decoration-color: #800080\">    0.7468697428703308     </span>│\n",
       "└───────────────────────────┴───────────────────────────┘\n",
       "</pre>\n"
      ],
      "text/plain": [
       "┏━━━━━━━━━━━━━━━━━━━━━━━━━━━┳━━━━━━━━━━━━━━━━━━━━━━━━━━━┓\n",
       "┃\u001b[1m \u001b[0m\u001b[1m       Test metric       \u001b[0m\u001b[1m \u001b[0m┃\u001b[1m \u001b[0m\u001b[1m      DataLoader 0       \u001b[0m\u001b[1m \u001b[0m┃\n",
       "┡━━━━━━━━━━━━━━━━━━━━━━━━━━━╇━━━━━━━━━━━━━━━━━━━━━━━━━━━┩\n",
       "│\u001b[36m \u001b[0m\u001b[36m     test_acc_epoch      \u001b[0m\u001b[36m \u001b[0m│\u001b[35m \u001b[0m\u001b[35m   0.8014697432518005    \u001b[0m\u001b[35m \u001b[0m│\n",
       "│\u001b[36m \u001b[0m\u001b[36m    test_auroc_epoch     \u001b[0m\u001b[36m \u001b[0m│\u001b[35m \u001b[0m\u001b[35m   0.7229520678520203    \u001b[0m\u001b[35m \u001b[0m│\n",
       "│\u001b[36m \u001b[0m\u001b[36m     test_iou_epoch      \u001b[0m\u001b[36m \u001b[0m│\u001b[35m \u001b[0m\u001b[35m   0.6215691566467285    \u001b[0m\u001b[35m \u001b[0m│\n",
       "│\u001b[36m \u001b[0m\u001b[36m     test_loss_epoch     \u001b[0m\u001b[36m \u001b[0m│\u001b[35m \u001b[0m\u001b[35m    0.519058346748352    \u001b[0m\u001b[35m \u001b[0m│\n",
       "│\u001b[36m \u001b[0m\u001b[36m  test_precision_epoch   \u001b[0m\u001b[36m \u001b[0m│\u001b[35m \u001b[0m\u001b[35m   0.7645153403282166    \u001b[0m\u001b[35m \u001b[0m│\n",
       "│\u001b[36m \u001b[0m\u001b[36m    test_recall_epoch    \u001b[0m\u001b[36m \u001b[0m│\u001b[35m \u001b[0m\u001b[35m   0.7468697428703308    \u001b[0m\u001b[35m \u001b[0m│\n",
       "└───────────────────────────┴───────────────────────────┘\n"
      ]
     },
     "metadata": {},
     "output_type": "display_data"
    }
   ],
   "source": [
    "model = rsp.segmentation.test([[r\"E:\\Work\\numto\\data\\x_train.zarr\", r\"E:\\Work\\numto\\data\\y_rast.zarr\", 'train']], r\"E:\\Work\\numto\\data\\deeplab_rn50_rast.ckpt\")"
   ]
  },
  {
   "cell_type": "code",
   "execution_count": 11,
   "id": "1dabb9a7-6fd2-479a-9980-7117f7917c8a",
   "metadata": {},
   "outputs": [
    {
     "name": "stderr",
     "output_type": "stream",
     "text": [
      "GPU available: True (cuda), used: True\n",
      "TPU available: False, using: 0 TPU cores\n",
      "IPU available: False, using: 0 IPUs\n",
      "HPU available: False, using: 0 HPUs\n",
      "LOCAL_RANK: 0 - CUDA_VISIBLE_DEVICES: [0]\n",
      "C:\\ProgramData\\Anaconda3\\envs\\geo\\lib\\site-packages\\lightning\\pytorch\\trainer\\connectors\\data_connector.py:441: The 'test_dataloader' does not have many workers which may be a bottleneck. Consider increasing the value of the `num_workers` argument` to `num_workers=15` in the `DataLoader` to improve performance.\n"
     ]
    },
    {
     "data": {
      "application/vnd.jupyter.widget-view+json": {
       "model_id": "c501e355cbd1441a9cab87974febf496",
       "version_major": 2,
       "version_minor": 0
      },
      "text/plain": [
       "Testing: |                                                                                       | 0/? [00:00<…"
      ]
     },
     "metadata": {},
     "output_type": "display_data"
    },
    {
     "data": {
      "text/html": [
       "<pre style=\"white-space:pre;overflow-x:auto;line-height:normal;font-family:Menlo,'DejaVu Sans Mono',consolas,'Courier New',monospace\">┏━━━━━━━━━━━━━━━━━━━━━━━━━━━┳━━━━━━━━━━━━━━━━━━━━━━━━━━━┓\n",
       "┃<span style=\"font-weight: bold\">        Test metric        </span>┃<span style=\"font-weight: bold\">       DataLoader 0        </span>┃\n",
       "┡━━━━━━━━━━━━━━━━━━━━━━━━━━━╇━━━━━━━━━━━━━━━━━━━━━━━━━━━┩\n",
       "│<span style=\"color: #008080; text-decoration-color: #008080\">      test_acc_epoch       </span>│<span style=\"color: #800080; text-decoration-color: #800080\">    0.7528809905052185     </span>│\n",
       "│<span style=\"color: #008080; text-decoration-color: #008080\">     test_auroc_epoch      </span>│<span style=\"color: #800080; text-decoration-color: #800080\">    0.7151689529418945     </span>│\n",
       "│<span style=\"color: #008080; text-decoration-color: #008080\">      test_iou_epoch       </span>│<span style=\"color: #800080; text-decoration-color: #800080\">    0.5562924146652222     </span>│\n",
       "│<span style=\"color: #008080; text-decoration-color: #008080\">      test_loss_epoch      </span>│<span style=\"color: #800080; text-decoration-color: #800080\">    0.6438731551170349     </span>│\n",
       "│<span style=\"color: #008080; text-decoration-color: #008080\">   test_precision_epoch    </span>│<span style=\"color: #800080; text-decoration-color: #800080\">    0.6915566325187683     </span>│\n",
       "│<span style=\"color: #008080; text-decoration-color: #008080\">     test_recall_epoch     </span>│<span style=\"color: #800080; text-decoration-color: #800080\">    0.7020190954208374     </span>│\n",
       "└───────────────────────────┴───────────────────────────┘\n",
       "</pre>\n"
      ],
      "text/plain": [
       "┏━━━━━━━━━━━━━━━━━━━━━━━━━━━┳━━━━━━━━━━━━━━━━━━━━━━━━━━━┓\n",
       "┃\u001b[1m \u001b[0m\u001b[1m       Test metric       \u001b[0m\u001b[1m \u001b[0m┃\u001b[1m \u001b[0m\u001b[1m      DataLoader 0       \u001b[0m\u001b[1m \u001b[0m┃\n",
       "┡━━━━━━━━━━━━━━━━━━━━━━━━━━━╇━━━━━━━━━━━━━━━━━━━━━━━━━━━┩\n",
       "│\u001b[36m \u001b[0m\u001b[36m     test_acc_epoch      \u001b[0m\u001b[36m \u001b[0m│\u001b[35m \u001b[0m\u001b[35m   0.7528809905052185    \u001b[0m\u001b[35m \u001b[0m│\n",
       "│\u001b[36m \u001b[0m\u001b[36m    test_auroc_epoch     \u001b[0m\u001b[36m \u001b[0m│\u001b[35m \u001b[0m\u001b[35m   0.7151689529418945    \u001b[0m\u001b[35m \u001b[0m│\n",
       "│\u001b[36m \u001b[0m\u001b[36m     test_iou_epoch      \u001b[0m\u001b[36m \u001b[0m│\u001b[35m \u001b[0m\u001b[35m   0.5562924146652222    \u001b[0m\u001b[35m \u001b[0m│\n",
       "│\u001b[36m \u001b[0m\u001b[36m     test_loss_epoch     \u001b[0m\u001b[36m \u001b[0m│\u001b[35m \u001b[0m\u001b[35m   0.6438731551170349    \u001b[0m\u001b[35m \u001b[0m│\n",
       "│\u001b[36m \u001b[0m\u001b[36m  test_precision_epoch   \u001b[0m\u001b[36m \u001b[0m│\u001b[35m \u001b[0m\u001b[35m   0.6915566325187683    \u001b[0m\u001b[35m \u001b[0m│\n",
       "│\u001b[36m \u001b[0m\u001b[36m    test_recall_epoch    \u001b[0m\u001b[36m \u001b[0m│\u001b[35m \u001b[0m\u001b[35m   0.7020190954208374    \u001b[0m\u001b[35m \u001b[0m│\n",
       "└───────────────────────────┴───────────────────────────┘\n"
      ]
     },
     "metadata": {},
     "output_type": "display_data"
    }
   ],
   "source": [
    "model = rsp.segmentation.test([[r\"E:\\Work\\numto\\data\\x_train.zarr\", r\"E:\\Work\\numto\\data\\y_rast.zarr\", 'val']], r\"E:\\Work\\numto\\data\\deeplab_rn50_rast.ckpt\")"
   ]
  },
  {
   "cell_type": "code",
   "execution_count": 12,
   "id": "a765798e-4354-4ec9-bca7-4d52d9640fc1",
   "metadata": {},
   "outputs": [
    {
     "name": "stderr",
     "output_type": "stream",
     "text": [
      "GPU available: True (cuda), used: True\n",
      "TPU available: False, using: 0 TPU cores\n",
      "IPU available: False, using: 0 IPUs\n",
      "HPU available: False, using: 0 HPUs\n",
      "LOCAL_RANK: 0 - CUDA_VISIBLE_DEVICES: [0]\n",
      "C:\\ProgramData\\Anaconda3\\envs\\geo\\lib\\site-packages\\lightning\\pytorch\\trainer\\connectors\\data_connector.py:441: The 'test_dataloader' does not have many workers which may be a bottleneck. Consider increasing the value of the `num_workers` argument` to `num_workers=15` in the `DataLoader` to improve performance.\n"
     ]
    },
    {
     "data": {
      "application/vnd.jupyter.widget-view+json": {
       "model_id": "48e4cd975a404d8fa35b4e18e9867259",
       "version_major": 2,
       "version_minor": 0
      },
      "text/plain": [
       "Testing: |                                                                                       | 0/? [00:00<…"
      ]
     },
     "metadata": {},
     "output_type": "display_data"
    },
    {
     "data": {
      "text/html": [
       "<pre style=\"white-space:pre;overflow-x:auto;line-height:normal;font-family:Menlo,'DejaVu Sans Mono',consolas,'Courier New',monospace\">┏━━━━━━━━━━━━━━━━━━━━━━━━━━━┳━━━━━━━━━━━━━━━━━━━━━━━━━━━┓\n",
       "┃<span style=\"font-weight: bold\">        Test metric        </span>┃<span style=\"font-weight: bold\">       DataLoader 0        </span>┃\n",
       "┡━━━━━━━━━━━━━━━━━━━━━━━━━━━╇━━━━━━━━━━━━━━━━━━━━━━━━━━━┩\n",
       "│<span style=\"color: #008080; text-decoration-color: #008080\">      test_acc_epoch       </span>│<span style=\"color: #800080; text-decoration-color: #800080\">    0.7575752139091492     </span>│\n",
       "│<span style=\"color: #008080; text-decoration-color: #008080\">     test_auroc_epoch      </span>│<span style=\"color: #800080; text-decoration-color: #800080\">    0.7221543192863464     </span>│\n",
       "│<span style=\"color: #008080; text-decoration-color: #008080\">      test_iou_epoch       </span>│<span style=\"color: #800080; text-decoration-color: #800080\">    0.5680328011512756     </span>│\n",
       "│<span style=\"color: #008080; text-decoration-color: #008080\">      test_loss_epoch      </span>│<span style=\"color: #800080; text-decoration-color: #800080\">    0.6353301405906677     </span>│\n",
       "│<span style=\"color: #008080; text-decoration-color: #008080\">   test_precision_epoch    </span>│<span style=\"color: #800080; text-decoration-color: #800080\">    0.7186376452445984     </span>│\n",
       "│<span style=\"color: #008080; text-decoration-color: #008080\">     test_recall_epoch     </span>│<span style=\"color: #800080; text-decoration-color: #800080\">    0.7130184173583984     </span>│\n",
       "└───────────────────────────┴───────────────────────────┘\n",
       "</pre>\n"
      ],
      "text/plain": [
       "┏━━━━━━━━━━━━━━━━━━━━━━━━━━━┳━━━━━━━━━━━━━━━━━━━━━━━━━━━┓\n",
       "┃\u001b[1m \u001b[0m\u001b[1m       Test metric       \u001b[0m\u001b[1m \u001b[0m┃\u001b[1m \u001b[0m\u001b[1m      DataLoader 0       \u001b[0m\u001b[1m \u001b[0m┃\n",
       "┡━━━━━━━━━━━━━━━━━━━━━━━━━━━╇━━━━━━━━━━━━━━━━━━━━━━━━━━━┩\n",
       "│\u001b[36m \u001b[0m\u001b[36m     test_acc_epoch      \u001b[0m\u001b[36m \u001b[0m│\u001b[35m \u001b[0m\u001b[35m   0.7575752139091492    \u001b[0m\u001b[35m \u001b[0m│\n",
       "│\u001b[36m \u001b[0m\u001b[36m    test_auroc_epoch     \u001b[0m\u001b[36m \u001b[0m│\u001b[35m \u001b[0m\u001b[35m   0.7221543192863464    \u001b[0m\u001b[35m \u001b[0m│\n",
       "│\u001b[36m \u001b[0m\u001b[36m     test_iou_epoch      \u001b[0m\u001b[36m \u001b[0m│\u001b[35m \u001b[0m\u001b[35m   0.5680328011512756    \u001b[0m\u001b[35m \u001b[0m│\n",
       "│\u001b[36m \u001b[0m\u001b[36m     test_loss_epoch     \u001b[0m\u001b[36m \u001b[0m│\u001b[35m \u001b[0m\u001b[35m   0.6353301405906677    \u001b[0m\u001b[35m \u001b[0m│\n",
       "│\u001b[36m \u001b[0m\u001b[36m  test_precision_epoch   \u001b[0m\u001b[36m \u001b[0m│\u001b[35m \u001b[0m\u001b[35m   0.7186376452445984    \u001b[0m\u001b[35m \u001b[0m│\n",
       "│\u001b[36m \u001b[0m\u001b[36m    test_recall_epoch    \u001b[0m\u001b[36m \u001b[0m│\u001b[35m \u001b[0m\u001b[35m   0.7130184173583984    \u001b[0m\u001b[35m \u001b[0m│\n",
       "└───────────────────────────┴───────────────────────────┘\n"
      ]
     },
     "metadata": {},
     "output_type": "display_data"
    }
   ],
   "source": [
    "model = rsp.segmentation.test([[r\"E:\\Work\\numto\\data\\x_train.zarr\", r\"E:\\Work\\numto\\data\\y_rast.zarr\", 'test']], r\"E:\\Work\\numto\\data\\deeplab_rn50_rast.ckpt\")"
   ]
  },
  {
   "cell_type": "code",
   "execution_count": 13,
   "id": "bd813a3d-3020-412b-a982-f1719d0c32e0",
   "metadata": {},
   "outputs": [
    {
     "name": "stderr",
     "output_type": "stream",
     "text": [
      "GPU available: True (cuda), used: True\n",
      "TPU available: False, using: 0 TPU cores\n",
      "IPU available: False, using: 0 IPUs\n",
      "HPU available: False, using: 0 HPUs\n",
      "LOCAL_RANK: 0 - CUDA_VISIBLE_DEVICES: [0]\n",
      "C:\\ProgramData\\Anaconda3\\envs\\geo\\lib\\site-packages\\lightning\\pytorch\\trainer\\connectors\\data_connector.py:441: The 'test_dataloader' does not have many workers which may be a bottleneck. Consider increasing the value of the `num_workers` argument` to `num_workers=15` in the `DataLoader` to improve performance.\n"
     ]
    },
    {
     "data": {
      "application/vnd.jupyter.widget-view+json": {
       "model_id": "f194f1d284e64e588fe78b18d6d652dd",
       "version_major": 2,
       "version_minor": 0
      },
      "text/plain": [
       "Testing: |                                                                                       | 0/? [00:00<…"
      ]
     },
     "metadata": {},
     "output_type": "display_data"
    },
    {
     "data": {
      "text/html": [
       "<pre style=\"white-space:pre;overflow-x:auto;line-height:normal;font-family:Menlo,'DejaVu Sans Mono',consolas,'Courier New',monospace\">┏━━━━━━━━━━━━━━━━━━━━━━━━━━━┳━━━━━━━━━━━━━━━━━━━━━━━━━━━┓\n",
       "┃<span style=\"font-weight: bold\">        Test metric        </span>┃<span style=\"font-weight: bold\">       DataLoader 0        </span>┃\n",
       "┡━━━━━━━━━━━━━━━━━━━━━━━━━━━╇━━━━━━━━━━━━━━━━━━━━━━━━━━━┩\n",
       "│<span style=\"color: #008080; text-decoration-color: #008080\">      test_acc_epoch       </span>│<span style=\"color: #800080; text-decoration-color: #800080\">     0.772589921951294     </span>│\n",
       "│<span style=\"color: #008080; text-decoration-color: #008080\">     test_auroc_epoch      </span>│<span style=\"color: #800080; text-decoration-color: #800080\">    0.7170975804328918     </span>│\n",
       "│<span style=\"color: #008080; text-decoration-color: #008080\">      test_iou_epoch       </span>│<span style=\"color: #800080; text-decoration-color: #800080\">    0.5828835368156433     </span>│\n",
       "│<span style=\"color: #008080; text-decoration-color: #008080\">      test_loss_epoch      </span>│<span style=\"color: #800080; text-decoration-color: #800080\">    0.5842674374580383     </span>│\n",
       "│<span style=\"color: #008080; text-decoration-color: #008080\">   test_precision_epoch    </span>│<span style=\"color: #800080; text-decoration-color: #800080\">    0.7529768943786621     </span>│\n",
       "│<span style=\"color: #008080; text-decoration-color: #008080\">     test_recall_epoch     </span>│<span style=\"color: #800080; text-decoration-color: #800080\">    0.7060456275939941     </span>│\n",
       "└───────────────────────────┴───────────────────────────┘\n",
       "</pre>\n"
      ],
      "text/plain": [
       "┏━━━━━━━━━━━━━━━━━━━━━━━━━━━┳━━━━━━━━━━━━━━━━━━━━━━━━━━━┓\n",
       "┃\u001b[1m \u001b[0m\u001b[1m       Test metric       \u001b[0m\u001b[1m \u001b[0m┃\u001b[1m \u001b[0m\u001b[1m      DataLoader 0       \u001b[0m\u001b[1m \u001b[0m┃\n",
       "┡━━━━━━━━━━━━━━━━━━━━━━━━━━━╇━━━━━━━━━━━━━━━━━━━━━━━━━━━┩\n",
       "│\u001b[36m \u001b[0m\u001b[36m     test_acc_epoch      \u001b[0m\u001b[36m \u001b[0m│\u001b[35m \u001b[0m\u001b[35m    0.772589921951294    \u001b[0m\u001b[35m \u001b[0m│\n",
       "│\u001b[36m \u001b[0m\u001b[36m    test_auroc_epoch     \u001b[0m\u001b[36m \u001b[0m│\u001b[35m \u001b[0m\u001b[35m   0.7170975804328918    \u001b[0m\u001b[35m \u001b[0m│\n",
       "│\u001b[36m \u001b[0m\u001b[36m     test_iou_epoch      \u001b[0m\u001b[36m \u001b[0m│\u001b[35m \u001b[0m\u001b[35m   0.5828835368156433    \u001b[0m\u001b[35m \u001b[0m│\n",
       "│\u001b[36m \u001b[0m\u001b[36m     test_loss_epoch     \u001b[0m\u001b[36m \u001b[0m│\u001b[35m \u001b[0m\u001b[35m   0.5842674374580383    \u001b[0m\u001b[35m \u001b[0m│\n",
       "│\u001b[36m \u001b[0m\u001b[36m  test_precision_epoch   \u001b[0m\u001b[36m \u001b[0m│\u001b[35m \u001b[0m\u001b[35m   0.7529768943786621    \u001b[0m\u001b[35m \u001b[0m│\n",
       "│\u001b[36m \u001b[0m\u001b[36m    test_recall_epoch    \u001b[0m\u001b[36m \u001b[0m│\u001b[35m \u001b[0m\u001b[35m   0.7060456275939941    \u001b[0m\u001b[35m \u001b[0m│\n",
       "└───────────────────────────┴───────────────────────────┘\n"
      ]
     },
     "metadata": {},
     "output_type": "display_data"
    }
   ],
   "source": [
    "model = rsp.segmentation.test([[r\"E:\\Work\\numto\\data\\x_train.zarr\", r\"E:\\Work\\numto\\data\\y_rast.zarr\", 'train']], r\"E:\\Work\\numto\\data\\deeplab_rn101_rast.ckpt\")"
   ]
  },
  {
   "cell_type": "code",
   "execution_count": 14,
   "id": "7a515123-d03e-4c80-81d9-750623133bb0",
   "metadata": {},
   "outputs": [
    {
     "name": "stderr",
     "output_type": "stream",
     "text": [
      "GPU available: True (cuda), used: True\n",
      "TPU available: False, using: 0 TPU cores\n",
      "IPU available: False, using: 0 IPUs\n",
      "HPU available: False, using: 0 HPUs\n",
      "LOCAL_RANK: 0 - CUDA_VISIBLE_DEVICES: [0]\n",
      "C:\\ProgramData\\Anaconda3\\envs\\geo\\lib\\site-packages\\lightning\\pytorch\\trainer\\connectors\\data_connector.py:441: The 'test_dataloader' does not have many workers which may be a bottleneck. Consider increasing the value of the `num_workers` argument` to `num_workers=15` in the `DataLoader` to improve performance.\n"
     ]
    },
    {
     "data": {
      "application/vnd.jupyter.widget-view+json": {
       "model_id": "9a762224987c47558b3f7414a14c0a7d",
       "version_major": 2,
       "version_minor": 0
      },
      "text/plain": [
       "Testing: |                                                                                       | 0/? [00:00<…"
      ]
     },
     "metadata": {},
     "output_type": "display_data"
    },
    {
     "data": {
      "text/html": [
       "<pre style=\"white-space:pre;overflow-x:auto;line-height:normal;font-family:Menlo,'DejaVu Sans Mono',consolas,'Courier New',monospace\">┏━━━━━━━━━━━━━━━━━━━━━━━━━━━┳━━━━━━━━━━━━━━━━━━━━━━━━━━━┓\n",
       "┃<span style=\"font-weight: bold\">        Test metric        </span>┃<span style=\"font-weight: bold\">       DataLoader 0        </span>┃\n",
       "┡━━━━━━━━━━━━━━━━━━━━━━━━━━━╇━━━━━━━━━━━━━━━━━━━━━━━━━━━┩\n",
       "│<span style=\"color: #008080; text-decoration-color: #008080\">      test_acc_epoch       </span>│<span style=\"color: #800080; text-decoration-color: #800080\">     0.740444004535675     </span>│\n",
       "│<span style=\"color: #008080; text-decoration-color: #008080\">     test_auroc_epoch      </span>│<span style=\"color: #800080; text-decoration-color: #800080\">    0.7191522717475891     </span>│\n",
       "│<span style=\"color: #008080; text-decoration-color: #008080\">      test_iou_epoch       </span>│<span style=\"color: #800080; text-decoration-color: #800080\">    0.5379636287689209     </span>│\n",
       "│<span style=\"color: #008080; text-decoration-color: #008080\">      test_loss_epoch      </span>│<span style=\"color: #800080; text-decoration-color: #800080\">     0.662522554397583     </span>│\n",
       "│<span style=\"color: #008080; text-decoration-color: #008080\">   test_precision_epoch    </span>│<span style=\"color: #800080; text-decoration-color: #800080\">    0.7033998370170593     </span>│\n",
       "│<span style=\"color: #008080; text-decoration-color: #008080\">     test_recall_epoch     </span>│<span style=\"color: #800080; text-decoration-color: #800080\">    0.6857638359069824     </span>│\n",
       "└───────────────────────────┴───────────────────────────┘\n",
       "</pre>\n"
      ],
      "text/plain": [
       "┏━━━━━━━━━━━━━━━━━━━━━━━━━━━┳━━━━━━━━━━━━━━━━━━━━━━━━━━━┓\n",
       "┃\u001b[1m \u001b[0m\u001b[1m       Test metric       \u001b[0m\u001b[1m \u001b[0m┃\u001b[1m \u001b[0m\u001b[1m      DataLoader 0       \u001b[0m\u001b[1m \u001b[0m┃\n",
       "┡━━━━━━━━━━━━━━━━━━━━━━━━━━━╇━━━━━━━━━━━━━━━━━━━━━━━━━━━┩\n",
       "│\u001b[36m \u001b[0m\u001b[36m     test_acc_epoch      \u001b[0m\u001b[36m \u001b[0m│\u001b[35m \u001b[0m\u001b[35m    0.740444004535675    \u001b[0m\u001b[35m \u001b[0m│\n",
       "│\u001b[36m \u001b[0m\u001b[36m    test_auroc_epoch     \u001b[0m\u001b[36m \u001b[0m│\u001b[35m \u001b[0m\u001b[35m   0.7191522717475891    \u001b[0m\u001b[35m \u001b[0m│\n",
       "│\u001b[36m \u001b[0m\u001b[36m     test_iou_epoch      \u001b[0m\u001b[36m \u001b[0m│\u001b[35m \u001b[0m\u001b[35m   0.5379636287689209    \u001b[0m\u001b[35m \u001b[0m│\n",
       "│\u001b[36m \u001b[0m\u001b[36m     test_loss_epoch     \u001b[0m\u001b[36m \u001b[0m│\u001b[35m \u001b[0m\u001b[35m    0.662522554397583    \u001b[0m\u001b[35m \u001b[0m│\n",
       "│\u001b[36m \u001b[0m\u001b[36m  test_precision_epoch   \u001b[0m\u001b[36m \u001b[0m│\u001b[35m \u001b[0m\u001b[35m   0.7033998370170593    \u001b[0m\u001b[35m \u001b[0m│\n",
       "│\u001b[36m \u001b[0m\u001b[36m    test_recall_epoch    \u001b[0m\u001b[36m \u001b[0m│\u001b[35m \u001b[0m\u001b[35m   0.6857638359069824    \u001b[0m\u001b[35m \u001b[0m│\n",
       "└───────────────────────────┴───────────────────────────┘\n"
      ]
     },
     "metadata": {},
     "output_type": "display_data"
    }
   ],
   "source": [
    "model = rsp.segmentation.test([[r\"E:\\Work\\numto\\data\\x_train.zarr\", r\"E:\\Work\\numto\\data\\y_rast.zarr\", 'val']], r\"E:\\Work\\numto\\data\\deeplab_rn101_rast.ckpt\")"
   ]
  },
  {
   "cell_type": "code",
   "execution_count": 15,
   "id": "d578cdc8-210e-4210-8e2b-e6f9b5bd15b7",
   "metadata": {},
   "outputs": [
    {
     "name": "stderr",
     "output_type": "stream",
     "text": [
      "GPU available: True (cuda), used: True\n",
      "TPU available: False, using: 0 TPU cores\n",
      "IPU available: False, using: 0 IPUs\n",
      "HPU available: False, using: 0 HPUs\n",
      "LOCAL_RANK: 0 - CUDA_VISIBLE_DEVICES: [0]\n",
      "C:\\ProgramData\\Anaconda3\\envs\\geo\\lib\\site-packages\\lightning\\pytorch\\trainer\\connectors\\data_connector.py:441: The 'test_dataloader' does not have many workers which may be a bottleneck. Consider increasing the value of the `num_workers` argument` to `num_workers=15` in the `DataLoader` to improve performance.\n"
     ]
    },
    {
     "data": {
      "application/vnd.jupyter.widget-view+json": {
       "model_id": "64f8c4ea57d94d259dc906348934758e",
       "version_major": 2,
       "version_minor": 0
      },
      "text/plain": [
       "Testing: |                                                                                       | 0/? [00:00<…"
      ]
     },
     "metadata": {},
     "output_type": "display_data"
    },
    {
     "data": {
      "text/html": [
       "<pre style=\"white-space:pre;overflow-x:auto;line-height:normal;font-family:Menlo,'DejaVu Sans Mono',consolas,'Courier New',monospace\">┏━━━━━━━━━━━━━━━━━━━━━━━━━━━┳━━━━━━━━━━━━━━━━━━━━━━━━━━━┓\n",
       "┃<span style=\"font-weight: bold\">        Test metric        </span>┃<span style=\"font-weight: bold\">       DataLoader 0        </span>┃\n",
       "┡━━━━━━━━━━━━━━━━━━━━━━━━━━━╇━━━━━━━━━━━━━━━━━━━━━━━━━━━┩\n",
       "│<span style=\"color: #008080; text-decoration-color: #008080\">      test_acc_epoch       </span>│<span style=\"color: #800080; text-decoration-color: #800080\">    0.7390645742416382     </span>│\n",
       "│<span style=\"color: #008080; text-decoration-color: #008080\">     test_auroc_epoch      </span>│<span style=\"color: #800080; text-decoration-color: #800080\">    0.7200759649276733     </span>│\n",
       "│<span style=\"color: #008080; text-decoration-color: #008080\">      test_iou_epoch       </span>│<span style=\"color: #800080; text-decoration-color: #800080\">    0.5470550060272217     </span>│\n",
       "│<span style=\"color: #008080; text-decoration-color: #008080\">      test_loss_epoch      </span>│<span style=\"color: #800080; text-decoration-color: #800080\">    0.6655696034431458     </span>│\n",
       "│<span style=\"color: #008080; text-decoration-color: #008080\">   test_precision_epoch    </span>│<span style=\"color: #800080; text-decoration-color: #800080\">    0.7370303273200989     </span>│\n",
       "│<span style=\"color: #008080; text-decoration-color: #008080\">     test_recall_epoch     </span>│<span style=\"color: #800080; text-decoration-color: #800080\">      0.6783447265625      </span>│\n",
       "└───────────────────────────┴───────────────────────────┘\n",
       "</pre>\n"
      ],
      "text/plain": [
       "┏━━━━━━━━━━━━━━━━━━━━━━━━━━━┳━━━━━━━━━━━━━━━━━━━━━━━━━━━┓\n",
       "┃\u001b[1m \u001b[0m\u001b[1m       Test metric       \u001b[0m\u001b[1m \u001b[0m┃\u001b[1m \u001b[0m\u001b[1m      DataLoader 0       \u001b[0m\u001b[1m \u001b[0m┃\n",
       "┡━━━━━━━━━━━━━━━━━━━━━━━━━━━╇━━━━━━━━━━━━━━━━━━━━━━━━━━━┩\n",
       "│\u001b[36m \u001b[0m\u001b[36m     test_acc_epoch      \u001b[0m\u001b[36m \u001b[0m│\u001b[35m \u001b[0m\u001b[35m   0.7390645742416382    \u001b[0m\u001b[35m \u001b[0m│\n",
       "│\u001b[36m \u001b[0m\u001b[36m    test_auroc_epoch     \u001b[0m\u001b[36m \u001b[0m│\u001b[35m \u001b[0m\u001b[35m   0.7200759649276733    \u001b[0m\u001b[35m \u001b[0m│\n",
       "│\u001b[36m \u001b[0m\u001b[36m     test_iou_epoch      \u001b[0m\u001b[36m \u001b[0m│\u001b[35m \u001b[0m\u001b[35m   0.5470550060272217    \u001b[0m\u001b[35m \u001b[0m│\n",
       "│\u001b[36m \u001b[0m\u001b[36m     test_loss_epoch     \u001b[0m\u001b[36m \u001b[0m│\u001b[35m \u001b[0m\u001b[35m   0.6655696034431458    \u001b[0m\u001b[35m \u001b[0m│\n",
       "│\u001b[36m \u001b[0m\u001b[36m  test_precision_epoch   \u001b[0m\u001b[36m \u001b[0m│\u001b[35m \u001b[0m\u001b[35m   0.7370303273200989    \u001b[0m\u001b[35m \u001b[0m│\n",
       "│\u001b[36m \u001b[0m\u001b[36m    test_recall_epoch    \u001b[0m\u001b[36m \u001b[0m│\u001b[35m \u001b[0m\u001b[35m     0.6783447265625     \u001b[0m\u001b[35m \u001b[0m│\n",
       "└───────────────────────────┴───────────────────────────┘\n"
      ]
     },
     "metadata": {},
     "output_type": "display_data"
    }
   ],
   "source": [
    "model = rsp.segmentation.test([[r\"E:\\Work\\numto\\data\\x_train.zarr\", r\"E:\\Work\\numto\\data\\y_rast.zarr\", 'test']], r\"E:\\Work\\numto\\data\\deeplab_rn101_rast.ckpt\")"
   ]
  },
  {
   "cell_type": "code",
   "execution_count": 16,
   "id": "e35c8186-d171-4719-8f63-7d71b21780e4",
   "metadata": {},
   "outputs": [
    {
     "name": "stderr",
     "output_type": "stream",
     "text": [
      "GPU available: True (cuda), used: True\n",
      "TPU available: False, using: 0 TPU cores\n",
      "IPU available: False, using: 0 IPUs\n",
      "HPU available: False, using: 0 HPUs\n",
      "LOCAL_RANK: 0 - CUDA_VISIBLE_DEVICES: [0]\n",
      "C:\\ProgramData\\Anaconda3\\envs\\geo\\lib\\site-packages\\lightning\\pytorch\\trainer\\connectors\\data_connector.py:441: The 'test_dataloader' does not have many workers which may be a bottleneck. Consider increasing the value of the `num_workers` argument` to `num_workers=15` in the `DataLoader` to improve performance.\n"
     ]
    },
    {
     "data": {
      "application/vnd.jupyter.widget-view+json": {
       "model_id": "68f587be15d64372bb31e95ad5747bf6",
       "version_major": 2,
       "version_minor": 0
      },
      "text/plain": [
       "Testing: |                                                                                       | 0/? [00:00<…"
      ]
     },
     "metadata": {},
     "output_type": "display_data"
    },
    {
     "data": {
      "text/html": [
       "<pre style=\"white-space:pre;overflow-x:auto;line-height:normal;font-family:Menlo,'DejaVu Sans Mono',consolas,'Courier New',monospace\">┏━━━━━━━━━━━━━━━━━━━━━━━━━━━┳━━━━━━━━━━━━━━━━━━━━━━━━━━━┓\n",
       "┃<span style=\"font-weight: bold\">        Test metric        </span>┃<span style=\"font-weight: bold\">       DataLoader 0        </span>┃\n",
       "┡━━━━━━━━━━━━━━━━━━━━━━━━━━━╇━━━━━━━━━━━━━━━━━━━━━━━━━━━┩\n",
       "│<span style=\"color: #008080; text-decoration-color: #008080\">      test_acc_epoch       </span>│<span style=\"color: #800080; text-decoration-color: #800080\">    0.7974838614463806     </span>│\n",
       "│<span style=\"color: #008080; text-decoration-color: #008080\">     test_auroc_epoch      </span>│<span style=\"color: #800080; text-decoration-color: #800080\">    0.7246483564376831     </span>│\n",
       "│<span style=\"color: #008080; text-decoration-color: #008080\">      test_iou_epoch       </span>│<span style=\"color: #800080; text-decoration-color: #800080\">    0.6280208230018616     </span>│\n",
       "│<span style=\"color: #008080; text-decoration-color: #008080\">      test_loss_epoch      </span>│<span style=\"color: #800080; text-decoration-color: #800080\">    0.5129294991493225     </span>│\n",
       "│<span style=\"color: #008080; text-decoration-color: #008080\">   test_precision_epoch    </span>│<span style=\"color: #800080; text-decoration-color: #800080\">    0.7780666351318359     </span>│\n",
       "│<span style=\"color: #008080; text-decoration-color: #008080\">     test_recall_epoch     </span>│<span style=\"color: #800080; text-decoration-color: #800080\">    0.7519864439964294     </span>│\n",
       "└───────────────────────────┴───────────────────────────┘\n",
       "</pre>\n"
      ],
      "text/plain": [
       "┏━━━━━━━━━━━━━━━━━━━━━━━━━━━┳━━━━━━━━━━━━━━━━━━━━━━━━━━━┓\n",
       "┃\u001b[1m \u001b[0m\u001b[1m       Test metric       \u001b[0m\u001b[1m \u001b[0m┃\u001b[1m \u001b[0m\u001b[1m      DataLoader 0       \u001b[0m\u001b[1m \u001b[0m┃\n",
       "┡━━━━━━━━━━━━━━━━━━━━━━━━━━━╇━━━━━━━━━━━━━━━━━━━━━━━━━━━┩\n",
       "│\u001b[36m \u001b[0m\u001b[36m     test_acc_epoch      \u001b[0m\u001b[36m \u001b[0m│\u001b[35m \u001b[0m\u001b[35m   0.7974838614463806    \u001b[0m\u001b[35m \u001b[0m│\n",
       "│\u001b[36m \u001b[0m\u001b[36m    test_auroc_epoch     \u001b[0m\u001b[36m \u001b[0m│\u001b[35m \u001b[0m\u001b[35m   0.7246483564376831    \u001b[0m\u001b[35m \u001b[0m│\n",
       "│\u001b[36m \u001b[0m\u001b[36m     test_iou_epoch      \u001b[0m\u001b[36m \u001b[0m│\u001b[35m \u001b[0m\u001b[35m   0.6280208230018616    \u001b[0m\u001b[35m \u001b[0m│\n",
       "│\u001b[36m \u001b[0m\u001b[36m     test_loss_epoch     \u001b[0m\u001b[36m \u001b[0m│\u001b[35m \u001b[0m\u001b[35m   0.5129294991493225    \u001b[0m\u001b[35m \u001b[0m│\n",
       "│\u001b[36m \u001b[0m\u001b[36m  test_precision_epoch   \u001b[0m\u001b[36m \u001b[0m│\u001b[35m \u001b[0m\u001b[35m   0.7780666351318359    \u001b[0m\u001b[35m \u001b[0m│\n",
       "│\u001b[36m \u001b[0m\u001b[36m    test_recall_epoch    \u001b[0m\u001b[36m \u001b[0m│\u001b[35m \u001b[0m\u001b[35m   0.7519864439964294    \u001b[0m\u001b[35m \u001b[0m│\n",
       "└───────────────────────────┴───────────────────────────┘\n"
      ]
     },
     "metadata": {},
     "output_type": "display_data"
    }
   ],
   "source": [
    "rsp.segmentation.test([[r\"E:\\Work\\numto\\data\\x_train.zarr\", r\"E:\\Work\\numto\\data\\y_rast.zarr\", 'train']], r\"E:\\Work\\numto\\data\\fcn_rn50_rast.ckpt\")"
   ]
  },
  {
   "cell_type": "code",
   "execution_count": 17,
   "id": "13205411-b90e-4dd8-b056-0f8ad98fcba2",
   "metadata": {},
   "outputs": [
    {
     "name": "stderr",
     "output_type": "stream",
     "text": [
      "GPU available: True (cuda), used: True\n",
      "TPU available: False, using: 0 TPU cores\n",
      "IPU available: False, using: 0 IPUs\n",
      "HPU available: False, using: 0 HPUs\n",
      "LOCAL_RANK: 0 - CUDA_VISIBLE_DEVICES: [0]\n",
      "C:\\ProgramData\\Anaconda3\\envs\\geo\\lib\\site-packages\\lightning\\pytorch\\trainer\\connectors\\data_connector.py:441: The 'test_dataloader' does not have many workers which may be a bottleneck. Consider increasing the value of the `num_workers` argument` to `num_workers=15` in the `DataLoader` to improve performance.\n"
     ]
    },
    {
     "data": {
      "application/vnd.jupyter.widget-view+json": {
       "model_id": "a75e9b2c94ae470f9d11c3d92af89d79",
       "version_major": 2,
       "version_minor": 0
      },
      "text/plain": [
       "Testing: |                                                                                       | 0/? [00:00<…"
      ]
     },
     "metadata": {},
     "output_type": "display_data"
    },
    {
     "data": {
      "text/html": [
       "<pre style=\"white-space:pre;overflow-x:auto;line-height:normal;font-family:Menlo,'DejaVu Sans Mono',consolas,'Courier New',monospace\">┏━━━━━━━━━━━━━━━━━━━━━━━━━━━┳━━━━━━━━━━━━━━━━━━━━━━━━━━━┓\n",
       "┃<span style=\"font-weight: bold\">        Test metric        </span>┃<span style=\"font-weight: bold\">       DataLoader 0        </span>┃\n",
       "┡━━━━━━━━━━━━━━━━━━━━━━━━━━━╇━━━━━━━━━━━━━━━━━━━━━━━━━━━┩\n",
       "│<span style=\"color: #008080; text-decoration-color: #008080\">      test_acc_epoch       </span>│<span style=\"color: #800080; text-decoration-color: #800080\">    0.7518954277038574     </span>│\n",
       "│<span style=\"color: #008080; text-decoration-color: #008080\">     test_auroc_epoch      </span>│<span style=\"color: #800080; text-decoration-color: #800080\">    0.7213953733444214     </span>│\n",
       "│<span style=\"color: #008080; text-decoration-color: #008080\">      test_iou_epoch       </span>│<span style=\"color: #800080; text-decoration-color: #800080\">     0.561090886592865     </span>│\n",
       "│<span style=\"color: #008080; text-decoration-color: #008080\">      test_loss_epoch      </span>│<span style=\"color: #800080; text-decoration-color: #800080\">     0.660049557685852     </span>│\n",
       "│<span style=\"color: #008080; text-decoration-color: #008080\">   test_precision_epoch    </span>│<span style=\"color: #800080; text-decoration-color: #800080\">     0.709953248500824     </span>│\n",
       "│<span style=\"color: #008080; text-decoration-color: #008080\">     test_recall_epoch     </span>│<span style=\"color: #800080; text-decoration-color: #800080\">    0.7012442946434021     </span>│\n",
       "└───────────────────────────┴───────────────────────────┘\n",
       "</pre>\n"
      ],
      "text/plain": [
       "┏━━━━━━━━━━━━━━━━━━━━━━━━━━━┳━━━━━━━━━━━━━━━━━━━━━━━━━━━┓\n",
       "┃\u001b[1m \u001b[0m\u001b[1m       Test metric       \u001b[0m\u001b[1m \u001b[0m┃\u001b[1m \u001b[0m\u001b[1m      DataLoader 0       \u001b[0m\u001b[1m \u001b[0m┃\n",
       "┡━━━━━━━━━━━━━━━━━━━━━━━━━━━╇━━━━━━━━━━━━━━━━━━━━━━━━━━━┩\n",
       "│\u001b[36m \u001b[0m\u001b[36m     test_acc_epoch      \u001b[0m\u001b[36m \u001b[0m│\u001b[35m \u001b[0m\u001b[35m   0.7518954277038574    \u001b[0m\u001b[35m \u001b[0m│\n",
       "│\u001b[36m \u001b[0m\u001b[36m    test_auroc_epoch     \u001b[0m\u001b[36m \u001b[0m│\u001b[35m \u001b[0m\u001b[35m   0.7213953733444214    \u001b[0m\u001b[35m \u001b[0m│\n",
       "│\u001b[36m \u001b[0m\u001b[36m     test_iou_epoch      \u001b[0m\u001b[36m \u001b[0m│\u001b[35m \u001b[0m\u001b[35m    0.561090886592865    \u001b[0m\u001b[35m \u001b[0m│\n",
       "│\u001b[36m \u001b[0m\u001b[36m     test_loss_epoch     \u001b[0m\u001b[36m \u001b[0m│\u001b[35m \u001b[0m\u001b[35m    0.660049557685852    \u001b[0m\u001b[35m \u001b[0m│\n",
       "│\u001b[36m \u001b[0m\u001b[36m  test_precision_epoch   \u001b[0m\u001b[36m \u001b[0m│\u001b[35m \u001b[0m\u001b[35m    0.709953248500824    \u001b[0m\u001b[35m \u001b[0m│\n",
       "│\u001b[36m \u001b[0m\u001b[36m    test_recall_epoch    \u001b[0m\u001b[36m \u001b[0m│\u001b[35m \u001b[0m\u001b[35m   0.7012442946434021    \u001b[0m\u001b[35m \u001b[0m│\n",
       "└───────────────────────────┴───────────────────────────┘\n"
      ]
     },
     "metadata": {},
     "output_type": "display_data"
    }
   ],
   "source": [
    "rsp.segmentation.test([[r\"E:\\Work\\numto\\data\\x_train.zarr\", r\"E:\\Work\\numto\\data\\y_rast.zarr\", 'val']], r\"E:\\Work\\numto\\data\\fcn_rn50_rast.ckpt\")"
   ]
  },
  {
   "cell_type": "code",
   "execution_count": 18,
   "id": "95201088-5544-4dea-a8b8-c7c94d7f4051",
   "metadata": {},
   "outputs": [
    {
     "name": "stderr",
     "output_type": "stream",
     "text": [
      "GPU available: True (cuda), used: True\n",
      "TPU available: False, using: 0 TPU cores\n",
      "IPU available: False, using: 0 IPUs\n",
      "HPU available: False, using: 0 HPUs\n",
      "LOCAL_RANK: 0 - CUDA_VISIBLE_DEVICES: [0]\n",
      "C:\\ProgramData\\Anaconda3\\envs\\geo\\lib\\site-packages\\lightning\\pytorch\\trainer\\connectors\\data_connector.py:441: The 'test_dataloader' does not have many workers which may be a bottleneck. Consider increasing the value of the `num_workers` argument` to `num_workers=15` in the `DataLoader` to improve performance.\n"
     ]
    },
    {
     "data": {
      "application/vnd.jupyter.widget-view+json": {
       "model_id": "fd50534d17d34a59acc1a8d3b2aba302",
       "version_major": 2,
       "version_minor": 0
      },
      "text/plain": [
       "Testing: |                                                                                       | 0/? [00:00<…"
      ]
     },
     "metadata": {},
     "output_type": "display_data"
    },
    {
     "data": {
      "text/html": [
       "<pre style=\"white-space:pre;overflow-x:auto;line-height:normal;font-family:Menlo,'DejaVu Sans Mono',consolas,'Courier New',monospace\">┏━━━━━━━━━━━━━━━━━━━━━━━━━━━┳━━━━━━━━━━━━━━━━━━━━━━━━━━━┓\n",
       "┃<span style=\"font-weight: bold\">        Test metric        </span>┃<span style=\"font-weight: bold\">       DataLoader 0        </span>┃\n",
       "┡━━━━━━━━━━━━━━━━━━━━━━━━━━━╇━━━━━━━━━━━━━━━━━━━━━━━━━━━┩\n",
       "│<span style=\"color: #008080; text-decoration-color: #008080\">      test_acc_epoch       </span>│<span style=\"color: #800080; text-decoration-color: #800080\">    0.7486284375190735     </span>│\n",
       "│<span style=\"color: #008080; text-decoration-color: #008080\">     test_auroc_epoch      </span>│<span style=\"color: #800080; text-decoration-color: #800080\">    0.7196462750434875     </span>│\n",
       "│<span style=\"color: #008080; text-decoration-color: #008080\">      test_iou_epoch       </span>│<span style=\"color: #800080; text-decoration-color: #800080\">    0.5632213354110718     </span>│\n",
       "│<span style=\"color: #008080; text-decoration-color: #008080\">      test_loss_epoch      </span>│<span style=\"color: #800080; text-decoration-color: #800080\">    0.6566572189331055     </span>│\n",
       "│<span style=\"color: #008080; text-decoration-color: #008080\">   test_precision_epoch    </span>│<span style=\"color: #800080; text-decoration-color: #800080\">    0.7224867343902588     </span>│\n",
       "│<span style=\"color: #008080; text-decoration-color: #008080\">     test_recall_epoch     </span>│<span style=\"color: #800080; text-decoration-color: #800080\">    0.7055312395095825     </span>│\n",
       "└───────────────────────────┴───────────────────────────┘\n",
       "</pre>\n"
      ],
      "text/plain": [
       "┏━━━━━━━━━━━━━━━━━━━━━━━━━━━┳━━━━━━━━━━━━━━━━━━━━━━━━━━━┓\n",
       "┃\u001b[1m \u001b[0m\u001b[1m       Test metric       \u001b[0m\u001b[1m \u001b[0m┃\u001b[1m \u001b[0m\u001b[1m      DataLoader 0       \u001b[0m\u001b[1m \u001b[0m┃\n",
       "┡━━━━━━━━━━━━━━━━━━━━━━━━━━━╇━━━━━━━━━━━━━━━━━━━━━━━━━━━┩\n",
       "│\u001b[36m \u001b[0m\u001b[36m     test_acc_epoch      \u001b[0m\u001b[36m \u001b[0m│\u001b[35m \u001b[0m\u001b[35m   0.7486284375190735    \u001b[0m\u001b[35m \u001b[0m│\n",
       "│\u001b[36m \u001b[0m\u001b[36m    test_auroc_epoch     \u001b[0m\u001b[36m \u001b[0m│\u001b[35m \u001b[0m\u001b[35m   0.7196462750434875    \u001b[0m\u001b[35m \u001b[0m│\n",
       "│\u001b[36m \u001b[0m\u001b[36m     test_iou_epoch      \u001b[0m\u001b[36m \u001b[0m│\u001b[35m \u001b[0m\u001b[35m   0.5632213354110718    \u001b[0m\u001b[35m \u001b[0m│\n",
       "│\u001b[36m \u001b[0m\u001b[36m     test_loss_epoch     \u001b[0m\u001b[36m \u001b[0m│\u001b[35m \u001b[0m\u001b[35m   0.6566572189331055    \u001b[0m\u001b[35m \u001b[0m│\n",
       "│\u001b[36m \u001b[0m\u001b[36m  test_precision_epoch   \u001b[0m\u001b[36m \u001b[0m│\u001b[35m \u001b[0m\u001b[35m   0.7224867343902588    \u001b[0m\u001b[35m \u001b[0m│\n",
       "│\u001b[36m \u001b[0m\u001b[36m    test_recall_epoch    \u001b[0m\u001b[36m \u001b[0m│\u001b[35m \u001b[0m\u001b[35m   0.7055312395095825    \u001b[0m\u001b[35m \u001b[0m│\n",
       "└───────────────────────────┴───────────────────────────┘\n"
      ]
     },
     "metadata": {},
     "output_type": "display_data"
    }
   ],
   "source": [
    "rsp.segmentation.test([[r\"E:\\Work\\numto\\data\\x_train.zarr\", r\"E:\\Work\\numto\\data\\y_rast.zarr\", 'test']], r\"E:\\Work\\numto\\data\\fcn_rn50_rast.ckpt\")"
   ]
  },
  {
   "cell_type": "code",
   "execution_count": 19,
   "id": "7a1afcf9-407b-487e-908a-b3035f55b273",
   "metadata": {},
   "outputs": [
    {
     "name": "stderr",
     "output_type": "stream",
     "text": [
      "GPU available: True (cuda), used: True\n",
      "TPU available: False, using: 0 TPU cores\n",
      "IPU available: False, using: 0 IPUs\n",
      "HPU available: False, using: 0 HPUs\n",
      "LOCAL_RANK: 0 - CUDA_VISIBLE_DEVICES: [0]\n",
      "C:\\ProgramData\\Anaconda3\\envs\\geo\\lib\\site-packages\\lightning\\pytorch\\trainer\\connectors\\data_connector.py:441: The 'test_dataloader' does not have many workers which may be a bottleneck. Consider increasing the value of the `num_workers` argument` to `num_workers=15` in the `DataLoader` to improve performance.\n"
     ]
    },
    {
     "data": {
      "application/vnd.jupyter.widget-view+json": {
       "model_id": "d8b4d54ed89647b3b443756d61d5adb1",
       "version_major": 2,
       "version_minor": 0
      },
      "text/plain": [
       "Testing: |                                                                                       | 0/? [00:00<…"
      ]
     },
     "metadata": {},
     "output_type": "display_data"
    },
    {
     "data": {
      "text/html": [
       "<pre style=\"white-space:pre;overflow-x:auto;line-height:normal;font-family:Menlo,'DejaVu Sans Mono',consolas,'Courier New',monospace\">┏━━━━━━━━━━━━━━━━━━━━━━━━━━━┳━━━━━━━━━━━━━━━━━━━━━━━━━━━┓\n",
       "┃<span style=\"font-weight: bold\">        Test metric        </span>┃<span style=\"font-weight: bold\">       DataLoader 0        </span>┃\n",
       "┡━━━━━━━━━━━━━━━━━━━━━━━━━━━╇━━━━━━━━━━━━━━━━━━━━━━━━━━━┩\n",
       "│<span style=\"color: #008080; text-decoration-color: #008080\">      test_acc_epoch       </span>│<span style=\"color: #800080; text-decoration-color: #800080\">    0.7991610169410706     </span>│\n",
       "│<span style=\"color: #008080; text-decoration-color: #008080\">     test_auroc_epoch      </span>│<span style=\"color: #800080; text-decoration-color: #800080\">    0.7245303392410278     </span>│\n",
       "│<span style=\"color: #008080; text-decoration-color: #008080\">      test_iou_epoch       </span>│<span style=\"color: #800080; text-decoration-color: #800080\">    0.6255767941474915     </span>│\n",
       "│<span style=\"color: #008080; text-decoration-color: #008080\">      test_loss_epoch      </span>│<span style=\"color: #800080; text-decoration-color: #800080\">    0.5159323811531067     </span>│\n",
       "│<span style=\"color: #008080; text-decoration-color: #008080\">   test_precision_epoch    </span>│<span style=\"color: #800080; text-decoration-color: #800080\">    0.7596898674964905     </span>│\n",
       "│<span style=\"color: #008080; text-decoration-color: #008080\">     test_recall_epoch     </span>│<span style=\"color: #800080; text-decoration-color: #800080\">    0.7553760409355164     </span>│\n",
       "└───────────────────────────┴───────────────────────────┘\n",
       "</pre>\n"
      ],
      "text/plain": [
       "┏━━━━━━━━━━━━━━━━━━━━━━━━━━━┳━━━━━━━━━━━━━━━━━━━━━━━━━━━┓\n",
       "┃\u001b[1m \u001b[0m\u001b[1m       Test metric       \u001b[0m\u001b[1m \u001b[0m┃\u001b[1m \u001b[0m\u001b[1m      DataLoader 0       \u001b[0m\u001b[1m \u001b[0m┃\n",
       "┡━━━━━━━━━━━━━━━━━━━━━━━━━━━╇━━━━━━━━━━━━━━━━━━━━━━━━━━━┩\n",
       "│\u001b[36m \u001b[0m\u001b[36m     test_acc_epoch      \u001b[0m\u001b[36m \u001b[0m│\u001b[35m \u001b[0m\u001b[35m   0.7991610169410706    \u001b[0m\u001b[35m \u001b[0m│\n",
       "│\u001b[36m \u001b[0m\u001b[36m    test_auroc_epoch     \u001b[0m\u001b[36m \u001b[0m│\u001b[35m \u001b[0m\u001b[35m   0.7245303392410278    \u001b[0m\u001b[35m \u001b[0m│\n",
       "│\u001b[36m \u001b[0m\u001b[36m     test_iou_epoch      \u001b[0m\u001b[36m \u001b[0m│\u001b[35m \u001b[0m\u001b[35m   0.6255767941474915    \u001b[0m\u001b[35m \u001b[0m│\n",
       "│\u001b[36m \u001b[0m\u001b[36m     test_loss_epoch     \u001b[0m\u001b[36m \u001b[0m│\u001b[35m \u001b[0m\u001b[35m   0.5159323811531067    \u001b[0m\u001b[35m \u001b[0m│\n",
       "│\u001b[36m \u001b[0m\u001b[36m  test_precision_epoch   \u001b[0m\u001b[36m \u001b[0m│\u001b[35m \u001b[0m\u001b[35m   0.7596898674964905    \u001b[0m\u001b[35m \u001b[0m│\n",
       "│\u001b[36m \u001b[0m\u001b[36m    test_recall_epoch    \u001b[0m\u001b[36m \u001b[0m│\u001b[35m \u001b[0m\u001b[35m   0.7553760409355164    \u001b[0m\u001b[35m \u001b[0m│\n",
       "└───────────────────────────┴───────────────────────────┘\n"
      ]
     },
     "metadata": {},
     "output_type": "display_data"
    }
   ],
   "source": [
    "rsp.segmentation.test([[r\"E:\\Work\\numto\\data\\x_train.zarr\", r\"E:\\Work\\numto\\data\\y_rast.zarr\", 'train']], r\"E:\\Work\\numto\\data\\fcn_rn101_rast.ckpt\")"
   ]
  },
  {
   "cell_type": "code",
   "execution_count": 20,
   "id": "f650ded8-ff02-4bca-a58e-7637b91df076",
   "metadata": {},
   "outputs": [
    {
     "name": "stderr",
     "output_type": "stream",
     "text": [
      "GPU available: True (cuda), used: True\n",
      "TPU available: False, using: 0 TPU cores\n",
      "IPU available: False, using: 0 IPUs\n",
      "HPU available: False, using: 0 HPUs\n",
      "LOCAL_RANK: 0 - CUDA_VISIBLE_DEVICES: [0]\n",
      "C:\\ProgramData\\Anaconda3\\envs\\geo\\lib\\site-packages\\lightning\\pytorch\\trainer\\connectors\\data_connector.py:441: The 'test_dataloader' does not have many workers which may be a bottleneck. Consider increasing the value of the `num_workers` argument` to `num_workers=15` in the `DataLoader` to improve performance.\n"
     ]
    },
    {
     "data": {
      "application/vnd.jupyter.widget-view+json": {
       "model_id": "1fee2deb29cf4fe39cd3f9b07097a05e",
       "version_major": 2,
       "version_minor": 0
      },
      "text/plain": [
       "Testing: |                                                                                       | 0/? [00:00<…"
      ]
     },
     "metadata": {},
     "output_type": "display_data"
    },
    {
     "data": {
      "text/html": [
       "<pre style=\"white-space:pre;overflow-x:auto;line-height:normal;font-family:Menlo,'DejaVu Sans Mono',consolas,'Courier New',monospace\">┏━━━━━━━━━━━━━━━━━━━━━━━━━━━┳━━━━━━━━━━━━━━━━━━━━━━━━━━━┓\n",
       "┃<span style=\"font-weight: bold\">        Test metric        </span>┃<span style=\"font-weight: bold\">       DataLoader 0        </span>┃\n",
       "┡━━━━━━━━━━━━━━━━━━━━━━━━━━━╇━━━━━━━━━━━━━━━━━━━━━━━━━━━┩\n",
       "│<span style=\"color: #008080; text-decoration-color: #008080\">      test_acc_epoch       </span>│<span style=\"color: #800080; text-decoration-color: #800080\">    0.7426121234893799     </span>│\n",
       "│<span style=\"color: #008080; text-decoration-color: #008080\">     test_auroc_epoch      </span>│<span style=\"color: #800080; text-decoration-color: #800080\">    0.7186757922172546     </span>│\n",
       "│<span style=\"color: #008080; text-decoration-color: #008080\">      test_iou_epoch       </span>│<span style=\"color: #800080; text-decoration-color: #800080\">    0.5503848791122437     </span>│\n",
       "│<span style=\"color: #008080; text-decoration-color: #008080\">      test_loss_epoch      </span>│<span style=\"color: #800080; text-decoration-color: #800080\">    0.6552785038948059     </span>│\n",
       "│<span style=\"color: #008080; text-decoration-color: #008080\">   test_precision_epoch    </span>│<span style=\"color: #800080; text-decoration-color: #800080\">    0.6762642860412598     </span>│\n",
       "│<span style=\"color: #008080; text-decoration-color: #008080\">     test_recall_epoch     </span>│<span style=\"color: #800080; text-decoration-color: #800080\">    0.7117921113967896     </span>│\n",
       "└───────────────────────────┴───────────────────────────┘\n",
       "</pre>\n"
      ],
      "text/plain": [
       "┏━━━━━━━━━━━━━━━━━━━━━━━━━━━┳━━━━━━━━━━━━━━━━━━━━━━━━━━━┓\n",
       "┃\u001b[1m \u001b[0m\u001b[1m       Test metric       \u001b[0m\u001b[1m \u001b[0m┃\u001b[1m \u001b[0m\u001b[1m      DataLoader 0       \u001b[0m\u001b[1m \u001b[0m┃\n",
       "┡━━━━━━━━━━━━━━━━━━━━━━━━━━━╇━━━━━━━━━━━━━━━━━━━━━━━━━━━┩\n",
       "│\u001b[36m \u001b[0m\u001b[36m     test_acc_epoch      \u001b[0m\u001b[36m \u001b[0m│\u001b[35m \u001b[0m\u001b[35m   0.7426121234893799    \u001b[0m\u001b[35m \u001b[0m│\n",
       "│\u001b[36m \u001b[0m\u001b[36m    test_auroc_epoch     \u001b[0m\u001b[36m \u001b[0m│\u001b[35m \u001b[0m\u001b[35m   0.7186757922172546    \u001b[0m\u001b[35m \u001b[0m│\n",
       "│\u001b[36m \u001b[0m\u001b[36m     test_iou_epoch      \u001b[0m\u001b[36m \u001b[0m│\u001b[35m \u001b[0m\u001b[35m   0.5503848791122437    \u001b[0m\u001b[35m \u001b[0m│\n",
       "│\u001b[36m \u001b[0m\u001b[36m     test_loss_epoch     \u001b[0m\u001b[36m \u001b[0m│\u001b[35m \u001b[0m\u001b[35m   0.6552785038948059    \u001b[0m\u001b[35m \u001b[0m│\n",
       "│\u001b[36m \u001b[0m\u001b[36m  test_precision_epoch   \u001b[0m\u001b[36m \u001b[0m│\u001b[35m \u001b[0m\u001b[35m   0.6762642860412598    \u001b[0m\u001b[35m \u001b[0m│\n",
       "│\u001b[36m \u001b[0m\u001b[36m    test_recall_epoch    \u001b[0m\u001b[36m \u001b[0m│\u001b[35m \u001b[0m\u001b[35m   0.7117921113967896    \u001b[0m\u001b[35m \u001b[0m│\n",
       "└───────────────────────────┴───────────────────────────┘\n"
      ]
     },
     "metadata": {},
     "output_type": "display_data"
    }
   ],
   "source": [
    "rsp.segmentation.test([[r\"E:\\Work\\numto\\data\\x_train.zarr\", r\"E:\\Work\\numto\\data\\y_rast.zarr\", 'val']], r\"E:\\Work\\numto\\data\\fcn_rn101_rast.ckpt\")"
   ]
  },
  {
   "cell_type": "code",
   "execution_count": 21,
   "id": "ad950d7b-2618-4170-8285-39c17b0451c0",
   "metadata": {},
   "outputs": [
    {
     "name": "stderr",
     "output_type": "stream",
     "text": [
      "GPU available: True (cuda), used: True\n",
      "TPU available: False, using: 0 TPU cores\n",
      "IPU available: False, using: 0 IPUs\n",
      "HPU available: False, using: 0 HPUs\n",
      "LOCAL_RANK: 0 - CUDA_VISIBLE_DEVICES: [0]\n",
      "C:\\ProgramData\\Anaconda3\\envs\\geo\\lib\\site-packages\\lightning\\pytorch\\trainer\\connectors\\data_connector.py:441: The 'test_dataloader' does not have many workers which may be a bottleneck. Consider increasing the value of the `num_workers` argument` to `num_workers=15` in the `DataLoader` to improve performance.\n"
     ]
    },
    {
     "data": {
      "application/vnd.jupyter.widget-view+json": {
       "model_id": "131744639a814a6886f290d1a4d5393c",
       "version_major": 2,
       "version_minor": 0
      },
      "text/plain": [
       "Testing: |                                                                                       | 0/? [00:00<…"
      ]
     },
     "metadata": {},
     "output_type": "display_data"
    },
    {
     "data": {
      "text/html": [
       "<pre style=\"white-space:pre;overflow-x:auto;line-height:normal;font-family:Menlo,'DejaVu Sans Mono',consolas,'Courier New',monospace\">┏━━━━━━━━━━━━━━━━━━━━━━━━━━━┳━━━━━━━━━━━━━━━━━━━━━━━━━━━┓\n",
       "┃<span style=\"font-weight: bold\">        Test metric        </span>┃<span style=\"font-weight: bold\">       DataLoader 0        </span>┃\n",
       "┡━━━━━━━━━━━━━━━━━━━━━━━━━━━╇━━━━━━━━━━━━━━━━━━━━━━━━━━━┩\n",
       "│<span style=\"color: #008080; text-decoration-color: #008080\">      test_acc_epoch       </span>│<span style=\"color: #800080; text-decoration-color: #800080\">    0.7516191005706787     </span>│\n",
       "│<span style=\"color: #008080; text-decoration-color: #008080\">     test_auroc_epoch      </span>│<span style=\"color: #800080; text-decoration-color: #800080\">    0.7197227478027344     </span>│\n",
       "│<span style=\"color: #008080; text-decoration-color: #008080\">      test_iou_epoch       </span>│<span style=\"color: #800080; text-decoration-color: #800080\">     0.573579728603363     </span>│\n",
       "│<span style=\"color: #008080; text-decoration-color: #008080\">      test_loss_epoch      </span>│<span style=\"color: #800080; text-decoration-color: #800080\">    0.6487571001052856     </span>│\n",
       "│<span style=\"color: #008080; text-decoration-color: #008080\">   test_precision_epoch    </span>│<span style=\"color: #800080; text-decoration-color: #800080\">    0.7225735187530518     </span>│\n",
       "│<span style=\"color: #008080; text-decoration-color: #008080\">     test_recall_epoch     </span>│<span style=\"color: #800080; text-decoration-color: #800080\">    0.7201839089393616     </span>│\n",
       "└───────────────────────────┴───────────────────────────┘\n",
       "</pre>\n"
      ],
      "text/plain": [
       "┏━━━━━━━━━━━━━━━━━━━━━━━━━━━┳━━━━━━━━━━━━━━━━━━━━━━━━━━━┓\n",
       "┃\u001b[1m \u001b[0m\u001b[1m       Test metric       \u001b[0m\u001b[1m \u001b[0m┃\u001b[1m \u001b[0m\u001b[1m      DataLoader 0       \u001b[0m\u001b[1m \u001b[0m┃\n",
       "┡━━━━━━━━━━━━━━━━━━━━━━━━━━━╇━━━━━━━━━━━━━━━━━━━━━━━━━━━┩\n",
       "│\u001b[36m \u001b[0m\u001b[36m     test_acc_epoch      \u001b[0m\u001b[36m \u001b[0m│\u001b[35m \u001b[0m\u001b[35m   0.7516191005706787    \u001b[0m\u001b[35m \u001b[0m│\n",
       "│\u001b[36m \u001b[0m\u001b[36m    test_auroc_epoch     \u001b[0m\u001b[36m \u001b[0m│\u001b[35m \u001b[0m\u001b[35m   0.7197227478027344    \u001b[0m\u001b[35m \u001b[0m│\n",
       "│\u001b[36m \u001b[0m\u001b[36m     test_iou_epoch      \u001b[0m\u001b[36m \u001b[0m│\u001b[35m \u001b[0m\u001b[35m    0.573579728603363    \u001b[0m\u001b[35m \u001b[0m│\n",
       "│\u001b[36m \u001b[0m\u001b[36m     test_loss_epoch     \u001b[0m\u001b[36m \u001b[0m│\u001b[35m \u001b[0m\u001b[35m   0.6487571001052856    \u001b[0m\u001b[35m \u001b[0m│\n",
       "│\u001b[36m \u001b[0m\u001b[36m  test_precision_epoch   \u001b[0m\u001b[36m \u001b[0m│\u001b[35m \u001b[0m\u001b[35m   0.7225735187530518    \u001b[0m\u001b[35m \u001b[0m│\n",
       "│\u001b[36m \u001b[0m\u001b[36m    test_recall_epoch    \u001b[0m\u001b[36m \u001b[0m│\u001b[35m \u001b[0m\u001b[35m   0.7201839089393616    \u001b[0m\u001b[35m \u001b[0m│\n",
       "└───────────────────────────┴───────────────────────────┘\n"
      ]
     },
     "metadata": {},
     "output_type": "display_data"
    }
   ],
   "source": [
    "rsp.segmentation.test([[r\"E:\\Work\\numto\\data\\x_train.zarr\", r\"E:\\Work\\numto\\data\\y_rast.zarr\", 'test']], r\"E:\\Work\\numto\\data\\fcn_rn101_rast.ckpt\")"
   ]
  },
  {
   "cell_type": "code",
   "execution_count": 22,
   "id": "91148149-6354-4688-a103-3711066c617a",
   "metadata": {},
   "outputs": [
    {
     "name": "stderr",
     "output_type": "stream",
     "text": [
      "GPU available: True (cuda), used: True\n",
      "TPU available: False, using: 0 TPU cores\n",
      "IPU available: False, using: 0 IPUs\n",
      "HPU available: False, using: 0 HPUs\n",
      "LOCAL_RANK: 0 - CUDA_VISIBLE_DEVICES: [0]\n",
      "C:\\ProgramData\\Anaconda3\\envs\\geo\\lib\\site-packages\\lightning\\pytorch\\trainer\\connectors\\data_connector.py:441: The 'test_dataloader' does not have many workers which may be a bottleneck. Consider increasing the value of the `num_workers` argument` to `num_workers=15` in the `DataLoader` to improve performance.\n"
     ]
    },
    {
     "data": {
      "application/vnd.jupyter.widget-view+json": {
       "model_id": "3d4a5433076a4ab1b7894d07d1b97624",
       "version_major": 2,
       "version_minor": 0
      },
      "text/plain": [
       "Testing: |                                                                                       | 0/? [00:00<…"
      ]
     },
     "metadata": {},
     "output_type": "display_data"
    },
    {
     "data": {
      "text/html": [
       "<pre style=\"white-space:pre;overflow-x:auto;line-height:normal;font-family:Menlo,'DejaVu Sans Mono',consolas,'Courier New',monospace\">┏━━━━━━━━━━━━━━━━━━━━━━━━━━━┳━━━━━━━━━━━━━━━━━━━━━━━━━━━┓\n",
       "┃<span style=\"font-weight: bold\">        Test metric        </span>┃<span style=\"font-weight: bold\">       DataLoader 0        </span>┃\n",
       "┡━━━━━━━━━━━━━━━━━━━━━━━━━━━╇━━━━━━━━━━━━━━━━━━━━━━━━━━━┩\n",
       "│<span style=\"color: #008080; text-decoration-color: #008080\">      test_acc_epoch       </span>│<span style=\"color: #800080; text-decoration-color: #800080\">    0.8371419310569763     </span>│\n",
       "│<span style=\"color: #008080; text-decoration-color: #008080\">     test_auroc_epoch      </span>│<span style=\"color: #800080; text-decoration-color: #800080\">    0.7330735325813293     </span>│\n",
       "│<span style=\"color: #008080; text-decoration-color: #008080\">      test_iou_epoch       </span>│<span style=\"color: #800080; text-decoration-color: #800080\">    0.6905421614646912     </span>│\n",
       "│<span style=\"color: #008080; text-decoration-color: #008080\">      test_loss_epoch      </span>│<span style=\"color: #800080; text-decoration-color: #800080\">    0.41787829995155334    </span>│\n",
       "│<span style=\"color: #008080; text-decoration-color: #008080\">   test_precision_epoch    </span>│<span style=\"color: #800080; text-decoration-color: #800080\">    0.8057365417480469     </span>│\n",
       "│<span style=\"color: #008080; text-decoration-color: #008080\">     test_recall_epoch     </span>│<span style=\"color: #800080; text-decoration-color: #800080\">    0.8098510503768921     </span>│\n",
       "└───────────────────────────┴───────────────────────────┘\n",
       "</pre>\n"
      ],
      "text/plain": [
       "┏━━━━━━━━━━━━━━━━━━━━━━━━━━━┳━━━━━━━━━━━━━━━━━━━━━━━━━━━┓\n",
       "┃\u001b[1m \u001b[0m\u001b[1m       Test metric       \u001b[0m\u001b[1m \u001b[0m┃\u001b[1m \u001b[0m\u001b[1m      DataLoader 0       \u001b[0m\u001b[1m \u001b[0m┃\n",
       "┡━━━━━━━━━━━━━━━━━━━━━━━━━━━╇━━━━━━━━━━━━━━━━━━━━━━━━━━━┩\n",
       "│\u001b[36m \u001b[0m\u001b[36m     test_acc_epoch      \u001b[0m\u001b[36m \u001b[0m│\u001b[35m \u001b[0m\u001b[35m   0.8371419310569763    \u001b[0m\u001b[35m \u001b[0m│\n",
       "│\u001b[36m \u001b[0m\u001b[36m    test_auroc_epoch     \u001b[0m\u001b[36m \u001b[0m│\u001b[35m \u001b[0m\u001b[35m   0.7330735325813293    \u001b[0m\u001b[35m \u001b[0m│\n",
       "│\u001b[36m \u001b[0m\u001b[36m     test_iou_epoch      \u001b[0m\u001b[36m \u001b[0m│\u001b[35m \u001b[0m\u001b[35m   0.6905421614646912    \u001b[0m\u001b[35m \u001b[0m│\n",
       "│\u001b[36m \u001b[0m\u001b[36m     test_loss_epoch     \u001b[0m\u001b[36m \u001b[0m│\u001b[35m \u001b[0m\u001b[35m   0.41787829995155334   \u001b[0m\u001b[35m \u001b[0m│\n",
       "│\u001b[36m \u001b[0m\u001b[36m  test_precision_epoch   \u001b[0m\u001b[36m \u001b[0m│\u001b[35m \u001b[0m\u001b[35m   0.8057365417480469    \u001b[0m\u001b[35m \u001b[0m│\n",
       "│\u001b[36m \u001b[0m\u001b[36m    test_recall_epoch    \u001b[0m\u001b[36m \u001b[0m│\u001b[35m \u001b[0m\u001b[35m   0.8098510503768921    \u001b[0m\u001b[35m \u001b[0m│\n",
       "└───────────────────────────┴───────────────────────────┘\n"
      ]
     },
     "metadata": {},
     "output_type": "display_data"
    }
   ],
   "source": [
    "rsp.segmentation.test([[r\"E:\\Work\\numto\\data\\x_train.zarr\", r\"E:\\Work\\numto\\data\\y_rast.zarr\", 'train']], r\"E:\\Work\\numto\\data\\lraspp_rast.ckpt\")"
   ]
  },
  {
   "cell_type": "code",
   "execution_count": 23,
   "id": "99d149ac-7afd-4877-b1be-2a0eeb91a0c2",
   "metadata": {},
   "outputs": [
    {
     "name": "stderr",
     "output_type": "stream",
     "text": [
      "GPU available: True (cuda), used: True\n",
      "TPU available: False, using: 0 TPU cores\n",
      "IPU available: False, using: 0 IPUs\n",
      "HPU available: False, using: 0 HPUs\n",
      "LOCAL_RANK: 0 - CUDA_VISIBLE_DEVICES: [0]\n",
      "C:\\ProgramData\\Anaconda3\\envs\\geo\\lib\\site-packages\\lightning\\pytorch\\trainer\\connectors\\data_connector.py:441: The 'test_dataloader' does not have many workers which may be a bottleneck. Consider increasing the value of the `num_workers` argument` to `num_workers=15` in the `DataLoader` to improve performance.\n"
     ]
    },
    {
     "data": {
      "application/vnd.jupyter.widget-view+json": {
       "model_id": "c435cb7130e8468cbff2dc445fc698a5",
       "version_major": 2,
       "version_minor": 0
      },
      "text/plain": [
       "Testing: |                                                                                       | 0/? [00:00<…"
      ]
     },
     "metadata": {},
     "output_type": "display_data"
    },
    {
     "data": {
      "text/html": [
       "<pre style=\"white-space:pre;overflow-x:auto;line-height:normal;font-family:Menlo,'DejaVu Sans Mono',consolas,'Courier New',monospace\">┏━━━━━━━━━━━━━━━━━━━━━━━━━━━┳━━━━━━━━━━━━━━━━━━━━━━━━━━━┓\n",
       "┃<span style=\"font-weight: bold\">        Test metric        </span>┃<span style=\"font-weight: bold\">       DataLoader 0        </span>┃\n",
       "┡━━━━━━━━━━━━━━━━━━━━━━━━━━━╇━━━━━━━━━━━━━━━━━━━━━━━━━━━┩\n",
       "│<span style=\"color: #008080; text-decoration-color: #008080\">      test_acc_epoch       </span>│<span style=\"color: #800080; text-decoration-color: #800080\">    0.7397015690803528     </span>│\n",
       "│<span style=\"color: #008080; text-decoration-color: #008080\">     test_auroc_epoch      </span>│<span style=\"color: #800080; text-decoration-color: #800080\">    0.7163596153259277     </span>│\n",
       "│<span style=\"color: #008080; text-decoration-color: #008080\">      test_iou_epoch       </span>│<span style=\"color: #800080; text-decoration-color: #800080\">    0.5472221374511719     </span>│\n",
       "│<span style=\"color: #008080; text-decoration-color: #008080\">      test_loss_epoch      </span>│<span style=\"color: #800080; text-decoration-color: #800080\">    0.7345163226127625     </span>│\n",
       "│<span style=\"color: #008080; text-decoration-color: #008080\">   test_precision_epoch    </span>│<span style=\"color: #800080; text-decoration-color: #800080\">    0.6855047345161438     </span>│\n",
       "│<span style=\"color: #008080; text-decoration-color: #008080\">     test_recall_epoch     </span>│<span style=\"color: #800080; text-decoration-color: #800080\">    0.7052386403083801     </span>│\n",
       "└───────────────────────────┴───────────────────────────┘\n",
       "</pre>\n"
      ],
      "text/plain": [
       "┏━━━━━━━━━━━━━━━━━━━━━━━━━━━┳━━━━━━━━━━━━━━━━━━━━━━━━━━━┓\n",
       "┃\u001b[1m \u001b[0m\u001b[1m       Test metric       \u001b[0m\u001b[1m \u001b[0m┃\u001b[1m \u001b[0m\u001b[1m      DataLoader 0       \u001b[0m\u001b[1m \u001b[0m┃\n",
       "┡━━━━━━━━━━━━━━━━━━━━━━━━━━━╇━━━━━━━━━━━━━━━━━━━━━━━━━━━┩\n",
       "│\u001b[36m \u001b[0m\u001b[36m     test_acc_epoch      \u001b[0m\u001b[36m \u001b[0m│\u001b[35m \u001b[0m\u001b[35m   0.7397015690803528    \u001b[0m\u001b[35m \u001b[0m│\n",
       "│\u001b[36m \u001b[0m\u001b[36m    test_auroc_epoch     \u001b[0m\u001b[36m \u001b[0m│\u001b[35m \u001b[0m\u001b[35m   0.7163596153259277    \u001b[0m\u001b[35m \u001b[0m│\n",
       "│\u001b[36m \u001b[0m\u001b[36m     test_iou_epoch      \u001b[0m\u001b[36m \u001b[0m│\u001b[35m \u001b[0m\u001b[35m   0.5472221374511719    \u001b[0m\u001b[35m \u001b[0m│\n",
       "│\u001b[36m \u001b[0m\u001b[36m     test_loss_epoch     \u001b[0m\u001b[36m \u001b[0m│\u001b[35m \u001b[0m\u001b[35m   0.7345163226127625    \u001b[0m\u001b[35m \u001b[0m│\n",
       "│\u001b[36m \u001b[0m\u001b[36m  test_precision_epoch   \u001b[0m\u001b[36m \u001b[0m│\u001b[35m \u001b[0m\u001b[35m   0.6855047345161438    \u001b[0m\u001b[35m \u001b[0m│\n",
       "│\u001b[36m \u001b[0m\u001b[36m    test_recall_epoch    \u001b[0m\u001b[36m \u001b[0m│\u001b[35m \u001b[0m\u001b[35m   0.7052386403083801    \u001b[0m\u001b[35m \u001b[0m│\n",
       "└───────────────────────────┴───────────────────────────┘\n"
      ]
     },
     "metadata": {},
     "output_type": "display_data"
    }
   ],
   "source": [
    "rsp.segmentation.test([[r\"E:\\Work\\numto\\data\\x_train.zarr\", r\"E:\\Work\\numto\\data\\y_rast.zarr\", 'val']], r\"E:\\Work\\numto\\data\\lraspp_rast.ckpt\")"
   ]
  },
  {
   "cell_type": "code",
   "execution_count": 24,
   "id": "80d5c794-749f-407d-b365-decd77407ad7",
   "metadata": {},
   "outputs": [
    {
     "name": "stderr",
     "output_type": "stream",
     "text": [
      "GPU available: True (cuda), used: True\n",
      "TPU available: False, using: 0 TPU cores\n",
      "IPU available: False, using: 0 IPUs\n",
      "HPU available: False, using: 0 HPUs\n",
      "LOCAL_RANK: 0 - CUDA_VISIBLE_DEVICES: [0]\n",
      "C:\\ProgramData\\Anaconda3\\envs\\geo\\lib\\site-packages\\lightning\\pytorch\\trainer\\connectors\\data_connector.py:441: The 'test_dataloader' does not have many workers which may be a bottleneck. Consider increasing the value of the `num_workers` argument` to `num_workers=15` in the `DataLoader` to improve performance.\n"
     ]
    },
    {
     "data": {
      "application/vnd.jupyter.widget-view+json": {
       "model_id": "09a7297b9db943ddbffd627e2ad613c2",
       "version_major": 2,
       "version_minor": 0
      },
      "text/plain": [
       "Testing: |                                                                                       | 0/? [00:00<…"
      ]
     },
     "metadata": {},
     "output_type": "display_data"
    },
    {
     "data": {
      "text/html": [
       "<pre style=\"white-space:pre;overflow-x:auto;line-height:normal;font-family:Menlo,'DejaVu Sans Mono',consolas,'Courier New',monospace\">┏━━━━━━━━━━━━━━━━━━━━━━━━━━━┳━━━━━━━━━━━━━━━━━━━━━━━━━━━┓\n",
       "┃<span style=\"font-weight: bold\">        Test metric        </span>┃<span style=\"font-weight: bold\">       DataLoader 0        </span>┃\n",
       "┡━━━━━━━━━━━━━━━━━━━━━━━━━━━╇━━━━━━━━━━━━━━━━━━━━━━━━━━━┩\n",
       "│<span style=\"color: #008080; text-decoration-color: #008080\">      test_acc_epoch       </span>│<span style=\"color: #800080; text-decoration-color: #800080\">    0.7462534308433533     </span>│\n",
       "│<span style=\"color: #008080; text-decoration-color: #008080\">     test_auroc_epoch      </span>│<span style=\"color: #800080; text-decoration-color: #800080\">    0.7174558639526367     </span>│\n",
       "│<span style=\"color: #008080; text-decoration-color: #008080\">      test_iou_epoch       </span>│<span style=\"color: #800080; text-decoration-color: #800080\">    0.5710700154304504     </span>│\n",
       "│<span style=\"color: #008080; text-decoration-color: #008080\">      test_loss_epoch      </span>│<span style=\"color: #800080; text-decoration-color: #800080\">    0.7041741609573364     </span>│\n",
       "│<span style=\"color: #008080; text-decoration-color: #008080\">   test_precision_epoch    </span>│<span style=\"color: #800080; text-decoration-color: #800080\">    0.7154859304428101     </span>│\n",
       "│<span style=\"color: #008080; text-decoration-color: #008080\">     test_recall_epoch     </span>│<span style=\"color: #800080; text-decoration-color: #800080\">     0.713941752910614     </span>│\n",
       "└───────────────────────────┴───────────────────────────┘\n",
       "</pre>\n"
      ],
      "text/plain": [
       "┏━━━━━━━━━━━━━━━━━━━━━━━━━━━┳━━━━━━━━━━━━━━━━━━━━━━━━━━━┓\n",
       "┃\u001b[1m \u001b[0m\u001b[1m       Test metric       \u001b[0m\u001b[1m \u001b[0m┃\u001b[1m \u001b[0m\u001b[1m      DataLoader 0       \u001b[0m\u001b[1m \u001b[0m┃\n",
       "┡━━━━━━━━━━━━━━━━━━━━━━━━━━━╇━━━━━━━━━━━━━━━━━━━━━━━━━━━┩\n",
       "│\u001b[36m \u001b[0m\u001b[36m     test_acc_epoch      \u001b[0m\u001b[36m \u001b[0m│\u001b[35m \u001b[0m\u001b[35m   0.7462534308433533    \u001b[0m\u001b[35m \u001b[0m│\n",
       "│\u001b[36m \u001b[0m\u001b[36m    test_auroc_epoch     \u001b[0m\u001b[36m \u001b[0m│\u001b[35m \u001b[0m\u001b[35m   0.7174558639526367    \u001b[0m\u001b[35m \u001b[0m│\n",
       "│\u001b[36m \u001b[0m\u001b[36m     test_iou_epoch      \u001b[0m\u001b[36m \u001b[0m│\u001b[35m \u001b[0m\u001b[35m   0.5710700154304504    \u001b[0m\u001b[35m \u001b[0m│\n",
       "│\u001b[36m \u001b[0m\u001b[36m     test_loss_epoch     \u001b[0m\u001b[36m \u001b[0m│\u001b[35m \u001b[0m\u001b[35m   0.7041741609573364    \u001b[0m\u001b[35m \u001b[0m│\n",
       "│\u001b[36m \u001b[0m\u001b[36m  test_precision_epoch   \u001b[0m\u001b[36m \u001b[0m│\u001b[35m \u001b[0m\u001b[35m   0.7154859304428101    \u001b[0m\u001b[35m \u001b[0m│\n",
       "│\u001b[36m \u001b[0m\u001b[36m    test_recall_epoch    \u001b[0m\u001b[36m \u001b[0m│\u001b[35m \u001b[0m\u001b[35m    0.713941752910614    \u001b[0m\u001b[35m \u001b[0m│\n",
       "└───────────────────────────┴───────────────────────────┘\n"
      ]
     },
     "metadata": {},
     "output_type": "display_data"
    }
   ],
   "source": [
    "rsp.segmentation.test([[r\"E:\\Work\\numto\\data\\x_train.zarr\", r\"E:\\Work\\numto\\data\\y_rast.zarr\", 'test']], r\"E:\\Work\\numto\\data\\lraspp_rast.ckpt\")"
   ]
  },
  {
   "cell_type": "code",
   "execution_count": 25,
   "id": "1e495a54-5d54-40bb-add8-f4465084ba35",
   "metadata": {},
   "outputs": [
    {
     "name": "stderr",
     "output_type": "stream",
     "text": [
      "GPU available: True (cuda), used: True\n",
      "TPU available: False, using: 0 TPU cores\n",
      "IPU available: False, using: 0 IPUs\n",
      "HPU available: False, using: 0 HPUs\n",
      "LOCAL_RANK: 0 - CUDA_VISIBLE_DEVICES: [0]\n",
      "C:\\ProgramData\\Anaconda3\\envs\\geo\\lib\\site-packages\\lightning\\pytorch\\trainer\\connectors\\data_connector.py:441: The 'test_dataloader' does not have many workers which may be a bottleneck. Consider increasing the value of the `num_workers` argument` to `num_workers=15` in the `DataLoader` to improve performance.\n"
     ]
    },
    {
     "data": {
      "application/vnd.jupyter.widget-view+json": {
       "model_id": "871b7a9d2f204e78865efb57af5bf8ff",
       "version_major": 2,
       "version_minor": 0
      },
      "text/plain": [
       "Testing: |                                                                                       | 0/? [00:00<…"
      ]
     },
     "metadata": {},
     "output_type": "display_data"
    },
    {
     "data": {
      "text/html": [
       "<pre style=\"white-space:pre;overflow-x:auto;line-height:normal;font-family:Menlo,'DejaVu Sans Mono',consolas,'Courier New',monospace\">┏━━━━━━━━━━━━━━━━━━━━━━━━━━━┳━━━━━━━━━━━━━━━━━━━━━━━━━━━┓\n",
       "┃<span style=\"font-weight: bold\">        Test metric        </span>┃<span style=\"font-weight: bold\">       DataLoader 0        </span>┃\n",
       "┡━━━━━━━━━━━━━━━━━━━━━━━━━━━╇━━━━━━━━━━━━━━━━━━━━━━━━━━━┩\n",
       "│<span style=\"color: #008080; text-decoration-color: #008080\">      test_acc_epoch       </span>│<span style=\"color: #800080; text-decoration-color: #800080\">    0.7611664533615112     </span>│\n",
       "│<span style=\"color: #008080; text-decoration-color: #008080\">     test_auroc_epoch      </span>│<span style=\"color: #800080; text-decoration-color: #800080\">    0.7133936285972595     </span>│\n",
       "│<span style=\"color: #008080; text-decoration-color: #008080\">      test_iou_epoch       </span>│<span style=\"color: #800080; text-decoration-color: #800080\">    0.5643692016601562     </span>│\n",
       "│<span style=\"color: #008080; text-decoration-color: #008080\">      test_loss_epoch      </span>│<span style=\"color: #800080; text-decoration-color: #800080\">    0.6152074933052063     </span>│\n",
       "│<span style=\"color: #008080; text-decoration-color: #008080\">   test_precision_epoch    </span>│<span style=\"color: #800080; text-decoration-color: #800080\">    0.7200120091438293     </span>│\n",
       "│<span style=\"color: #008080; text-decoration-color: #008080\">     test_recall_epoch     </span>│<span style=\"color: #800080; text-decoration-color: #800080\">    0.6934881210327148     </span>│\n",
       "└───────────────────────────┴───────────────────────────┘\n",
       "</pre>\n"
      ],
      "text/plain": [
       "┏━━━━━━━━━━━━━━━━━━━━━━━━━━━┳━━━━━━━━━━━━━━━━━━━━━━━━━━━┓\n",
       "┃\u001b[1m \u001b[0m\u001b[1m       Test metric       \u001b[0m\u001b[1m \u001b[0m┃\u001b[1m \u001b[0m\u001b[1m      DataLoader 0       \u001b[0m\u001b[1m \u001b[0m┃\n",
       "┡━━━━━━━━━━━━━━━━━━━━━━━━━━━╇━━━━━━━━━━━━━━━━━━━━━━━━━━━┩\n",
       "│\u001b[36m \u001b[0m\u001b[36m     test_acc_epoch      \u001b[0m\u001b[36m \u001b[0m│\u001b[35m \u001b[0m\u001b[35m   0.7611664533615112    \u001b[0m\u001b[35m \u001b[0m│\n",
       "│\u001b[36m \u001b[0m\u001b[36m    test_auroc_epoch     \u001b[0m\u001b[36m \u001b[0m│\u001b[35m \u001b[0m\u001b[35m   0.7133936285972595    \u001b[0m\u001b[35m \u001b[0m│\n",
       "│\u001b[36m \u001b[0m\u001b[36m     test_iou_epoch      \u001b[0m\u001b[36m \u001b[0m│\u001b[35m \u001b[0m\u001b[35m   0.5643692016601562    \u001b[0m\u001b[35m \u001b[0m│\n",
       "│\u001b[36m \u001b[0m\u001b[36m     test_loss_epoch     \u001b[0m\u001b[36m \u001b[0m│\u001b[35m \u001b[0m\u001b[35m   0.6152074933052063    \u001b[0m\u001b[35m \u001b[0m│\n",
       "│\u001b[36m \u001b[0m\u001b[36m  test_precision_epoch   \u001b[0m\u001b[36m \u001b[0m│\u001b[35m \u001b[0m\u001b[35m   0.7200120091438293    \u001b[0m\u001b[35m \u001b[0m│\n",
       "│\u001b[36m \u001b[0m\u001b[36m    test_recall_epoch    \u001b[0m\u001b[36m \u001b[0m│\u001b[35m \u001b[0m\u001b[35m   0.6934881210327148    \u001b[0m\u001b[35m \u001b[0m│\n",
       "└───────────────────────────┴───────────────────────────┘\n"
      ]
     },
     "metadata": {},
     "output_type": "display_data"
    }
   ],
   "source": [
    "rsp.segmentation.test([[r\"E:\\Work\\numto\\data\\x_train.zarr\", r\"E:\\Work\\numto\\data\\y_rast.zarr\", 'train']], r\"E:\\Work\\numto\\data\\segformer_rast.ckpt\")"
   ]
  },
  {
   "cell_type": "code",
   "execution_count": 26,
   "id": "9c6e7ab7-fed4-4706-96ba-1bf38445df91",
   "metadata": {},
   "outputs": [
    {
     "name": "stderr",
     "output_type": "stream",
     "text": [
      "GPU available: True (cuda), used: True\n",
      "TPU available: False, using: 0 TPU cores\n",
      "IPU available: False, using: 0 IPUs\n",
      "HPU available: False, using: 0 HPUs\n",
      "LOCAL_RANK: 0 - CUDA_VISIBLE_DEVICES: [0]\n",
      "C:\\ProgramData\\Anaconda3\\envs\\geo\\lib\\site-packages\\lightning\\pytorch\\trainer\\connectors\\data_connector.py:441: The 'test_dataloader' does not have many workers which may be a bottleneck. Consider increasing the value of the `num_workers` argument` to `num_workers=15` in the `DataLoader` to improve performance.\n"
     ]
    },
    {
     "data": {
      "application/vnd.jupyter.widget-view+json": {
       "model_id": "c3c4297895fa4f73b4ff7b29ac542b49",
       "version_major": 2,
       "version_minor": 0
      },
      "text/plain": [
       "Testing: |                                                                                       | 0/? [00:00<…"
      ]
     },
     "metadata": {},
     "output_type": "display_data"
    },
    {
     "data": {
      "text/html": [
       "<pre style=\"white-space:pre;overflow-x:auto;line-height:normal;font-family:Menlo,'DejaVu Sans Mono',consolas,'Courier New',monospace\">┏━━━━━━━━━━━━━━━━━━━━━━━━━━━┳━━━━━━━━━━━━━━━━━━━━━━━━━━━┓\n",
       "┃<span style=\"font-weight: bold\">        Test metric        </span>┃<span style=\"font-weight: bold\">       DataLoader 0        </span>┃\n",
       "┡━━━━━━━━━━━━━━━━━━━━━━━━━━━╇━━━━━━━━━━━━━━━━━━━━━━━━━━━┩\n",
       "│<span style=\"color: #008080; text-decoration-color: #008080\">      test_acc_epoch       </span>│<span style=\"color: #800080; text-decoration-color: #800080\">    0.7406178712844849     </span>│\n",
       "│<span style=\"color: #008080; text-decoration-color: #008080\">     test_auroc_epoch      </span>│<span style=\"color: #800080; text-decoration-color: #800080\">     0.722079336643219     </span>│\n",
       "│<span style=\"color: #008080; text-decoration-color: #008080\">      test_iou_epoch       </span>│<span style=\"color: #800080; text-decoration-color: #800080\">    0.5393153429031372     </span>│\n",
       "│<span style=\"color: #008080; text-decoration-color: #008080\">      test_loss_epoch      </span>│<span style=\"color: #800080; text-decoration-color: #800080\">     0.666985034942627     </span>│\n",
       "│<span style=\"color: #008080; text-decoration-color: #008080\">   test_precision_epoch    </span>│<span style=\"color: #800080; text-decoration-color: #800080\">     0.688096284866333     </span>│\n",
       "│<span style=\"color: #008080; text-decoration-color: #008080\">     test_recall_epoch     </span>│<span style=\"color: #800080; text-decoration-color: #800080\">    0.6831713914871216     </span>│\n",
       "└───────────────────────────┴───────────────────────────┘\n",
       "</pre>\n"
      ],
      "text/plain": [
       "┏━━━━━━━━━━━━━━━━━━━━━━━━━━━┳━━━━━━━━━━━━━━━━━━━━━━━━━━━┓\n",
       "┃\u001b[1m \u001b[0m\u001b[1m       Test metric       \u001b[0m\u001b[1m \u001b[0m┃\u001b[1m \u001b[0m\u001b[1m      DataLoader 0       \u001b[0m\u001b[1m \u001b[0m┃\n",
       "┡━━━━━━━━━━━━━━━━━━━━━━━━━━━╇━━━━━━━━━━━━━━━━━━━━━━━━━━━┩\n",
       "│\u001b[36m \u001b[0m\u001b[36m     test_acc_epoch      \u001b[0m\u001b[36m \u001b[0m│\u001b[35m \u001b[0m\u001b[35m   0.7406178712844849    \u001b[0m\u001b[35m \u001b[0m│\n",
       "│\u001b[36m \u001b[0m\u001b[36m    test_auroc_epoch     \u001b[0m\u001b[36m \u001b[0m│\u001b[35m \u001b[0m\u001b[35m    0.722079336643219    \u001b[0m\u001b[35m \u001b[0m│\n",
       "│\u001b[36m \u001b[0m\u001b[36m     test_iou_epoch      \u001b[0m\u001b[36m \u001b[0m│\u001b[35m \u001b[0m\u001b[35m   0.5393153429031372    \u001b[0m\u001b[35m \u001b[0m│\n",
       "│\u001b[36m \u001b[0m\u001b[36m     test_loss_epoch     \u001b[0m\u001b[36m \u001b[0m│\u001b[35m \u001b[0m\u001b[35m    0.666985034942627    \u001b[0m\u001b[35m \u001b[0m│\n",
       "│\u001b[36m \u001b[0m\u001b[36m  test_precision_epoch   \u001b[0m\u001b[36m \u001b[0m│\u001b[35m \u001b[0m\u001b[35m    0.688096284866333    \u001b[0m\u001b[35m \u001b[0m│\n",
       "│\u001b[36m \u001b[0m\u001b[36m    test_recall_epoch    \u001b[0m\u001b[36m \u001b[0m│\u001b[35m \u001b[0m\u001b[35m   0.6831713914871216    \u001b[0m\u001b[35m \u001b[0m│\n",
       "└───────────────────────────┴───────────────────────────┘\n"
      ]
     },
     "metadata": {},
     "output_type": "display_data"
    }
   ],
   "source": [
    "rsp.segmentation.test([[r\"E:\\Work\\numto\\data\\x_train.zarr\", r\"E:\\Work\\numto\\data\\y_rast.zarr\", 'val']], r\"E:\\Work\\numto\\data\\segformer_rast.ckpt\")"
   ]
  },
  {
   "cell_type": "code",
   "execution_count": 27,
   "id": "2bc522fc-7528-41cc-8889-5303dbc53d48",
   "metadata": {},
   "outputs": [
    {
     "name": "stderr",
     "output_type": "stream",
     "text": [
      "GPU available: True (cuda), used: True\n",
      "TPU available: False, using: 0 TPU cores\n",
      "IPU available: False, using: 0 IPUs\n",
      "HPU available: False, using: 0 HPUs\n",
      "LOCAL_RANK: 0 - CUDA_VISIBLE_DEVICES: [0]\n",
      "C:\\ProgramData\\Anaconda3\\envs\\geo\\lib\\site-packages\\lightning\\pytorch\\trainer\\connectors\\data_connector.py:441: The 'test_dataloader' does not have many workers which may be a bottleneck. Consider increasing the value of the `num_workers` argument` to `num_workers=15` in the `DataLoader` to improve performance.\n"
     ]
    },
    {
     "data": {
      "application/vnd.jupyter.widget-view+json": {
       "model_id": "916452efec544cfbb4b85417ef7bcc19",
       "version_major": 2,
       "version_minor": 0
      },
      "text/plain": [
       "Testing: |                                                                                       | 0/? [00:00<…"
      ]
     },
     "metadata": {},
     "output_type": "display_data"
    },
    {
     "data": {
      "text/html": [
       "<pre style=\"white-space:pre;overflow-x:auto;line-height:normal;font-family:Menlo,'DejaVu Sans Mono',consolas,'Courier New',monospace\">┏━━━━━━━━━━━━━━━━━━━━━━━━━━━┳━━━━━━━━━━━━━━━━━━━━━━━━━━━┓\n",
       "┃<span style=\"font-weight: bold\">        Test metric        </span>┃<span style=\"font-weight: bold\">       DataLoader 0        </span>┃\n",
       "┡━━━━━━━━━━━━━━━━━━━━━━━━━━━╇━━━━━━━━━━━━━━━━━━━━━━━━━━━┩\n",
       "│<span style=\"color: #008080; text-decoration-color: #008080\">      test_acc_epoch       </span>│<span style=\"color: #800080; text-decoration-color: #800080\">    0.7400134205818176     </span>│\n",
       "│<span style=\"color: #008080; text-decoration-color: #008080\">     test_auroc_epoch      </span>│<span style=\"color: #800080; text-decoration-color: #800080\">    0.7197933197021484     </span>│\n",
       "│<span style=\"color: #008080; text-decoration-color: #008080\">      test_iou_epoch       </span>│<span style=\"color: #800080; text-decoration-color: #800080\">    0.5563581585884094     </span>│\n",
       "│<span style=\"color: #008080; text-decoration-color: #008080\">      test_loss_epoch      </span>│<span style=\"color: #800080; text-decoration-color: #800080\">    0.6627283692359924     </span>│\n",
       "│<span style=\"color: #008080; text-decoration-color: #008080\">   test_precision_epoch    </span>│<span style=\"color: #800080; text-decoration-color: #800080\">    0.7133240103721619     </span>│\n",
       "│<span style=\"color: #008080; text-decoration-color: #008080\">     test_recall_epoch     </span>│<span style=\"color: #800080; text-decoration-color: #800080\">    0.6959559917449951     </span>│\n",
       "└───────────────────────────┴───────────────────────────┘\n",
       "</pre>\n"
      ],
      "text/plain": [
       "┏━━━━━━━━━━━━━━━━━━━━━━━━━━━┳━━━━━━━━━━━━━━━━━━━━━━━━━━━┓\n",
       "┃\u001b[1m \u001b[0m\u001b[1m       Test metric       \u001b[0m\u001b[1m \u001b[0m┃\u001b[1m \u001b[0m\u001b[1m      DataLoader 0       \u001b[0m\u001b[1m \u001b[0m┃\n",
       "┡━━━━━━━━━━━━━━━━━━━━━━━━━━━╇━━━━━━━━━━━━━━━━━━━━━━━━━━━┩\n",
       "│\u001b[36m \u001b[0m\u001b[36m     test_acc_epoch      \u001b[0m\u001b[36m \u001b[0m│\u001b[35m \u001b[0m\u001b[35m   0.7400134205818176    \u001b[0m\u001b[35m \u001b[0m│\n",
       "│\u001b[36m \u001b[0m\u001b[36m    test_auroc_epoch     \u001b[0m\u001b[36m \u001b[0m│\u001b[35m \u001b[0m\u001b[35m   0.7197933197021484    \u001b[0m\u001b[35m \u001b[0m│\n",
       "│\u001b[36m \u001b[0m\u001b[36m     test_iou_epoch      \u001b[0m\u001b[36m \u001b[0m│\u001b[35m \u001b[0m\u001b[35m   0.5563581585884094    \u001b[0m\u001b[35m \u001b[0m│\n",
       "│\u001b[36m \u001b[0m\u001b[36m     test_loss_epoch     \u001b[0m\u001b[36m \u001b[0m│\u001b[35m \u001b[0m\u001b[35m   0.6627283692359924    \u001b[0m\u001b[35m \u001b[0m│\n",
       "│\u001b[36m \u001b[0m\u001b[36m  test_precision_epoch   \u001b[0m\u001b[36m \u001b[0m│\u001b[35m \u001b[0m\u001b[35m   0.7133240103721619    \u001b[0m\u001b[35m \u001b[0m│\n",
       "│\u001b[36m \u001b[0m\u001b[36m    test_recall_epoch    \u001b[0m\u001b[36m \u001b[0m│\u001b[35m \u001b[0m\u001b[35m   0.6959559917449951    \u001b[0m\u001b[35m \u001b[0m│\n",
       "└───────────────────────────┴───────────────────────────┘\n"
      ]
     },
     "metadata": {},
     "output_type": "display_data"
    }
   ],
   "source": [
    "rsp.segmentation.test([[r\"E:\\Work\\numto\\data\\x_train.zarr\", r\"E:\\Work\\numto\\data\\y_rast.zarr\", 'test']], r\"E:\\Work\\numto\\data\\segformer_rast.ckpt\")"
   ]
  },
  {
   "cell_type": "code",
   "execution_count": 28,
   "id": "0c6c7d39-184f-41ee-b600-ff5411dc2caa",
   "metadata": {},
   "outputs": [
    {
     "name": "stderr",
     "output_type": "stream",
     "text": [
      "GPU available: True (cuda), used: True\n",
      "TPU available: False, using: 0 TPU cores\n",
      "IPU available: False, using: 0 IPUs\n",
      "HPU available: False, using: 0 HPUs\n",
      "LOCAL_RANK: 0 - CUDA_VISIBLE_DEVICES: [0]\n",
      "C:\\ProgramData\\Anaconda3\\envs\\geo\\lib\\site-packages\\lightning\\pytorch\\trainer\\connectors\\data_connector.py:441: The 'test_dataloader' does not have many workers which may be a bottleneck. Consider increasing the value of the `num_workers` argument` to `num_workers=15` in the `DataLoader` to improve performance.\n"
     ]
    },
    {
     "data": {
      "application/vnd.jupyter.widget-view+json": {
       "model_id": "44c8ae671c0a4887b387b3a6aceb5df8",
       "version_major": 2,
       "version_minor": 0
      },
      "text/plain": [
       "Testing: |                                                                                       | 0/? [00:00<…"
      ]
     },
     "metadata": {},
     "output_type": "display_data"
    },
    {
     "data": {
      "text/html": [
       "<pre style=\"white-space:pre;overflow-x:auto;line-height:normal;font-family:Menlo,'DejaVu Sans Mono',consolas,'Courier New',monospace\">┏━━━━━━━━━━━━━━━━━━━━━━━━━━━┳━━━━━━━━━━━━━━━━━━━━━━━━━━━┓\n",
       "┃<span style=\"font-weight: bold\">        Test metric        </span>┃<span style=\"font-weight: bold\">       DataLoader 0        </span>┃\n",
       "┡━━━━━━━━━━━━━━━━━━━━━━━━━━━╇━━━━━━━━━━━━━━━━━━━━━━━━━━━┩\n",
       "│<span style=\"color: #008080; text-decoration-color: #008080\">      test_acc_epoch       </span>│<span style=\"color: #800080; text-decoration-color: #800080\">    0.7610519528388977     </span>│\n",
       "│<span style=\"color: #008080; text-decoration-color: #008080\">     test_auroc_epoch      </span>│<span style=\"color: #800080; text-decoration-color: #800080\">    0.7134507298469543     </span>│\n",
       "│<span style=\"color: #008080; text-decoration-color: #008080\">      test_iou_epoch       </span>│<span style=\"color: #800080; text-decoration-color: #800080\">    0.5811606645584106     </span>│\n",
       "│<span style=\"color: #008080; text-decoration-color: #008080\">      test_loss_epoch      </span>│<span style=\"color: #800080; text-decoration-color: #800080\">    0.6127344965934753     </span>│\n",
       "│<span style=\"color: #008080; text-decoration-color: #008080\">   test_precision_epoch    </span>│<span style=\"color: #800080; text-decoration-color: #800080\">    0.7286945581436157     </span>│\n",
       "│<span style=\"color: #008080; text-decoration-color: #008080\">     test_recall_epoch     </span>│<span style=\"color: #800080; text-decoration-color: #800080\">    0.7273588180541992     </span>│\n",
       "└───────────────────────────┴───────────────────────────┘\n",
       "</pre>\n"
      ],
      "text/plain": [
       "┏━━━━━━━━━━━━━━━━━━━━━━━━━━━┳━━━━━━━━━━━━━━━━━━━━━━━━━━━┓\n",
       "┃\u001b[1m \u001b[0m\u001b[1m       Test metric       \u001b[0m\u001b[1m \u001b[0m┃\u001b[1m \u001b[0m\u001b[1m      DataLoader 0       \u001b[0m\u001b[1m \u001b[0m┃\n",
       "┡━━━━━━━━━━━━━━━━━━━━━━━━━━━╇━━━━━━━━━━━━━━━━━━━━━━━━━━━┩\n",
       "│\u001b[36m \u001b[0m\u001b[36m     test_acc_epoch      \u001b[0m\u001b[36m \u001b[0m│\u001b[35m \u001b[0m\u001b[35m   0.7610519528388977    \u001b[0m\u001b[35m \u001b[0m│\n",
       "│\u001b[36m \u001b[0m\u001b[36m    test_auroc_epoch     \u001b[0m\u001b[36m \u001b[0m│\u001b[35m \u001b[0m\u001b[35m   0.7134507298469543    \u001b[0m\u001b[35m \u001b[0m│\n",
       "│\u001b[36m \u001b[0m\u001b[36m     test_iou_epoch      \u001b[0m\u001b[36m \u001b[0m│\u001b[35m \u001b[0m\u001b[35m   0.5811606645584106    \u001b[0m\u001b[35m \u001b[0m│\n",
       "│\u001b[36m \u001b[0m\u001b[36m     test_loss_epoch     \u001b[0m\u001b[36m \u001b[0m│\u001b[35m \u001b[0m\u001b[35m   0.6127344965934753    \u001b[0m\u001b[35m \u001b[0m│\n",
       "│\u001b[36m \u001b[0m\u001b[36m  test_precision_epoch   \u001b[0m\u001b[36m \u001b[0m│\u001b[35m \u001b[0m\u001b[35m   0.7286945581436157    \u001b[0m\u001b[35m \u001b[0m│\n",
       "│\u001b[36m \u001b[0m\u001b[36m    test_recall_epoch    \u001b[0m\u001b[36m \u001b[0m│\u001b[35m \u001b[0m\u001b[35m   0.7273588180541992    \u001b[0m\u001b[35m \u001b[0m│\n",
       "└───────────────────────────┴───────────────────────────┘\n"
      ]
     },
     "metadata": {},
     "output_type": "display_data"
    }
   ],
   "source": [
    "rsp.segmentation.test([[r\"E:\\Work\\numto\\data\\x_train.zarr\", r\"E:\\Work\\numto\\data\\y_rast.zarr\", 'train']], r\"E:\\Work\\numto\\data\\upernet_rast.ckpt\")"
   ]
  },
  {
   "cell_type": "code",
   "execution_count": 29,
   "id": "511473bf-3a70-4c07-a069-29c307c28b42",
   "metadata": {},
   "outputs": [
    {
     "name": "stderr",
     "output_type": "stream",
     "text": [
      "GPU available: True (cuda), used: True\n",
      "TPU available: False, using: 0 TPU cores\n",
      "IPU available: False, using: 0 IPUs\n",
      "HPU available: False, using: 0 HPUs\n",
      "LOCAL_RANK: 0 - CUDA_VISIBLE_DEVICES: [0]\n",
      "C:\\ProgramData\\Anaconda3\\envs\\geo\\lib\\site-packages\\lightning\\pytorch\\trainer\\connectors\\data_connector.py:441: The 'test_dataloader' does not have many workers which may be a bottleneck. Consider increasing the value of the `num_workers` argument` to `num_workers=15` in the `DataLoader` to improve performance.\n"
     ]
    },
    {
     "data": {
      "application/vnd.jupyter.widget-view+json": {
       "model_id": "7443b93ab6214e728d588116cee20cb3",
       "version_major": 2,
       "version_minor": 0
      },
      "text/plain": [
       "Testing: |                                                                                       | 0/? [00:00<…"
      ]
     },
     "metadata": {},
     "output_type": "display_data"
    },
    {
     "data": {
      "text/html": [
       "<pre style=\"white-space:pre;overflow-x:auto;line-height:normal;font-family:Menlo,'DejaVu Sans Mono',consolas,'Courier New',monospace\">┏━━━━━━━━━━━━━━━━━━━━━━━━━━━┳━━━━━━━━━━━━━━━━━━━━━━━━━━━┓\n",
       "┃<span style=\"font-weight: bold\">        Test metric        </span>┃<span style=\"font-weight: bold\">       DataLoader 0        </span>┃\n",
       "┡━━━━━━━━━━━━━━━━━━━━━━━━━━━╇━━━━━━━━━━━━━━━━━━━━━━━━━━━┩\n",
       "│<span style=\"color: #008080; text-decoration-color: #008080\">      test_acc_epoch       </span>│<span style=\"color: #800080; text-decoration-color: #800080\">    0.7433862090110779     </span>│\n",
       "│<span style=\"color: #008080; text-decoration-color: #008080\">     test_auroc_epoch      </span>│<span style=\"color: #800080; text-decoration-color: #800080\">    0.7225903868675232     </span>│\n",
       "│<span style=\"color: #008080; text-decoration-color: #008080\">      test_iou_epoch       </span>│<span style=\"color: #800080; text-decoration-color: #800080\">    0.5537434220314026     </span>│\n",
       "│<span style=\"color: #008080; text-decoration-color: #008080\">      test_loss_epoch      </span>│<span style=\"color: #800080; text-decoration-color: #800080\">    0.6580260396003723     </span>│\n",
       "│<span style=\"color: #008080; text-decoration-color: #008080\">   test_precision_epoch    </span>│<span style=\"color: #800080; text-decoration-color: #800080\">    0.6834014058113098     </span>│\n",
       "│<span style=\"color: #008080; text-decoration-color: #008080\">     test_recall_epoch     </span>│<span style=\"color: #800080; text-decoration-color: #800080\">    0.7169519662857056     </span>│\n",
       "└───────────────────────────┴───────────────────────────┘\n",
       "</pre>\n"
      ],
      "text/plain": [
       "┏━━━━━━━━━━━━━━━━━━━━━━━━━━━┳━━━━━━━━━━━━━━━━━━━━━━━━━━━┓\n",
       "┃\u001b[1m \u001b[0m\u001b[1m       Test metric       \u001b[0m\u001b[1m \u001b[0m┃\u001b[1m \u001b[0m\u001b[1m      DataLoader 0       \u001b[0m\u001b[1m \u001b[0m┃\n",
       "┡━━━━━━━━━━━━━━━━━━━━━━━━━━━╇━━━━━━━━━━━━━━━━━━━━━━━━━━━┩\n",
       "│\u001b[36m \u001b[0m\u001b[36m     test_acc_epoch      \u001b[0m\u001b[36m \u001b[0m│\u001b[35m \u001b[0m\u001b[35m   0.7433862090110779    \u001b[0m\u001b[35m \u001b[0m│\n",
       "│\u001b[36m \u001b[0m\u001b[36m    test_auroc_epoch     \u001b[0m\u001b[36m \u001b[0m│\u001b[35m \u001b[0m\u001b[35m   0.7225903868675232    \u001b[0m\u001b[35m \u001b[0m│\n",
       "│\u001b[36m \u001b[0m\u001b[36m     test_iou_epoch      \u001b[0m\u001b[36m \u001b[0m│\u001b[35m \u001b[0m\u001b[35m   0.5537434220314026    \u001b[0m\u001b[35m \u001b[0m│\n",
       "│\u001b[36m \u001b[0m\u001b[36m     test_loss_epoch     \u001b[0m\u001b[36m \u001b[0m│\u001b[35m \u001b[0m\u001b[35m   0.6580260396003723    \u001b[0m\u001b[35m \u001b[0m│\n",
       "│\u001b[36m \u001b[0m\u001b[36m  test_precision_epoch   \u001b[0m\u001b[36m \u001b[0m│\u001b[35m \u001b[0m\u001b[35m   0.6834014058113098    \u001b[0m\u001b[35m \u001b[0m│\n",
       "│\u001b[36m \u001b[0m\u001b[36m    test_recall_epoch    \u001b[0m\u001b[36m \u001b[0m│\u001b[35m \u001b[0m\u001b[35m   0.7169519662857056    \u001b[0m\u001b[35m \u001b[0m│\n",
       "└───────────────────────────┴───────────────────────────┘\n"
      ]
     },
     "metadata": {},
     "output_type": "display_data"
    }
   ],
   "source": [
    "rsp.segmentation.test([[r\"E:\\Work\\numto\\data\\x_train.zarr\", r\"E:\\Work\\numto\\data\\y_rast.zarr\", 'val']], r\"E:\\Work\\numto\\data\\upernet_rast.ckpt\")"
   ]
  },
  {
   "cell_type": "code",
   "execution_count": 30,
   "id": "10b26d96-e861-4ded-89d0-92d1cd3d1757",
   "metadata": {},
   "outputs": [
    {
     "name": "stderr",
     "output_type": "stream",
     "text": [
      "GPU available: True (cuda), used: True\n",
      "TPU available: False, using: 0 TPU cores\n",
      "IPU available: False, using: 0 IPUs\n",
      "HPU available: False, using: 0 HPUs\n",
      "LOCAL_RANK: 0 - CUDA_VISIBLE_DEVICES: [0]\n",
      "C:\\ProgramData\\Anaconda3\\envs\\geo\\lib\\site-packages\\lightning\\pytorch\\trainer\\connectors\\data_connector.py:441: The 'test_dataloader' does not have many workers which may be a bottleneck. Consider increasing the value of the `num_workers` argument` to `num_workers=15` in the `DataLoader` to improve performance.\n"
     ]
    },
    {
     "data": {
      "application/vnd.jupyter.widget-view+json": {
       "model_id": "6f5dd4a7aaec47439f45d154b0e5baf7",
       "version_major": 2,
       "version_minor": 0
      },
      "text/plain": [
       "Testing: |                                                                                       | 0/? [00:00<…"
      ]
     },
     "metadata": {},
     "output_type": "display_data"
    },
    {
     "data": {
      "text/html": [
       "<pre style=\"white-space:pre;overflow-x:auto;line-height:normal;font-family:Menlo,'DejaVu Sans Mono',consolas,'Courier New',monospace\">┏━━━━━━━━━━━━━━━━━━━━━━━━━━━┳━━━━━━━━━━━━━━━━━━━━━━━━━━━┓\n",
       "┃<span style=\"font-weight: bold\">        Test metric        </span>┃<span style=\"font-weight: bold\">       DataLoader 0        </span>┃\n",
       "┡━━━━━━━━━━━━━━━━━━━━━━━━━━━╇━━━━━━━━━━━━━━━━━━━━━━━━━━━┩\n",
       "│<span style=\"color: #008080; text-decoration-color: #008080\">      test_acc_epoch       </span>│<span style=\"color: #800080; text-decoration-color: #800080\">    0.7458248734474182     </span>│\n",
       "│<span style=\"color: #008080; text-decoration-color: #008080\">     test_auroc_epoch      </span>│<span style=\"color: #800080; text-decoration-color: #800080\">    0.7227870225906372     </span>│\n",
       "│<span style=\"color: #008080; text-decoration-color: #008080\">      test_iou_epoch       </span>│<span style=\"color: #800080; text-decoration-color: #800080\">    0.5727408528327942     </span>│\n",
       "│<span style=\"color: #008080; text-decoration-color: #008080\">      test_loss_epoch      </span>│<span style=\"color: #800080; text-decoration-color: #800080\">     0.653774619102478     </span>│\n",
       "│<span style=\"color: #008080; text-decoration-color: #008080\">   test_precision_epoch    </span>│<span style=\"color: #800080; text-decoration-color: #800080\">    0.7138057351112366     </span>│\n",
       "│<span style=\"color: #008080; text-decoration-color: #008080\">     test_recall_epoch     </span>│<span style=\"color: #800080; text-decoration-color: #800080\">     0.724274218082428     </span>│\n",
       "└───────────────────────────┴───────────────────────────┘\n",
       "</pre>\n"
      ],
      "text/plain": [
       "┏━━━━━━━━━━━━━━━━━━━━━━━━━━━┳━━━━━━━━━━━━━━━━━━━━━━━━━━━┓\n",
       "┃\u001b[1m \u001b[0m\u001b[1m       Test metric       \u001b[0m\u001b[1m \u001b[0m┃\u001b[1m \u001b[0m\u001b[1m      DataLoader 0       \u001b[0m\u001b[1m \u001b[0m┃\n",
       "┡━━━━━━━━━━━━━━━━━━━━━━━━━━━╇━━━━━━━━━━━━━━━━━━━━━━━━━━━┩\n",
       "│\u001b[36m \u001b[0m\u001b[36m     test_acc_epoch      \u001b[0m\u001b[36m \u001b[0m│\u001b[35m \u001b[0m\u001b[35m   0.7458248734474182    \u001b[0m\u001b[35m \u001b[0m│\n",
       "│\u001b[36m \u001b[0m\u001b[36m    test_auroc_epoch     \u001b[0m\u001b[36m \u001b[0m│\u001b[35m \u001b[0m\u001b[35m   0.7227870225906372    \u001b[0m\u001b[35m \u001b[0m│\n",
       "│\u001b[36m \u001b[0m\u001b[36m     test_iou_epoch      \u001b[0m\u001b[36m \u001b[0m│\u001b[35m \u001b[0m\u001b[35m   0.5727408528327942    \u001b[0m\u001b[35m \u001b[0m│\n",
       "│\u001b[36m \u001b[0m\u001b[36m     test_loss_epoch     \u001b[0m\u001b[36m \u001b[0m│\u001b[35m \u001b[0m\u001b[35m    0.653774619102478    \u001b[0m\u001b[35m \u001b[0m│\n",
       "│\u001b[36m \u001b[0m\u001b[36m  test_precision_epoch   \u001b[0m\u001b[36m \u001b[0m│\u001b[35m \u001b[0m\u001b[35m   0.7138057351112366    \u001b[0m\u001b[35m \u001b[0m│\n",
       "│\u001b[36m \u001b[0m\u001b[36m    test_recall_epoch    \u001b[0m\u001b[36m \u001b[0m│\u001b[35m \u001b[0m\u001b[35m    0.724274218082428    \u001b[0m\u001b[35m \u001b[0m│\n",
       "└───────────────────────────┴───────────────────────────┘\n"
      ]
     },
     "metadata": {},
     "output_type": "display_data"
    }
   ],
   "source": [
    "rsp.segmentation.test([[r\"E:\\Work\\numto\\data\\x_train.zarr\", r\"E:\\Work\\numto\\data\\y_rast.zarr\", 'test']], r\"E:\\Work\\numto\\data\\upernet_rast.ckpt\")"
   ]
  },
  {
   "cell_type": "code",
   "execution_count": 31,
   "id": "29f57f13-3aed-4612-928f-a7612a9f4c01",
   "metadata": {},
   "outputs": [
    {
     "name": "stderr",
     "output_type": "stream",
     "text": [
      "GPU available: True (cuda), used: True\n",
      "TPU available: False, using: 0 TPU cores\n",
      "IPU available: False, using: 0 IPUs\n",
      "HPU available: False, using: 0 HPUs\n",
      "LOCAL_RANK: 0 - CUDA_VISIBLE_DEVICES: [0]\n",
      "C:\\ProgramData\\Anaconda3\\envs\\geo\\lib\\site-packages\\lightning\\pytorch\\trainer\\connectors\\data_connector.py:441: The 'test_dataloader' does not have many workers which may be a bottleneck. Consider increasing the value of the `num_workers` argument` to `num_workers=15` in the `DataLoader` to improve performance.\n"
     ]
    },
    {
     "data": {
      "application/vnd.jupyter.widget-view+json": {
       "model_id": "3c012ac234b4464f9cab7b21ceb85940",
       "version_major": 2,
       "version_minor": 0
      },
      "text/plain": [
       "Testing: |                                                                                       | 0/? [00:00<…"
      ]
     },
     "metadata": {},
     "output_type": "display_data"
    },
    {
     "data": {
      "text/html": [
       "<pre style=\"white-space:pre;overflow-x:auto;line-height:normal;font-family:Menlo,'DejaVu Sans Mono',consolas,'Courier New',monospace\">┏━━━━━━━━━━━━━━━━━━━━━━━━━━━┳━━━━━━━━━━━━━━━━━━━━━━━━━━━┓\n",
       "┃<span style=\"font-weight: bold\">        Test metric        </span>┃<span style=\"font-weight: bold\">       DataLoader 0        </span>┃\n",
       "┡━━━━━━━━━━━━━━━━━━━━━━━━━━━╇━━━━━━━━━━━━━━━━━━━━━━━━━━━┩\n",
       "│<span style=\"color: #008080; text-decoration-color: #008080\">      test_acc_epoch       </span>│<span style=\"color: #800080; text-decoration-color: #800080\">    0.7728275060653687     </span>│\n",
       "│<span style=\"color: #008080; text-decoration-color: #008080\">     test_auroc_epoch      </span>│<span style=\"color: #800080; text-decoration-color: #800080\">    0.7162440419197083     </span>│\n",
       "│<span style=\"color: #008080; text-decoration-color: #008080\">      test_iou_epoch       </span>│<span style=\"color: #800080; text-decoration-color: #800080\">    0.5839290022850037     </span>│\n",
       "│<span style=\"color: #008080; text-decoration-color: #008080\">      test_loss_epoch      </span>│<span style=\"color: #800080; text-decoration-color: #800080\">    0.5961681604385376     </span>│\n",
       "│<span style=\"color: #008080; text-decoration-color: #008080\">   test_precision_epoch    </span>│<span style=\"color: #800080; text-decoration-color: #800080\">    0.7370761036872864     </span>│\n",
       "│<span style=\"color: #008080; text-decoration-color: #008080\">     test_recall_epoch     </span>│<span style=\"color: #800080; text-decoration-color: #800080\">    0.7088497281074524     </span>│\n",
       "└───────────────────────────┴───────────────────────────┘\n",
       "</pre>\n"
      ],
      "text/plain": [
       "┏━━━━━━━━━━━━━━━━━━━━━━━━━━━┳━━━━━━━━━━━━━━━━━━━━━━━━━━━┓\n",
       "┃\u001b[1m \u001b[0m\u001b[1m       Test metric       \u001b[0m\u001b[1m \u001b[0m┃\u001b[1m \u001b[0m\u001b[1m      DataLoader 0       \u001b[0m\u001b[1m \u001b[0m┃\n",
       "┡━━━━━━━━━━━━━━━━━━━━━━━━━━━╇━━━━━━━━━━━━━━━━━━━━━━━━━━━┩\n",
       "│\u001b[36m \u001b[0m\u001b[36m     test_acc_epoch      \u001b[0m\u001b[36m \u001b[0m│\u001b[35m \u001b[0m\u001b[35m   0.7728275060653687    \u001b[0m\u001b[35m \u001b[0m│\n",
       "│\u001b[36m \u001b[0m\u001b[36m    test_auroc_epoch     \u001b[0m\u001b[36m \u001b[0m│\u001b[35m \u001b[0m\u001b[35m   0.7162440419197083    \u001b[0m\u001b[35m \u001b[0m│\n",
       "│\u001b[36m \u001b[0m\u001b[36m     test_iou_epoch      \u001b[0m\u001b[36m \u001b[0m│\u001b[35m \u001b[0m\u001b[35m   0.5839290022850037    \u001b[0m\u001b[35m \u001b[0m│\n",
       "│\u001b[36m \u001b[0m\u001b[36m     test_loss_epoch     \u001b[0m\u001b[36m \u001b[0m│\u001b[35m \u001b[0m\u001b[35m   0.5961681604385376    \u001b[0m\u001b[35m \u001b[0m│\n",
       "│\u001b[36m \u001b[0m\u001b[36m  test_precision_epoch   \u001b[0m\u001b[36m \u001b[0m│\u001b[35m \u001b[0m\u001b[35m   0.7370761036872864    \u001b[0m\u001b[35m \u001b[0m│\n",
       "│\u001b[36m \u001b[0m\u001b[36m    test_recall_epoch    \u001b[0m\u001b[36m \u001b[0m│\u001b[35m \u001b[0m\u001b[35m   0.7088497281074524    \u001b[0m\u001b[35m \u001b[0m│\n",
       "└───────────────────────────┴───────────────────────────┘\n"
      ]
     },
     "metadata": {},
     "output_type": "display_data"
    }
   ],
   "source": [
    "rsp.segmentation.test([[r\"E:\\Work\\numto\\data\\x_train.zarr\", r\"E:\\Work\\numto\\data\\y_rast.zarr\", 'train']], r\"E:\\Work\\numto\\data\\upernet_res.ckpt\")"
   ]
  },
  {
   "cell_type": "code",
   "execution_count": 32,
   "id": "0b566b2d-2b18-4829-8026-3a88dd7f0bb5",
   "metadata": {},
   "outputs": [
    {
     "name": "stderr",
     "output_type": "stream",
     "text": [
      "GPU available: True (cuda), used: True\n",
      "TPU available: False, using: 0 TPU cores\n",
      "IPU available: False, using: 0 IPUs\n",
      "HPU available: False, using: 0 HPUs\n",
      "LOCAL_RANK: 0 - CUDA_VISIBLE_DEVICES: [0]\n",
      "C:\\ProgramData\\Anaconda3\\envs\\geo\\lib\\site-packages\\lightning\\pytorch\\trainer\\connectors\\data_connector.py:441: The 'test_dataloader' does not have many workers which may be a bottleneck. Consider increasing the value of the `num_workers` argument` to `num_workers=15` in the `DataLoader` to improve performance.\n"
     ]
    },
    {
     "data": {
      "application/vnd.jupyter.widget-view+json": {
       "model_id": "b5983d3faa584d0f947d0b5f97673866",
       "version_major": 2,
       "version_minor": 0
      },
      "text/plain": [
       "Testing: |                                                                                       | 0/? [00:00<…"
      ]
     },
     "metadata": {},
     "output_type": "display_data"
    },
    {
     "data": {
      "text/html": [
       "<pre style=\"white-space:pre;overflow-x:auto;line-height:normal;font-family:Menlo,'DejaVu Sans Mono',consolas,'Courier New',monospace\">┏━━━━━━━━━━━━━━━━━━━━━━━━━━━┳━━━━━━━━━━━━━━━━━━━━━━━━━━━┓\n",
       "┃<span style=\"font-weight: bold\">        Test metric        </span>┃<span style=\"font-weight: bold\">       DataLoader 0        </span>┃\n",
       "┡━━━━━━━━━━━━━━━━━━━━━━━━━━━╇━━━━━━━━━━━━━━━━━━━━━━━━━━━┩\n",
       "│<span style=\"color: #008080; text-decoration-color: #008080\">      test_acc_epoch       </span>│<span style=\"color: #800080; text-decoration-color: #800080\">     0.744510293006897     </span>│\n",
       "│<span style=\"color: #008080; text-decoration-color: #008080\">     test_auroc_epoch      </span>│<span style=\"color: #800080; text-decoration-color: #800080\">    0.7143439054489136     </span>│\n",
       "│<span style=\"color: #008080; text-decoration-color: #008080\">      test_iou_epoch       </span>│<span style=\"color: #800080; text-decoration-color: #800080\">    0.5497602820396423     </span>│\n",
       "│<span style=\"color: #008080; text-decoration-color: #008080\">      test_loss_epoch      </span>│<span style=\"color: #800080; text-decoration-color: #800080\">    0.6686742305755615     </span>│\n",
       "│<span style=\"color: #008080; text-decoration-color: #008080\">   test_precision_epoch    </span>│<span style=\"color: #800080; text-decoration-color: #800080\">    0.6911400556564331     </span>│\n",
       "│<span style=\"color: #008080; text-decoration-color: #008080\">     test_recall_epoch     </span>│<span style=\"color: #800080; text-decoration-color: #800080\">    0.6973898410797119     </span>│\n",
       "└───────────────────────────┴───────────────────────────┘\n",
       "</pre>\n"
      ],
      "text/plain": [
       "┏━━━━━━━━━━━━━━━━━━━━━━━━━━━┳━━━━━━━━━━━━━━━━━━━━━━━━━━━┓\n",
       "┃\u001b[1m \u001b[0m\u001b[1m       Test metric       \u001b[0m\u001b[1m \u001b[0m┃\u001b[1m \u001b[0m\u001b[1m      DataLoader 0       \u001b[0m\u001b[1m \u001b[0m┃\n",
       "┡━━━━━━━━━━━━━━━━━━━━━━━━━━━╇━━━━━━━━━━━━━━━━━━━━━━━━━━━┩\n",
       "│\u001b[36m \u001b[0m\u001b[36m     test_acc_epoch      \u001b[0m\u001b[36m \u001b[0m│\u001b[35m \u001b[0m\u001b[35m    0.744510293006897    \u001b[0m\u001b[35m \u001b[0m│\n",
       "│\u001b[36m \u001b[0m\u001b[36m    test_auroc_epoch     \u001b[0m\u001b[36m \u001b[0m│\u001b[35m \u001b[0m\u001b[35m   0.7143439054489136    \u001b[0m\u001b[35m \u001b[0m│\n",
       "│\u001b[36m \u001b[0m\u001b[36m     test_iou_epoch      \u001b[0m\u001b[36m \u001b[0m│\u001b[35m \u001b[0m\u001b[35m   0.5497602820396423    \u001b[0m\u001b[35m \u001b[0m│\n",
       "│\u001b[36m \u001b[0m\u001b[36m     test_loss_epoch     \u001b[0m\u001b[36m \u001b[0m│\u001b[35m \u001b[0m\u001b[35m   0.6686742305755615    \u001b[0m\u001b[35m \u001b[0m│\n",
       "│\u001b[36m \u001b[0m\u001b[36m  test_precision_epoch   \u001b[0m\u001b[36m \u001b[0m│\u001b[35m \u001b[0m\u001b[35m   0.6911400556564331    \u001b[0m\u001b[35m \u001b[0m│\n",
       "│\u001b[36m \u001b[0m\u001b[36m    test_recall_epoch    \u001b[0m\u001b[36m \u001b[0m│\u001b[35m \u001b[0m\u001b[35m   0.6973898410797119    \u001b[0m\u001b[35m \u001b[0m│\n",
       "└───────────────────────────┴───────────────────────────┘\n"
      ]
     },
     "metadata": {},
     "output_type": "display_data"
    }
   ],
   "source": [
    "rsp.segmentation.test([[r\"E:\\Work\\numto\\data\\x_train.zarr\", r\"E:\\Work\\numto\\data\\y_rast.zarr\", 'val']], r\"E:\\Work\\numto\\data\\upernet_res.ckpt\")"
   ]
  },
  {
   "cell_type": "code",
   "execution_count": 33,
   "id": "41736a22-5919-4852-b0f3-1b7b28ee5924",
   "metadata": {},
   "outputs": [
    {
     "name": "stderr",
     "output_type": "stream",
     "text": [
      "GPU available: True (cuda), used: True\n",
      "TPU available: False, using: 0 TPU cores\n",
      "IPU available: False, using: 0 IPUs\n",
      "HPU available: False, using: 0 HPUs\n",
      "LOCAL_RANK: 0 - CUDA_VISIBLE_DEVICES: [0]\n",
      "C:\\ProgramData\\Anaconda3\\envs\\geo\\lib\\site-packages\\lightning\\pytorch\\trainer\\connectors\\data_connector.py:441: The 'test_dataloader' does not have many workers which may be a bottleneck. Consider increasing the value of the `num_workers` argument` to `num_workers=15` in the `DataLoader` to improve performance.\n"
     ]
    },
    {
     "data": {
      "application/vnd.jupyter.widget-view+json": {
       "model_id": "acdda3b42ca44214ae69db02fce72269",
       "version_major": 2,
       "version_minor": 0
      },
      "text/plain": [
       "Testing: |                                                                                       | 0/? [00:00<…"
      ]
     },
     "metadata": {},
     "output_type": "display_data"
    },
    {
     "data": {
      "text/html": [
       "<pre style=\"white-space:pre;overflow-x:auto;line-height:normal;font-family:Menlo,'DejaVu Sans Mono',consolas,'Courier New',monospace\">┏━━━━━━━━━━━━━━━━━━━━━━━━━━━┳━━━━━━━━━━━━━━━━━━━━━━━━━━━┓\n",
       "┃<span style=\"font-weight: bold\">        Test metric        </span>┃<span style=\"font-weight: bold\">       DataLoader 0        </span>┃\n",
       "┡━━━━━━━━━━━━━━━━━━━━━━━━━━━╇━━━━━━━━━━━━━━━━━━━━━━━━━━━┩\n",
       "│<span style=\"color: #008080; text-decoration-color: #008080\">      test_acc_epoch       </span>│<span style=\"color: #800080; text-decoration-color: #800080\">    0.7493932247161865     </span>│\n",
       "│<span style=\"color: #008080; text-decoration-color: #008080\">     test_auroc_epoch      </span>│<span style=\"color: #800080; text-decoration-color: #800080\">    0.7221702933311462     </span>│\n",
       "│<span style=\"color: #008080; text-decoration-color: #008080\">      test_iou_epoch       </span>│<span style=\"color: #800080; text-decoration-color: #800080\">     0.567687451839447     </span>│\n",
       "│<span style=\"color: #008080; text-decoration-color: #008080\">      test_loss_epoch      </span>│<span style=\"color: #800080; text-decoration-color: #800080\">    0.6529397964477539     </span>│\n",
       "│<span style=\"color: #008080; text-decoration-color: #008080\">   test_precision_epoch    </span>│<span style=\"color: #800080; text-decoration-color: #800080\">    0.7189958095550537     </span>│\n",
       "│<span style=\"color: #008080; text-decoration-color: #008080\">     test_recall_epoch     </span>│<span style=\"color: #800080; text-decoration-color: #800080\">    0.7040250897407532     </span>│\n",
       "└───────────────────────────┴───────────────────────────┘\n",
       "</pre>\n"
      ],
      "text/plain": [
       "┏━━━━━━━━━━━━━━━━━━━━━━━━━━━┳━━━━━━━━━━━━━━━━━━━━━━━━━━━┓\n",
       "┃\u001b[1m \u001b[0m\u001b[1m       Test metric       \u001b[0m\u001b[1m \u001b[0m┃\u001b[1m \u001b[0m\u001b[1m      DataLoader 0       \u001b[0m\u001b[1m \u001b[0m┃\n",
       "┡━━━━━━━━━━━━━━━━━━━━━━━━━━━╇━━━━━━━━━━━━━━━━━━━━━━━━━━━┩\n",
       "│\u001b[36m \u001b[0m\u001b[36m     test_acc_epoch      \u001b[0m\u001b[36m \u001b[0m│\u001b[35m \u001b[0m\u001b[35m   0.7493932247161865    \u001b[0m\u001b[35m \u001b[0m│\n",
       "│\u001b[36m \u001b[0m\u001b[36m    test_auroc_epoch     \u001b[0m\u001b[36m \u001b[0m│\u001b[35m \u001b[0m\u001b[35m   0.7221702933311462    \u001b[0m\u001b[35m \u001b[0m│\n",
       "│\u001b[36m \u001b[0m\u001b[36m     test_iou_epoch      \u001b[0m\u001b[36m \u001b[0m│\u001b[35m \u001b[0m\u001b[35m    0.567687451839447    \u001b[0m\u001b[35m \u001b[0m│\n",
       "│\u001b[36m \u001b[0m\u001b[36m     test_loss_epoch     \u001b[0m\u001b[36m \u001b[0m│\u001b[35m \u001b[0m\u001b[35m   0.6529397964477539    \u001b[0m\u001b[35m \u001b[0m│\n",
       "│\u001b[36m \u001b[0m\u001b[36m  test_precision_epoch   \u001b[0m\u001b[36m \u001b[0m│\u001b[35m \u001b[0m\u001b[35m   0.7189958095550537    \u001b[0m\u001b[35m \u001b[0m│\n",
       "│\u001b[36m \u001b[0m\u001b[36m    test_recall_epoch    \u001b[0m\u001b[36m \u001b[0m│\u001b[35m \u001b[0m\u001b[35m   0.7040250897407532    \u001b[0m\u001b[35m \u001b[0m│\n",
       "└───────────────────────────┴───────────────────────────┘\n"
      ]
     },
     "metadata": {},
     "output_type": "display_data"
    }
   ],
   "source": [
    "rsp.segmentation.test([[r\"E:\\Work\\numto\\data\\x_train.zarr\", r\"E:\\Work\\numto\\data\\y_rast.zarr\", 'test']], r\"E:\\Work\\numto\\data\\upernet_res.ckpt\")"
   ]
  },
  {
   "cell_type": "code",
   "execution_count": 35,
   "id": "189da3e6-8ecb-4dfd-a063-d989e08388f2",
   "metadata": {},
   "outputs": [
    {
     "name": "stderr",
     "output_type": "stream",
     "text": [
      "GPU available: True (cuda), used: True\n",
      "TPU available: False, using: 0 TPU cores\n",
      "IPU available: False, using: 0 IPUs\n",
      "HPU available: False, using: 0 HPUs\n",
      "LOCAL_RANK: 0 - CUDA_VISIBLE_DEVICES: [0]\n",
      "C:\\ProgramData\\Anaconda3\\envs\\geo\\lib\\site-packages\\lightning\\pytorch\\trainer\\connectors\\data_connector.py:441: The 'test_dataloader' does not have many workers which may be a bottleneck. Consider increasing the value of the `num_workers` argument` to `num_workers=15` in the `DataLoader` to improve performance.\n"
     ]
    },
    {
     "data": {
      "application/vnd.jupyter.widget-view+json": {
       "model_id": "2c3a9e9f159d4f58854992eaf37c900f",
       "version_major": 2,
       "version_minor": 0
      },
      "text/plain": [
       "Testing: |                                                                                       | 0/? [00:00<…"
      ]
     },
     "metadata": {},
     "output_type": "display_data"
    },
    {
     "data": {
      "text/html": [
       "<pre style=\"white-space:pre;overflow-x:auto;line-height:normal;font-family:Menlo,'DejaVu Sans Mono',consolas,'Courier New',monospace\">┏━━━━━━━━━━━━━━━━━━━━━━━━━━━┳━━━━━━━━━━━━━━━━━━━━━━━━━━━┓\n",
       "┃<span style=\"font-weight: bold\">        Test metric        </span>┃<span style=\"font-weight: bold\">       DataLoader 0        </span>┃\n",
       "┡━━━━━━━━━━━━━━━━━━━━━━━━━━━╇━━━━━━━━━━━━━━━━━━━━━━━━━━━┩\n",
       "│<span style=\"color: #008080; text-decoration-color: #008080\">      test_acc_epoch       </span>│<span style=\"color: #800080; text-decoration-color: #800080\">    0.7450840473175049     </span>│\n",
       "│<span style=\"color: #008080; text-decoration-color: #008080\">     test_auroc_epoch      </span>│<span style=\"color: #800080; text-decoration-color: #800080\">    0.7127408385276794     </span>│\n",
       "│<span style=\"color: #008080; text-decoration-color: #008080\">      test_iou_epoch       </span>│<span style=\"color: #800080; text-decoration-color: #800080\">    0.5549749135971069     </span>│\n",
       "│<span style=\"color: #008080; text-decoration-color: #008080\">      test_loss_epoch      </span>│<span style=\"color: #800080; text-decoration-color: #800080\">    0.6453179121017456     </span>│\n",
       "│<span style=\"color: #008080; text-decoration-color: #008080\">   test_precision_epoch    </span>│<span style=\"color: #800080; text-decoration-color: #800080\">    0.7147191166877747     </span>│\n",
       "│<span style=\"color: #008080; text-decoration-color: #008080\">     test_recall_epoch     </span>│<span style=\"color: #800080; text-decoration-color: #800080\">    0.6920377612113953     </span>│\n",
       "└───────────────────────────┴───────────────────────────┘\n",
       "</pre>\n"
      ],
      "text/plain": [
       "┏━━━━━━━━━━━━━━━━━━━━━━━━━━━┳━━━━━━━━━━━━━━━━━━━━━━━━━━━┓\n",
       "┃\u001b[1m \u001b[0m\u001b[1m       Test metric       \u001b[0m\u001b[1m \u001b[0m┃\u001b[1m \u001b[0m\u001b[1m      DataLoader 0       \u001b[0m\u001b[1m \u001b[0m┃\n",
       "┡━━━━━━━━━━━━━━━━━━━━━━━━━━━╇━━━━━━━━━━━━━━━━━━━━━━━━━━━┩\n",
       "│\u001b[36m \u001b[0m\u001b[36m     test_acc_epoch      \u001b[0m\u001b[36m \u001b[0m│\u001b[35m \u001b[0m\u001b[35m   0.7450840473175049    \u001b[0m\u001b[35m \u001b[0m│\n",
       "│\u001b[36m \u001b[0m\u001b[36m    test_auroc_epoch     \u001b[0m\u001b[36m \u001b[0m│\u001b[35m \u001b[0m\u001b[35m   0.7127408385276794    \u001b[0m\u001b[35m \u001b[0m│\n",
       "│\u001b[36m \u001b[0m\u001b[36m     test_iou_epoch      \u001b[0m\u001b[36m \u001b[0m│\u001b[35m \u001b[0m\u001b[35m   0.5549749135971069    \u001b[0m\u001b[35m \u001b[0m│\n",
       "│\u001b[36m \u001b[0m\u001b[36m     test_loss_epoch     \u001b[0m\u001b[36m \u001b[0m│\u001b[35m \u001b[0m\u001b[35m   0.6453179121017456    \u001b[0m\u001b[35m \u001b[0m│\n",
       "│\u001b[36m \u001b[0m\u001b[36m  test_precision_epoch   \u001b[0m\u001b[36m \u001b[0m│\u001b[35m \u001b[0m\u001b[35m   0.7147191166877747    \u001b[0m\u001b[35m \u001b[0m│\n",
       "│\u001b[36m \u001b[0m\u001b[36m    test_recall_epoch    \u001b[0m\u001b[36m \u001b[0m│\u001b[35m \u001b[0m\u001b[35m   0.6920377612113953    \u001b[0m\u001b[35m \u001b[0m│\n",
       "└───────────────────────────┴───────────────────────────┘\n"
      ]
     },
     "metadata": {},
     "output_type": "display_data"
    }
   ],
   "source": [
    "rsp.segmentation.test([[r\"E:\\Work\\numto\\data\\x_train.zarr\", r\"E:\\Work\\numto\\data\\y_rast.zarr\", 'train']], r\"E:\\Work\\numto\\data\\upernet_convnext.ckpt\")"
   ]
  },
  {
   "cell_type": "code",
   "execution_count": 36,
   "id": "a30ada86-d443-4516-a9a3-3f9706d3ad16",
   "metadata": {},
   "outputs": [
    {
     "name": "stderr",
     "output_type": "stream",
     "text": [
      "GPU available: True (cuda), used: True\n",
      "TPU available: False, using: 0 TPU cores\n",
      "IPU available: False, using: 0 IPUs\n",
      "HPU available: False, using: 0 HPUs\n",
      "LOCAL_RANK: 0 - CUDA_VISIBLE_DEVICES: [0]\n",
      "C:\\ProgramData\\Anaconda3\\envs\\geo\\lib\\site-packages\\lightning\\pytorch\\trainer\\connectors\\data_connector.py:441: The 'test_dataloader' does not have many workers which may be a bottleneck. Consider increasing the value of the `num_workers` argument` to `num_workers=15` in the `DataLoader` to improve performance.\n"
     ]
    },
    {
     "data": {
      "application/vnd.jupyter.widget-view+json": {
       "model_id": "fe54f721d7274f51941e0e7a551bdee0",
       "version_major": 2,
       "version_minor": 0
      },
      "text/plain": [
       "Testing: |                                                                                       | 0/? [00:00<…"
      ]
     },
     "metadata": {},
     "output_type": "display_data"
    },
    {
     "data": {
      "text/html": [
       "<pre style=\"white-space:pre;overflow-x:auto;line-height:normal;font-family:Menlo,'DejaVu Sans Mono',consolas,'Courier New',monospace\">┏━━━━━━━━━━━━━━━━━━━━━━━━━━━┳━━━━━━━━━━━━━━━━━━━━━━━━━━━┓\n",
       "┃<span style=\"font-weight: bold\">        Test metric        </span>┃<span style=\"font-weight: bold\">       DataLoader 0        </span>┃\n",
       "┡━━━━━━━━━━━━━━━━━━━━━━━━━━━╇━━━━━━━━━━━━━━━━━━━━━━━━━━━┩\n",
       "│<span style=\"color: #008080; text-decoration-color: #008080\">      test_acc_epoch       </span>│<span style=\"color: #800080; text-decoration-color: #800080\">    0.7292342782020569     </span>│\n",
       "│<span style=\"color: #008080; text-decoration-color: #008080\">     test_auroc_epoch      </span>│<span style=\"color: #800080; text-decoration-color: #800080\">    0.7187208533287048     </span>│\n",
       "│<span style=\"color: #008080; text-decoration-color: #008080\">      test_iou_epoch       </span>│<span style=\"color: #800080; text-decoration-color: #800080\">    0.5431953072547913     </span>│\n",
       "│<span style=\"color: #008080; text-decoration-color: #008080\">      test_loss_epoch      </span>│<span style=\"color: #800080; text-decoration-color: #800080\">     0.689723014831543     </span>│\n",
       "│<span style=\"color: #008080; text-decoration-color: #008080\">   test_precision_epoch    </span>│<span style=\"color: #800080; text-decoration-color: #800080\">    0.6916642785072327     </span>│\n",
       "│<span style=\"color: #008080; text-decoration-color: #008080\">     test_recall_epoch     </span>│<span style=\"color: #800080; text-decoration-color: #800080\">    0.6925286054611206     </span>│\n",
       "└───────────────────────────┴───────────────────────────┘\n",
       "</pre>\n"
      ],
      "text/plain": [
       "┏━━━━━━━━━━━━━━━━━━━━━━━━━━━┳━━━━━━━━━━━━━━━━━━━━━━━━━━━┓\n",
       "┃\u001b[1m \u001b[0m\u001b[1m       Test metric       \u001b[0m\u001b[1m \u001b[0m┃\u001b[1m \u001b[0m\u001b[1m      DataLoader 0       \u001b[0m\u001b[1m \u001b[0m┃\n",
       "┡━━━━━━━━━━━━━━━━━━━━━━━━━━━╇━━━━━━━━━━━━━━━━━━━━━━━━━━━┩\n",
       "│\u001b[36m \u001b[0m\u001b[36m     test_acc_epoch      \u001b[0m\u001b[36m \u001b[0m│\u001b[35m \u001b[0m\u001b[35m   0.7292342782020569    \u001b[0m\u001b[35m \u001b[0m│\n",
       "│\u001b[36m \u001b[0m\u001b[36m    test_auroc_epoch     \u001b[0m\u001b[36m \u001b[0m│\u001b[35m \u001b[0m\u001b[35m   0.7187208533287048    \u001b[0m\u001b[35m \u001b[0m│\n",
       "│\u001b[36m \u001b[0m\u001b[36m     test_iou_epoch      \u001b[0m\u001b[36m \u001b[0m│\u001b[35m \u001b[0m\u001b[35m   0.5431953072547913    \u001b[0m\u001b[35m \u001b[0m│\n",
       "│\u001b[36m \u001b[0m\u001b[36m     test_loss_epoch     \u001b[0m\u001b[36m \u001b[0m│\u001b[35m \u001b[0m\u001b[35m    0.689723014831543    \u001b[0m\u001b[35m \u001b[0m│\n",
       "│\u001b[36m \u001b[0m\u001b[36m  test_precision_epoch   \u001b[0m\u001b[36m \u001b[0m│\u001b[35m \u001b[0m\u001b[35m   0.6916642785072327    \u001b[0m\u001b[35m \u001b[0m│\n",
       "│\u001b[36m \u001b[0m\u001b[36m    test_recall_epoch    \u001b[0m\u001b[36m \u001b[0m│\u001b[35m \u001b[0m\u001b[35m   0.6925286054611206    \u001b[0m\u001b[35m \u001b[0m│\n",
       "└───────────────────────────┴───────────────────────────┘\n"
      ]
     },
     "metadata": {},
     "output_type": "display_data"
    }
   ],
   "source": [
    "rsp.segmentation.test([[r\"E:\\Work\\numto\\data\\x_train.zarr\", r\"E:\\Work\\numto\\data\\y_rast.zarr\", 'val']], r\"E:\\Work\\numto\\data\\upernet_convnext.ckpt\")"
   ]
  },
  {
   "cell_type": "code",
   "execution_count": 37,
   "id": "e120ebba-2756-4ead-a22b-ba59b6c83ed4",
   "metadata": {},
   "outputs": [
    {
     "name": "stderr",
     "output_type": "stream",
     "text": [
      "GPU available: True (cuda), used: True\n",
      "TPU available: False, using: 0 TPU cores\n",
      "IPU available: False, using: 0 IPUs\n",
      "HPU available: False, using: 0 HPUs\n",
      "LOCAL_RANK: 0 - CUDA_VISIBLE_DEVICES: [0]\n",
      "C:\\ProgramData\\Anaconda3\\envs\\geo\\lib\\site-packages\\lightning\\pytorch\\trainer\\connectors\\data_connector.py:441: The 'test_dataloader' does not have many workers which may be a bottleneck. Consider increasing the value of the `num_workers` argument` to `num_workers=15` in the `DataLoader` to improve performance.\n"
     ]
    },
    {
     "data": {
      "application/vnd.jupyter.widget-view+json": {
       "model_id": "1c623ee9a15e46ecba29baa2d7f6f3e2",
       "version_major": 2,
       "version_minor": 0
      },
      "text/plain": [
       "Testing: |                                                                                       | 0/? [00:00<…"
      ]
     },
     "metadata": {},
     "output_type": "display_data"
    },
    {
     "data": {
      "text/html": [
       "<pre style=\"white-space:pre;overflow-x:auto;line-height:normal;font-family:Menlo,'DejaVu Sans Mono',consolas,'Courier New',monospace\">┏━━━━━━━━━━━━━━━━━━━━━━━━━━━┳━━━━━━━━━━━━━━━━━━━━━━━━━━━┓\n",
       "┃<span style=\"font-weight: bold\">        Test metric        </span>┃<span style=\"font-weight: bold\">       DataLoader 0        </span>┃\n",
       "┡━━━━━━━━━━━━━━━━━━━━━━━━━━━╇━━━━━━━━━━━━━━━━━━━━━━━━━━━┩\n",
       "│<span style=\"color: #008080; text-decoration-color: #008080\">      test_acc_epoch       </span>│<span style=\"color: #800080; text-decoration-color: #800080\">    0.7254886031150818     </span>│\n",
       "│<span style=\"color: #008080; text-decoration-color: #008080\">     test_auroc_epoch      </span>│<span style=\"color: #800080; text-decoration-color: #800080\">     0.71994948387146      </span>│\n",
       "│<span style=\"color: #008080; text-decoration-color: #008080\">      test_iou_epoch       </span>│<span style=\"color: #800080; text-decoration-color: #800080\">    0.5489392876625061     </span>│\n",
       "│<span style=\"color: #008080; text-decoration-color: #008080\">      test_loss_epoch      </span>│<span style=\"color: #800080; text-decoration-color: #800080\">    0.6925398111343384     </span>│\n",
       "│<span style=\"color: #008080; text-decoration-color: #008080\">   test_precision_epoch    </span>│<span style=\"color: #800080; text-decoration-color: #800080\">    0.7070023417472839     </span>│\n",
       "│<span style=\"color: #008080; text-decoration-color: #008080\">     test_recall_epoch     </span>│<span style=\"color: #800080; text-decoration-color: #800080\">    0.6932116150856018     </span>│\n",
       "└───────────────────────────┴───────────────────────────┘\n",
       "</pre>\n"
      ],
      "text/plain": [
       "┏━━━━━━━━━━━━━━━━━━━━━━━━━━━┳━━━━━━━━━━━━━━━━━━━━━━━━━━━┓\n",
       "┃\u001b[1m \u001b[0m\u001b[1m       Test metric       \u001b[0m\u001b[1m \u001b[0m┃\u001b[1m \u001b[0m\u001b[1m      DataLoader 0       \u001b[0m\u001b[1m \u001b[0m┃\n",
       "┡━━━━━━━━━━━━━━━━━━━━━━━━━━━╇━━━━━━━━━━━━━━━━━━━━━━━━━━━┩\n",
       "│\u001b[36m \u001b[0m\u001b[36m     test_acc_epoch      \u001b[0m\u001b[36m \u001b[0m│\u001b[35m \u001b[0m\u001b[35m   0.7254886031150818    \u001b[0m\u001b[35m \u001b[0m│\n",
       "│\u001b[36m \u001b[0m\u001b[36m    test_auroc_epoch     \u001b[0m\u001b[36m \u001b[0m│\u001b[35m \u001b[0m\u001b[35m    0.71994948387146     \u001b[0m\u001b[35m \u001b[0m│\n",
       "│\u001b[36m \u001b[0m\u001b[36m     test_iou_epoch      \u001b[0m\u001b[36m \u001b[0m│\u001b[35m \u001b[0m\u001b[35m   0.5489392876625061    \u001b[0m\u001b[35m \u001b[0m│\n",
       "│\u001b[36m \u001b[0m\u001b[36m     test_loss_epoch     \u001b[0m\u001b[36m \u001b[0m│\u001b[35m \u001b[0m\u001b[35m   0.6925398111343384    \u001b[0m\u001b[35m \u001b[0m│\n",
       "│\u001b[36m \u001b[0m\u001b[36m  test_precision_epoch   \u001b[0m\u001b[36m \u001b[0m│\u001b[35m \u001b[0m\u001b[35m   0.7070023417472839    \u001b[0m\u001b[35m \u001b[0m│\n",
       "│\u001b[36m \u001b[0m\u001b[36m    test_recall_epoch    \u001b[0m\u001b[36m \u001b[0m│\u001b[35m \u001b[0m\u001b[35m   0.6932116150856018    \u001b[0m\u001b[35m \u001b[0m│\n",
       "└───────────────────────────┴───────────────────────────┘\n"
      ]
     },
     "metadata": {},
     "output_type": "display_data"
    }
   ],
   "source": [
    "rsp.segmentation.test([[r\"E:\\Work\\numto\\data\\x_train.zarr\", r\"E:\\Work\\numto\\data\\y_rast.zarr\", 'test']], r\"E:\\Work\\numto\\data\\upernet_convnext.ckpt\")"
   ]
  },
  {
   "cell_type": "code",
   "execution_count": 38,
   "id": "5bb3f7e5-b417-4995-a202-1fb1ff198714",
   "metadata": {},
   "outputs": [
    {
     "name": "stderr",
     "output_type": "stream",
     "text": [
      "GPU available: True (cuda), used: True\n",
      "TPU available: False, using: 0 TPU cores\n",
      "IPU available: False, using: 0 IPUs\n",
      "HPU available: False, using: 0 HPUs\n",
      "LOCAL_RANK: 0 - CUDA_VISIBLE_DEVICES: [0]\n",
      "C:\\ProgramData\\Anaconda3\\envs\\geo\\lib\\site-packages\\lightning\\pytorch\\trainer\\connectors\\data_connector.py:441: The 'test_dataloader' does not have many workers which may be a bottleneck. Consider increasing the value of the `num_workers` argument` to `num_workers=15` in the `DataLoader` to improve performance.\n"
     ]
    },
    {
     "data": {
      "application/vnd.jupyter.widget-view+json": {
       "model_id": "99a71495f21f43f3ad0f0cddfd66a5c2",
       "version_major": 2,
       "version_minor": 0
      },
      "text/plain": [
       "Testing: |                                                                                       | 0/? [00:00<…"
      ]
     },
     "metadata": {},
     "output_type": "display_data"
    },
    {
     "data": {
      "text/html": [
       "<pre style=\"white-space:pre;overflow-x:auto;line-height:normal;font-family:Menlo,'DejaVu Sans Mono',consolas,'Courier New',monospace\">┏━━━━━━━━━━━━━━━━━━━━━━━━━━━┳━━━━━━━━━━━━━━━━━━━━━━━━━━━┓\n",
       "┃<span style=\"font-weight: bold\">        Test metric        </span>┃<span style=\"font-weight: bold\">       DataLoader 0        </span>┃\n",
       "┡━━━━━━━━━━━━━━━━━━━━━━━━━━━╇━━━━━━━━━━━━━━━━━━━━━━━━━━━┩\n",
       "│<span style=\"color: #008080; text-decoration-color: #008080\">      test_acc_epoch       </span>│<span style=\"color: #800080; text-decoration-color: #800080\">    0.7434332370758057     </span>│\n",
       "│<span style=\"color: #008080; text-decoration-color: #008080\">     test_auroc_epoch      </span>│<span style=\"color: #800080; text-decoration-color: #800080\">    0.7085910439491272     </span>│\n",
       "│<span style=\"color: #008080; text-decoration-color: #008080\">      test_iou_epoch       </span>│<span style=\"color: #800080; text-decoration-color: #800080\">    0.5292244553565979     </span>│\n",
       "│<span style=\"color: #008080; text-decoration-color: #008080\">      test_loss_epoch      </span>│<span style=\"color: #800080; text-decoration-color: #800080\">    0.6584981679916382     </span>│\n",
       "│<span style=\"color: #008080; text-decoration-color: #008080\">   test_precision_epoch    </span>│<span style=\"color: #800080; text-decoration-color: #800080\">    0.7182936072349548     </span>│\n",
       "│<span style=\"color: #008080; text-decoration-color: #008080\">     test_recall_epoch     </span>│<span style=\"color: #800080; text-decoration-color: #800080\">    0.6604179739952087     </span>│\n",
       "└───────────────────────────┴───────────────────────────┘\n",
       "</pre>\n"
      ],
      "text/plain": [
       "┏━━━━━━━━━━━━━━━━━━━━━━━━━━━┳━━━━━━━━━━━━━━━━━━━━━━━━━━━┓\n",
       "┃\u001b[1m \u001b[0m\u001b[1m       Test metric       \u001b[0m\u001b[1m \u001b[0m┃\u001b[1m \u001b[0m\u001b[1m      DataLoader 0       \u001b[0m\u001b[1m \u001b[0m┃\n",
       "┡━━━━━━━━━━━━━━━━━━━━━━━━━━━╇━━━━━━━━━━━━━━━━━━━━━━━━━━━┩\n",
       "│\u001b[36m \u001b[0m\u001b[36m     test_acc_epoch      \u001b[0m\u001b[36m \u001b[0m│\u001b[35m \u001b[0m\u001b[35m   0.7434332370758057    \u001b[0m\u001b[35m \u001b[0m│\n",
       "│\u001b[36m \u001b[0m\u001b[36m    test_auroc_epoch     \u001b[0m\u001b[36m \u001b[0m│\u001b[35m \u001b[0m\u001b[35m   0.7085910439491272    \u001b[0m\u001b[35m \u001b[0m│\n",
       "│\u001b[36m \u001b[0m\u001b[36m     test_iou_epoch      \u001b[0m\u001b[36m \u001b[0m│\u001b[35m \u001b[0m\u001b[35m   0.5292244553565979    \u001b[0m\u001b[35m \u001b[0m│\n",
       "│\u001b[36m \u001b[0m\u001b[36m     test_loss_epoch     \u001b[0m\u001b[36m \u001b[0m│\u001b[35m \u001b[0m\u001b[35m   0.6584981679916382    \u001b[0m\u001b[35m \u001b[0m│\n",
       "│\u001b[36m \u001b[0m\u001b[36m  test_precision_epoch   \u001b[0m\u001b[36m \u001b[0m│\u001b[35m \u001b[0m\u001b[35m   0.7182936072349548    \u001b[0m\u001b[35m \u001b[0m│\n",
       "│\u001b[36m \u001b[0m\u001b[36m    test_recall_epoch    \u001b[0m\u001b[36m \u001b[0m│\u001b[35m \u001b[0m\u001b[35m   0.6604179739952087    \u001b[0m\u001b[35m \u001b[0m│\n",
       "└───────────────────────────┴───────────────────────────┘\n"
      ]
     },
     "metadata": {},
     "output_type": "display_data"
    }
   ],
   "source": [
    "rsp.segmentation.test([[r\"E:\\Work\\numto\\data\\x_train.zarr\", r\"E:\\Work\\numto\\data\\y_rast.zarr\", 'train']], r\"E:\\Work\\numto\\data\\mvitv2_rast.ckpt\")"
   ]
  },
  {
   "cell_type": "code",
   "execution_count": 39,
   "id": "0ea22f1f-3ceb-4c6d-9fc0-fa585f56569f",
   "metadata": {},
   "outputs": [
    {
     "name": "stderr",
     "output_type": "stream",
     "text": [
      "GPU available: True (cuda), used: True\n",
      "TPU available: False, using: 0 TPU cores\n",
      "IPU available: False, using: 0 IPUs\n",
      "HPU available: False, using: 0 HPUs\n",
      "LOCAL_RANK: 0 - CUDA_VISIBLE_DEVICES: [0]\n",
      "C:\\ProgramData\\Anaconda3\\envs\\geo\\lib\\site-packages\\lightning\\pytorch\\trainer\\connectors\\data_connector.py:441: The 'test_dataloader' does not have many workers which may be a bottleneck. Consider increasing the value of the `num_workers` argument` to `num_workers=15` in the `DataLoader` to improve performance.\n"
     ]
    },
    {
     "data": {
      "application/vnd.jupyter.widget-view+json": {
       "model_id": "213a64e92ab0450e8136c326a15dd545",
       "version_major": 2,
       "version_minor": 0
      },
      "text/plain": [
       "Testing: |                                                                                       | 0/? [00:00<…"
      ]
     },
     "metadata": {},
     "output_type": "display_data"
    },
    {
     "data": {
      "text/html": [
       "<pre style=\"white-space:pre;overflow-x:auto;line-height:normal;font-family:Menlo,'DejaVu Sans Mono',consolas,'Courier New',monospace\">┏━━━━━━━━━━━━━━━━━━━━━━━━━━━┳━━━━━━━━━━━━━━━━━━━━━━━━━━━┓\n",
       "┃<span style=\"font-weight: bold\">        Test metric        </span>┃<span style=\"font-weight: bold\">       DataLoader 0        </span>┃\n",
       "┡━━━━━━━━━━━━━━━━━━━━━━━━━━━╇━━━━━━━━━━━━━━━━━━━━━━━━━━━┩\n",
       "│<span style=\"color: #008080; text-decoration-color: #008080\">      test_acc_epoch       </span>│<span style=\"color: #800080; text-decoration-color: #800080\">    0.7173991799354553     </span>│\n",
       "│<span style=\"color: #008080; text-decoration-color: #008080\">     test_auroc_epoch      </span>│<span style=\"color: #800080; text-decoration-color: #800080\">    0.7076960802078247     </span>│\n",
       "│<span style=\"color: #008080; text-decoration-color: #008080\">      test_iou_epoch       </span>│<span style=\"color: #800080; text-decoration-color: #800080\">    0.5048395991325378     </span>│\n",
       "│<span style=\"color: #008080; text-decoration-color: #008080\">      test_loss_epoch      </span>│<span style=\"color: #800080; text-decoration-color: #800080\">     0.743938148021698     </span>│\n",
       "│<span style=\"color: #008080; text-decoration-color: #008080\">   test_precision_epoch    </span>│<span style=\"color: #800080; text-decoration-color: #800080\">    0.6740310192108154     </span>│\n",
       "│<span style=\"color: #008080; text-decoration-color: #008080\">     test_recall_epoch     </span>│<span style=\"color: #800080; text-decoration-color: #800080\">    0.6498178243637085     </span>│\n",
       "└───────────────────────────┴───────────────────────────┘\n",
       "</pre>\n"
      ],
      "text/plain": [
       "┏━━━━━━━━━━━━━━━━━━━━━━━━━━━┳━━━━━━━━━━━━━━━━━━━━━━━━━━━┓\n",
       "┃\u001b[1m \u001b[0m\u001b[1m       Test metric       \u001b[0m\u001b[1m \u001b[0m┃\u001b[1m \u001b[0m\u001b[1m      DataLoader 0       \u001b[0m\u001b[1m \u001b[0m┃\n",
       "┡━━━━━━━━━━━━━━━━━━━━━━━━━━━╇━━━━━━━━━━━━━━━━━━━━━━━━━━━┩\n",
       "│\u001b[36m \u001b[0m\u001b[36m     test_acc_epoch      \u001b[0m\u001b[36m \u001b[0m│\u001b[35m \u001b[0m\u001b[35m   0.7173991799354553    \u001b[0m\u001b[35m \u001b[0m│\n",
       "│\u001b[36m \u001b[0m\u001b[36m    test_auroc_epoch     \u001b[0m\u001b[36m \u001b[0m│\u001b[35m \u001b[0m\u001b[35m   0.7076960802078247    \u001b[0m\u001b[35m \u001b[0m│\n",
       "│\u001b[36m \u001b[0m\u001b[36m     test_iou_epoch      \u001b[0m\u001b[36m \u001b[0m│\u001b[35m \u001b[0m\u001b[35m   0.5048395991325378    \u001b[0m\u001b[35m \u001b[0m│\n",
       "│\u001b[36m \u001b[0m\u001b[36m     test_loss_epoch     \u001b[0m\u001b[36m \u001b[0m│\u001b[35m \u001b[0m\u001b[35m    0.743938148021698    \u001b[0m\u001b[35m \u001b[0m│\n",
       "│\u001b[36m \u001b[0m\u001b[36m  test_precision_epoch   \u001b[0m\u001b[36m \u001b[0m│\u001b[35m \u001b[0m\u001b[35m   0.6740310192108154    \u001b[0m\u001b[35m \u001b[0m│\n",
       "│\u001b[36m \u001b[0m\u001b[36m    test_recall_epoch    \u001b[0m\u001b[36m \u001b[0m│\u001b[35m \u001b[0m\u001b[35m   0.6498178243637085    \u001b[0m\u001b[35m \u001b[0m│\n",
       "└───────────────────────────┴───────────────────────────┘\n"
      ]
     },
     "metadata": {},
     "output_type": "display_data"
    }
   ],
   "source": [
    "rsp.segmentation.test([[r\"E:\\Work\\numto\\data\\x_train.zarr\", r\"E:\\Work\\numto\\data\\y_rast.zarr\", 'val']], r\"E:\\Work\\numto\\data\\mvitv2_rast.ckpt\")"
   ]
  },
  {
   "cell_type": "code",
   "execution_count": 40,
   "id": "bd8d8565-d0ad-4a3c-9ff3-5b11ff18b765",
   "metadata": {},
   "outputs": [
    {
     "name": "stderr",
     "output_type": "stream",
     "text": [
      "GPU available: True (cuda), used: True\n",
      "TPU available: False, using: 0 TPU cores\n",
      "IPU available: False, using: 0 IPUs\n",
      "HPU available: False, using: 0 HPUs\n",
      "LOCAL_RANK: 0 - CUDA_VISIBLE_DEVICES: [0]\n",
      "C:\\ProgramData\\Anaconda3\\envs\\geo\\lib\\site-packages\\lightning\\pytorch\\trainer\\connectors\\data_connector.py:441: The 'test_dataloader' does not have many workers which may be a bottleneck. Consider increasing the value of the `num_workers` argument` to `num_workers=15` in the `DataLoader` to improve performance.\n"
     ]
    },
    {
     "data": {
      "application/vnd.jupyter.widget-view+json": {
       "model_id": "97caed4da24548a2ac99f104298d63a9",
       "version_major": 2,
       "version_minor": 0
      },
      "text/plain": [
       "Testing: |                                                                                       | 0/? [00:00<…"
      ]
     },
     "metadata": {},
     "output_type": "display_data"
    },
    {
     "data": {
      "text/html": [
       "<pre style=\"white-space:pre;overflow-x:auto;line-height:normal;font-family:Menlo,'DejaVu Sans Mono',consolas,'Courier New',monospace\">┏━━━━━━━━━━━━━━━━━━━━━━━━━━━┳━━━━━━━━━━━━━━━━━━━━━━━━━━━┓\n",
       "┃<span style=\"font-weight: bold\">        Test metric        </span>┃<span style=\"font-weight: bold\">       DataLoader 0        </span>┃\n",
       "┡━━━━━━━━━━━━━━━━━━━━━━━━━━━╇━━━━━━━━━━━━━━━━━━━━━━━━━━━┩\n",
       "│<span style=\"color: #008080; text-decoration-color: #008080\">      test_acc_epoch       </span>│<span style=\"color: #800080; text-decoration-color: #800080\">    0.7116671800613403     </span>│\n",
       "│<span style=\"color: #008080; text-decoration-color: #008080\">     test_auroc_epoch      </span>│<span style=\"color: #800080; text-decoration-color: #800080\">    0.7115934491157532     </span>│\n",
       "│<span style=\"color: #008080; text-decoration-color: #008080\">      test_iou_epoch       </span>│<span style=\"color: #800080; text-decoration-color: #800080\">    0.5049881935119629     </span>│\n",
       "│<span style=\"color: #008080; text-decoration-color: #008080\">      test_loss_epoch      </span>│<span style=\"color: #800080; text-decoration-color: #800080\">    0.7459368705749512     </span>│\n",
       "│<span style=\"color: #008080; text-decoration-color: #008080\">   test_precision_epoch    </span>│<span style=\"color: #800080; text-decoration-color: #800080\">    0.6835940480232239     </span>│\n",
       "│<span style=\"color: #008080; text-decoration-color: #008080\">     test_recall_epoch     </span>│<span style=\"color: #800080; text-decoration-color: #800080\">     0.648405909538269     </span>│\n",
       "└───────────────────────────┴───────────────────────────┘\n",
       "</pre>\n"
      ],
      "text/plain": [
       "┏━━━━━━━━━━━━━━━━━━━━━━━━━━━┳━━━━━━━━━━━━━━━━━━━━━━━━━━━┓\n",
       "┃\u001b[1m \u001b[0m\u001b[1m       Test metric       \u001b[0m\u001b[1m \u001b[0m┃\u001b[1m \u001b[0m\u001b[1m      DataLoader 0       \u001b[0m\u001b[1m \u001b[0m┃\n",
       "┡━━━━━━━━━━━━━━━━━━━━━━━━━━━╇━━━━━━━━━━━━━━━━━━━━━━━━━━━┩\n",
       "│\u001b[36m \u001b[0m\u001b[36m     test_acc_epoch      \u001b[0m\u001b[36m \u001b[0m│\u001b[35m \u001b[0m\u001b[35m   0.7116671800613403    \u001b[0m\u001b[35m \u001b[0m│\n",
       "│\u001b[36m \u001b[0m\u001b[36m    test_auroc_epoch     \u001b[0m\u001b[36m \u001b[0m│\u001b[35m \u001b[0m\u001b[35m   0.7115934491157532    \u001b[0m\u001b[35m \u001b[0m│\n",
       "│\u001b[36m \u001b[0m\u001b[36m     test_iou_epoch      \u001b[0m\u001b[36m \u001b[0m│\u001b[35m \u001b[0m\u001b[35m   0.5049881935119629    \u001b[0m\u001b[35m \u001b[0m│\n",
       "│\u001b[36m \u001b[0m\u001b[36m     test_loss_epoch     \u001b[0m\u001b[36m \u001b[0m│\u001b[35m \u001b[0m\u001b[35m   0.7459368705749512    \u001b[0m\u001b[35m \u001b[0m│\n",
       "│\u001b[36m \u001b[0m\u001b[36m  test_precision_epoch   \u001b[0m\u001b[36m \u001b[0m│\u001b[35m \u001b[0m\u001b[35m   0.6835940480232239    \u001b[0m\u001b[35m \u001b[0m│\n",
       "│\u001b[36m \u001b[0m\u001b[36m    test_recall_epoch    \u001b[0m\u001b[36m \u001b[0m│\u001b[35m \u001b[0m\u001b[35m    0.648405909538269    \u001b[0m\u001b[35m \u001b[0m│\n",
       "└───────────────────────────┴───────────────────────────┘\n"
      ]
     },
     "metadata": {},
     "output_type": "display_data"
    }
   ],
   "source": [
    "rsp.segmentation.test([[r\"E:\\Work\\numto\\data\\x_train.zarr\", r\"E:\\Work\\numto\\data\\y_rast.zarr\", 'test']], r\"E:\\Work\\numto\\data\\mvitv2_rast.ckpt\")"
   ]
  },
  {
   "cell_type": "markdown",
   "id": "900a9df1-bf87-4aca-8829-4283878ca0d9",
   "metadata": {},
   "source": [
    "### Mapping\n",
    "\n",
    "Here we map the modeling results.\n",
    "\n",
    "First, we map the results for the park area and adjacent areas."
   ]
  },
  {
   "cell_type": "code",
   "execution_count": 2,
   "id": "4478f9dd-dced-4aca-b79d-bf02cbf1c67b",
   "metadata": {},
   "outputs": [
    {
     "name": "stdout",
     "output_type": "stream",
     "text": [
      "[19:52:40] DEBUG: D:\\bld\\xgboost-split_1705650998634\\work\\src\\gbm\\gbtree.cc:130: Using tree method: 3\n"
     ]
    }
   ],
   "source": [
    "rsp.segmentation.generate_map(r\"E:\\Work\\numto\\data\\x_all.zarr\", r\"E:\\Work\\numto\\data\\y_rast.zarr\", r\"E:\\Work\\numto\\data\\dem\\all\\N63E069_FABDEM_V1-0_mosaic_norm.tif\", r\"E:\\Work\\numto\\data\\xgb.joblib\", r\"E:\\Work\\numto\\data\\map_xgb.tif\")"
   ]
  },
  {
   "cell_type": "code",
   "execution_count": 3,
   "id": "e5103720-16fd-4444-b18f-b66d4021a8ca",
   "metadata": {},
   "outputs": [
    {
     "name": "stderr",
     "output_type": "stream",
     "text": [
      "GPU available: True (cuda), used: True\n",
      "TPU available: False, using: 0 TPU cores\n",
      "IPU available: False, using: 0 IPUs\n",
      "HPU available: False, using: 0 HPUs\n",
      "LOCAL_RANK: 0 - CUDA_VISIBLE_DEVICES: [0]\n",
      "C:\\ProgramData\\Anaconda3\\envs\\geo\\lib\\site-packages\\lightning\\pytorch\\trainer\\connectors\\data_connector.py:441: The 'predict_dataloader' does not have many workers which may be a bottleneck. Consider increasing the value of the `num_workers` argument` to `num_workers=15` in the `DataLoader` to improve performance.\n"
     ]
    },
    {
     "data": {
      "application/vnd.jupyter.widget-view+json": {
       "model_id": "cfa2b9951d34456db61b05257a6758ed",
       "version_major": 2,
       "version_minor": 0
      },
      "text/plain": [
       "Predicting: |                                                                                    | 0/? [00:00<…"
      ]
     },
     "metadata": {},
     "output_type": "display_data"
    }
   ],
   "source": [
    "rsp.segmentation.generate_map(r\"E:\\Work\\numto\\data\\x_all.zarr\", r\"E:\\Work\\numto\\data\\y_rast.zarr\", r\"E:\\Work\\numto\\data\\dem\\all\\N63E069_FABDEM_V1-0_mosaic_norm.tif\", r\"E:\\Work\\numto\\data\\deeplab_rn50_rast.ckpt\", r\"E:\\Work\\numto\\data\\map_nn.tif\")"
   ]
  },
  {
   "cell_type": "markdown",
   "id": "f2d76aa3-42ef-4d17-9aa9-1343d3fa8ac0",
   "metadata": {},
   "source": [
    "Then, we map the results for the park area only."
   ]
  },
  {
   "cell_type": "code",
   "execution_count": 13,
   "id": "5776d244-4295-4576-84d4-ffbbb0a7c949",
   "metadata": {},
   "outputs": [
    {
     "name": "stdout",
     "output_type": "stream",
     "text": [
      "[21:34:22] DEBUG: D:\\bld\\xgboost-split_1705650998634\\work\\src\\gbm\\gbtree.cc:130: Using tree method: 3\n"
     ]
    }
   ],
   "source": [
    "rsp.segmentation.generate_map(r\"E:\\Work\\numto\\data\\x_train.zarr\", r\"E:\\Work\\numto\\data\\y_rast.zarr\", r\"E:\\Work\\numto\\data\\dem\\train\\N63E069_FABDEM_V1-0_mosaic_norm.tif\", r\"E:\\Work\\numto\\data\\xgb.joblib\", r\"E:\\Work\\numto\\data\\map_xgb_train.tif\")"
   ]
  },
  {
   "cell_type": "code",
   "execution_count": 14,
   "id": "0b36d14d-2661-4cd3-a5ff-e6671bcd7f84",
   "metadata": {},
   "outputs": [
    {
     "name": "stderr",
     "output_type": "stream",
     "text": [
      "GPU available: True (cuda), used: True\n",
      "TPU available: False, using: 0 TPU cores\n",
      "IPU available: False, using: 0 IPUs\n",
      "HPU available: False, using: 0 HPUs\n",
      "LOCAL_RANK: 0 - CUDA_VISIBLE_DEVICES: [0]\n",
      "C:\\ProgramData\\Anaconda3\\envs\\geo\\lib\\site-packages\\lightning\\pytorch\\trainer\\connectors\\data_connector.py:441: The 'predict_dataloader' does not have many workers which may be a bottleneck. Consider increasing the value of the `num_workers` argument` to `num_workers=15` in the `DataLoader` to improve performance.\n"
     ]
    },
    {
     "data": {
      "application/vnd.jupyter.widget-view+json": {
       "model_id": "67b417d04eb1495290380e96c33bc960",
       "version_major": 2,
       "version_minor": 0
      },
      "text/plain": [
       "Predicting: |                                                                                    | 0/? [00:00<…"
      ]
     },
     "metadata": {},
     "output_type": "display_data"
    }
   ],
   "source": [
    "rsp.segmentation.generate_map(r\"E:\\Work\\numto\\data\\x_train.zarr\", r\"E:\\Work\\numto\\data\\y_rast.zarr\", r\"E:\\Work\\numto\\data\\dem\\train\\N63E069_FABDEM_V1-0_mosaic_norm.tif\", r\"E:\\Work\\numto\\data\\deeplab_rn50_rast.ckpt\", r\"E:\\Work\\numto\\data\\map_nn_train.tif\")"
   ]
  },
  {
   "cell_type": "code",
   "execution_count": null,
   "id": "09ddf931-54d2-43a2-8f4f-c8a81dc8b041",
   "metadata": {},
   "outputs": [],
   "source": []
  }
 ],
 "metadata": {
  "kernelspec": {
   "display_name": "Python 3 (ipykernel)",
   "language": "python",
   "name": "python3"
  },
  "language_info": {
   "codemirror_mode": {
    "name": "ipython",
    "version": 3
   },
   "file_extension": ".py",
   "mimetype": "text/x-python",
   "name": "python",
   "nbconvert_exporter": "python",
   "pygments_lexer": "ipython3",
   "version": "3.11.9"
  }
 },
 "nbformat": 4,
 "nbformat_minor": 5
}
